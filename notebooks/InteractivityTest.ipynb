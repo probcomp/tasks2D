{
 "cells": [
  {
   "cell_type": "code",
   "execution_count": 1,
   "id": "11971b22",
   "metadata": {},
   "outputs": [],
   "source": [
    "using GLMakie"
   ]
  },
  {
   "cell_type": "code",
   "execution_count": 2,
   "id": "d31de551",
   "metadata": {},
   "outputs": [
    {
     "data": {
      "text/plain": [
       "2-element Vector{Point2}:\n",
       " [1, 1]\n",
       " [2, 2]"
      ]
     },
     "execution_count": 2,
     "metadata": {},
     "output_type": "execute_result"
    }
   ],
   "source": [
    "v = Point2[Point2(1, 1)]\n",
    "[v ; [Point2(2, 2)]]"
   ]
  },
  {
   "cell_type": "code",
   "execution_count": 3,
   "id": "24e401de",
   "metadata": {},
   "outputs": [
    {
     "data": {},
     "execution_count": 3,
     "metadata": {},
     "output_type": "execute_result"
    }
   ],
   "source": [
    "f = Figure()\n",
    "ax = Axis(f[1, 1])\n",
    "pts = Observable(Point2f[ Point2(10, 10), Point2(1, 1) ])\n",
    "pts2 = @lift(($pts[end]))\n",
    "scatter!(ax, pts)\n",
    "on(events(ax).keyboardbutton) do event\n",
    "    lastpt = pts[][end]\n",
    "    println(\"lastpt: $lastpt\")\n",
    "    newpt = lastpt + [1, 1]\n",
    "    newpts = [pts[] ; [newpt]]\n",
    "    pts[] = newpts; #[newpt, Point2(10, 10)]\n",
    "    notify(pts)\n",
    "end\n",
    "f"
   ]
  },
  {
   "cell_type": "code",
   "execution_count": 4,
   "id": "f3422c8f",
   "metadata": {},
   "outputs": [
    {
     "data": {
      "text/plain": [
       "GLMakie.Screen(...)"
      ]
     },
     "execution_count": 4,
     "metadata": {},
     "output_type": "execute_result"
    }
   ],
   "source": [
    "display(f)"
   ]
  },
  {
   "cell_type": "code",
   "execution_count": 5,
   "id": "915f0d4c",
   "metadata": {},
   "outputs": [
    {
     "data": {
      "text/plain": [
       "2-element Point{2, Float32} with indices SOneTo(2):\n",
       " 1.0\n",
       " 1.0"
      ]
     },
     "execution_count": 5,
     "metadata": {},
     "output_type": "execute_result"
    }
   ],
   "source": [
    "pts2[]"
   ]
  },
  {
   "cell_type": "code",
   "execution_count": null,
   "id": "1fc8463d",
   "metadata": {},
   "outputs": [],
   "source": []
  }
 ],
 "metadata": {
  "kernelspec": {
   "display_name": "Julia 1.9.0",
   "language": "julia",
   "name": "julia-1.9"
  },
  "language_info": {
   "file_extension": ".jl",
   "mimetype": "application/julia",
   "name": "julia",
   "version": "1.9.0"
  }
 },
 "nbformat": 4,
 "nbformat_minor": 5
}
