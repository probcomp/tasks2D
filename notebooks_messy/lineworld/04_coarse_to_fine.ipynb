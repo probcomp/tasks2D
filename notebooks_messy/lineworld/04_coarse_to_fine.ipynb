{
 "cells": [
  {
   "cell_type": "code",
   "execution_count": 1,
   "id": "b0378d7f",
   "metadata": {},
   "outputs": [
    {
     "name": "stderr",
     "output_type": "stream",
     "text": [
      "\u001b[32m\u001b[1m  Activating\u001b[22m\u001b[39m project at `~/Developer/research/summer2023/tasks2d/Tasks2D`\n"
     ]
    },
    {
     "data": {
      "text/plain": [
       "GenParticleFilters"
      ]
     },
     "metadata": {},
     "output_type": "display_data"
    }
   ],
   "source": [
    "import Pkg\n",
    "Pkg.activate(\"../../Tasks2D\")\n",
    "\n",
    "using Revise, Plots\n",
    "import LineWorlds\n",
    "const L = LineWorlds\n",
    "\n",
    "using Gen\n",
    "import GenPOMDPs\n",
    "import GenParticleFilters\n",
    "const GPF = GenParticleFilters"
   ]
  },
  {
   "cell_type": "code",
   "execution_count": 2,
   "id": "c9516272",
   "metadata": {},
   "outputs": [],
   "source": [
    "_segs, _boxes, _bb, _center, _xs, _hds, _ps, _dxs, _dhds, _us, _T = L.load_env();\n",
    "\n",
    "PARAMS = (;\n",
    "    map = _segs,\n",
    "    orientation = π/2,\n",
    "    bounding_box = L.bounding_box(_segs),\n",
    "    step = (; σ = 0.2),\n",
    "    obs = (;\n",
    "        fov = 2π,\n",
    "        n_rays = 40,\n",
    "        sensor_args = (;\n",
    "            w            = 5,\n",
    "            s_noise      = 0.2,\n",
    "            outlier      = 0.,\n",
    "            outlier_vol = 100.0,\n",
    "            zmax = 100.0\n",
    "        )\n",
    "    )\n",
    ");"
   ]
  },
  {
   "cell_type": "code",
   "execution_count": 3,
   "id": "1fcd91b6",
   "metadata": {},
   "outputs": [],
   "source": [
    "### Initial model ###\n",
    "mvuniform = L.ProductDistribution(uniform);\n",
    "@gen (static) function uniform_agent_pos(params)\n",
    "    w = params.map # a map, represented as list of line segments\n",
    "    \n",
    "    mins, maxs = PARAMS.bounding_box\n",
    "    pos ~ mvuniform(mins, maxs)\n",
    "    \n",
    "    return pos\n",
    "end\n",
    "@load_generated_functions()\n",
    "\n",
    "### Motion model ###\n",
    "# The next position, under a 0-noise model, with no walls.\n",
    "function det_next_pos((x, y), a)\n",
    "    a == :up    ? [x, y + 1] :\n",
    "    a == :down  ? [x, y - 1] : \n",
    "    a == :left  ? [x - 1, y] :\n",
    "    a == :right ? [x + 1, y] :\n",
    "    a == :stay  ? [x, y]     :\n",
    "                error(\"Unrecognized action: $a\")\n",
    "end\n",
    "function handle_wall_intersection(prev, new, walls)\n",
    "    move = L.Segment(prev, new)\n",
    "    for wall in walls\n",
    "        do_intersect, dist = L.Geometry.cast(move, wall)\n",
    "        if do_intersect && dist ≤ L.Geometry.norm(move)\n",
    "            return prev\n",
    "        end\n",
    "    end\n",
    "    return new\n",
    "end\n",
    "@gen (static) function motion_model(prev_pos, action, PARAMS)\n",
    "    np = det_next_pos(prev_pos, action)\n",
    "    pos ~ broadcasted_normal(np, PARAMS.step.σ)\n",
    "    \n",
    "    next_pos = handle_wall_intersection(prev_pos, pos, PARAMS.map)\n",
    "    \n",
    "    return next_pos\n",
    "end\n",
    "\n",
    "### Observation model ###\n",
    "\n",
    "@gen function sensor_model(pos, params)\n",
    "    p = L.Pose(pos, params.orientation)\n",
    "    \n",
    "    w, s_noise, outlier, outlier_vol, zmax = params.obs.sensor_args\n",
    "    \n",
    "    # segs = L.stack(Vector.(params.map))\n",
    "    _as = L.create_angles(params.obs.fov, params.obs.n_rays)\n",
    "    zs = L.cast([p], params.map; num_a=params.obs.n_rays, zmax)\n",
    "    @assert !any(isinf.(zs))\n",
    "    # zs = reshape(dists, (1, :))\n",
    "    ỹ  = L.get_2d_mixture_components(zs, _as, w; fill_val_z=zmax)[1,:,:,:]\n",
    "    @assert !any(isinf.(ỹ))\n",
    "\n",
    "    # Observe a list of points, in the agent's coordinate frame.\n",
    "    obs ~ L.sensordist_2dp3(ỹ, s_noise, outlier, outlier_vol)  \n",
    "\n",
    "    @assert !any(any(isinf.(o)) for o in obs) \"ỹ = $ỹ\"\n",
    "    \n",
    "    return obs\n",
    "end;\n",
    "\n",
    "@load_generated_functions()"
   ]
  },
  {
   "cell_type": "code",
   "execution_count": 4,
   "id": "58c32e38",
   "metadata": {},
   "outputs": [
    {
     "data": {
      "text/plain": [
       "GenPOMDPs.var\"##StaticGenFunction__ControlledTrajectoryModel#394\"(Dict{Symbol, Any}(), Dict{Symbol, Any}())"
      ]
     },
     "metadata": {},
     "output_type": "display_data"
    }
   ],
   "source": [
    "# POMDP of this environment\n",
    "pomdp = GenPOMDPs.GenPOMDP(\n",
    "    uniform_agent_pos,       # INIT   : params                      ⇝ state\n",
    "    motion_model,            # STEP   : prev_state, actions, params ⇝ state\n",
    "    sensor_model,            # OBS    : state, params               ⇝ observation\n",
    "    (state, action) -> 0.    # UTILITY: state, action, params       → utility\n",
    ")\n",
    "\n",
    "# Generative function over trajectories of the POMDP,\n",
    "# given a fixed action sequence.\n",
    "trajectory_model = GenPOMDPs.ControlledTrajectoryModel(pomdp)"
   ]
  },
  {
   "cell_type": "code",
   "execution_count": 5,
   "id": "c11b8c19",
   "metadata": {},
   "outputs": [],
   "source": [
    "tr = generate(trajectory_model, (\n",
    "        15,\n",
    "        [\n",
    "            :down, :down,\n",
    "            :right, :right,\n",
    "            :down, :down, :down, :down,\n",
    "            :down, :right, :right, :right, :right,\n",
    "            :down, :down, :right, :right\n",
    "        ],\n",
    "        PARAMS,\n",
    "    ), choicemap((GenPOMDPs.state_addr(0, :pos), [5., 17.]))\n",
    ")[1];"
   ]
  },
  {
   "cell_type": "code",
   "execution_count": 6,
   "id": "8eb47e53",
   "metadata": {},
   "outputs": [],
   "source": [
    "grid_args = nothing"
   ]
  },
  {
   "cell_type": "code",
   "execution_count": 83,
   "id": "0570be6a",
   "metadata": {},
   "outputs": [
    {
     "data": {
      "text/plain": [
       "TraceTransformDSLProgram(var\"#689###involution_fn!#2527\", nothing)"
      ]
     },
     "metadata": {},
     "output_type": "display_data"
    }
   ],
   "source": [
    "_grid_args = (\n",
    "    k = [9, 9], # grid dimensions for each var\n",
    "    r = [.3, .3] # offsets [per gradation? total??]\n",
    ")\n",
    "@gen function grid_proposal_from_center(pos, t, obs_vector, params, grid_args, tau = 1.0, pmin = 1e-6)\n",
    "    vs, ls = L.vector_grid(pos, grid_args...)\n",
    "    poses = map(v -> L.Pose(v, params.orientation), vs)\n",
    "    _segs = params.map; _as = L.create_angles(params.obs.fov, params.obs.n_rays)\n",
    "    \n",
    "    log_ps, = L.eval_pose_vectors(\n",
    "        Vector.(poses), obs_vector,\n",
    "        _segs, params.obs.sensor_args...; sorted=false,\n",
    "        fov=params.obs.fov, num_a=params.obs.n_rays\n",
    "    );\n",
    "    \n",
    "    log_ps_tau = log_ps ./ tau\n",
    "    probs      = L.normalize_exp(log_ps_tau)\n",
    "    probs      = L.raise_probs(probs, pmin)\n",
    "\n",
    "    # if any(isnan.(probs))\n",
    "    #     println(\"pos = $pos ; poses = $poses ; obs = $obs_vector ; t = $t\")\n",
    "    #     println(\"vs = $vs\")\n",
    "    #     println(\"log_ps = $log_ps\")\n",
    "    # end\n",
    "\n",
    "    # TODO: for some reason we are getting -Infs...is this expected behavior?\n",
    "    probs = any(isnan.(probs)) ? [1/length(probs) for _ in probs] : probs\n",
    "    j ~ categorical(probs)\n",
    "\n",
    "    x′  = {:pos}  ~ mvuniform(vs[j][1:2] -  grid_args.r[1:2]/2, vs[j][1:2] + grid_args.r[1:2]/2)\n",
    "    # hd′ = {:pose => :hd} ~   uniform(vs[j][3]   -  grid_args.r[3]  /2, vs[j][3]   + grid_args.r[3]  /2)\n",
    "\n",
    "    # println(\"T = $t ; x = $pos ; x′ = $x′ ; grid_args = $grid_args\")\n",
    "\n",
    "    \n",
    "    # try\n",
    "    #     L.grid_index(pos, x′, grid_args..., linear=true)\n",
    "    #     l = L.grid_index(x′, pos, grid_args..., linear=true)\n",
    "    #     @assert l == j \"l = $l ; j = $j ; vs[j] = $(vs[j]) ; \"\n",
    "    # catch e\n",
    "    #     println(\"grid_args = $grid_args\")\n",
    "    #     println(\"grid cell: $(vs[j])\")\n",
    "    #     range = (vs[j][1:2] -  grid_args.r[1:2]/2, vs[j][1:2] + grid_args.r[1:2]/2)\n",
    "    #     println(\"sampling range: $range\")\n",
    "    #     println(\"pos = $pos ; x` = $x′\")\n",
    "\n",
    "    #     error(e)\n",
    "    # end\n",
    "\n",
    "\n",
    "#     return Pose(x′, hd′), (j, vs, ls, log_ps)\n",
    "    return j\n",
    "end\n",
    "\n",
    "@gen function grid_proposal(tr, grid_args)\n",
    "    T, actions, params = get_args(tr)\n",
    "    \n",
    "    pos = tr[GenPOMDPs.state_addr(T, :pos)]\n",
    "    obs = tr[GenPOMDPs.obs_addr(T)]\n",
    "\n",
    "    re = {*} ~ grid_proposal_from_center(pos, T, obs, params, grid_args)\n",
    "    \n",
    "    return re\n",
    "end\n",
    "\n",
    "state_addr, obs_addr = GenPOMDPs.state_addr, GenPOMDPs.obs_addr\n",
    "@transform involution (tr, aux) to (tr′, aux′) begin\n",
    "    T, _, _ = get_args(tr)\n",
    "    _, grid_args = get_args(aux)\n",
    "    \n",
    "    x′  = @read(aux[:pos] , :continuous)\n",
    "    x  = @read(tr[state_addr(T, :pos)], :continuous)\n",
    "\n",
    "    j = try\n",
    "        L.grid_index(x, x′, grid_args..., linear=true)\n",
    "    catch e\n",
    "        # println(\"grid_args = $grid_args\")\n",
    "        # println(\"x = $x ; x' = $x′ ; grid = $(L.vector_grid(x′, grid_args...))\")\n",
    "        \n",
    "        vals = []\n",
    "        for t=0:T\n",
    "            push!(vals, @read(tr[GenPOMDPs.state_addr(t, :pos)], :continuous))\n",
    "        end\n",
    "\n",
    "        println(\"T = $T ; vals = $vals\")\n",
    "        error(e)\n",
    "    end\n",
    "    \n",
    "    @write(aux′[:j],   j, :discrete)\n",
    "    @write(aux′[:pos],   x, :continuous)\n",
    "    @write(tr′[GenPOMDPs.state_addr(T, :pos)],  x′, :continuous)\n",
    "end\n"
   ]
  },
  {
   "cell_type": "code",
   "execution_count": 73,
   "id": "9ee381a4",
   "metadata": {},
   "outputs": [],
   "source": []
  },
  {
   "cell_type": "code",
   "execution_count": 100,
   "id": "08795a75",
   "metadata": {},
   "outputs": [],
   "source": [
    "N_ITERS=3\n",
    "\n",
    "(pf_init, pf_step) = GenPOMDPs.pf(\n",
    "    pomdp, PARAMS,\n",
    "    (50,), # particles\n",
    "    (); # bootstrap update\n",
    "    pre_update = (state -> begin\n",
    "        # for i=1:length(state.traces)\n",
    "        #     tr = state.traces[i]\n",
    "        #     tr2, accept = Gen.mh(tr, grid_proposal, (_grid_args,), involution)\n",
    "        #     if accept\n",
    "        #         state.traces[i] = tr\n",
    "        #     end\n",
    "        # end\n",
    "        # GPF.pf_rejuvenate!(state, Gen.mh, (grid_proposal, (_grid_args,), involution), 1)\n",
    "        GenPOMDPs.systematic_resample_if_ess_below_onefifth_particlecount(state)\n",
    "        for i=1:N_ITERS\n",
    "            GPF.pf_rejuvenate!(state, Gen.mh, (grid_proposal, (L.grid_schedule(_grid_args, i),), involution), 4)\n",
    "        end\n",
    "    end)\n",
    ");"
   ]
  },
  {
   "cell_type": "code",
   "execution_count": 101,
   "id": "1b665f27",
   "metadata": {},
   "outputs": [],
   "source": [
    "states = []\n",
    "state = pf_init(GenPOMDPs.observation_sequence(tr)[1]);\n",
    "push!(states, state)\n",
    "for (a, obs) in zip(\n",
    "        GenPOMDPs.action_sequence(tr)[2:end],\n",
    "        GenPOMDPs.observation_sequence(tr)[2:end]\n",
    "    )\n",
    "    state = pf_step(state, a, obs)\n",
    "    push!(states, state)\n",
    "end\n",
    ";"
   ]
  },
  {
   "cell_type": "code",
   "execution_count": 102,
   "id": "388dea8f",
   "metadata": {},
   "outputs": [],
   "source": [
    "poses = [L.Pose(pos, PARAMS.orientation) for pos in GenPOMDPs.state_sequence(tr)]\n",
    "ptclouds = [\n",
    "    obss[:obs].*pose\n",
    "    for (obss, pose) in zip(\n",
    "        GenPOMDPs.observation_sequence(tr),\n",
    "        poses\n",
    "    )\n",
    "];"
   ]
  },
  {
   "cell_type": "code",
   "execution_count": 103,
   "id": "48750d0c",
   "metadata": {},
   "outputs": [
    {
     "name": "stderr",
     "output_type": "stream",
     "text": [
      "┌ Info: Saved animation to /var/folders/df/n4tcxhf52k7_k2161q4gj5ww0000gn/T/jl_vEnCZyxwD4.gif\n",
      "└ @ Plots /Users/georgematheos/.julia/packages/Plots/9Q9pN/src/animation.jl:156\n"
     ]
    },
    {
     "data": {
      "text/html": [
       "<img src=\"data:image/gif;base64,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\" />"
      ],
      "text/plain": [
       "Plots.AnimatedGif(\"/var/folders/df/n4tcxhf52k7_k2161q4gj5ww0000gn/T/jl_vEnCZyxwD4.gif\")"
      ]
     },
     "metadata": {},
     "output_type": "display_data"
    }
   ],
   "source": [
    "using Random\n",
    "# -----------------------\n",
    "col = palette(:default)\n",
    "ani = Animation()\n",
    "for t=0:1:8\n",
    "    p = poses[t + 1]\n",
    "    y = ptclouds[t + 1]\n",
    "\n",
    "    agent_plt = plot(\n",
    "        size=(500,500), aspect_ratio=:equal, title=\"Generated trajectory from POMDP\", grid=false,\n",
    "        xlim=(_bb[1][1]-3, _bb[2][1]+3),\n",
    "        ylim=(_bb[1][2]-3, _bb[2][2]+3),\n",
    "        legend=:bottomleft,\n",
    "    )\n",
    "    plot!(_segs, c=:black, linewidth=1, label=nothing)\n",
    "    plot!([p], c=:red, r=1.0, linewidth=2, label=nothing)\n",
    "    scatter!([p.x], c=:red, label=\"Pose `_ps[t]`\")\n",
    "    scatter!(Random.shuffle(y[1:2:end]), c=col[1], markersize=4, alpha=.7, markerstrokewidth=1, label=\"Obs in pose coords `_ys[t].*_ps[t]`\")\n",
    "\n",
    "    particles = states[t + 2]\n",
    "    labeled=false\n",
    "    for (w, tr) in zip(\n",
    "            GenParticleFilters.get_norm_weights(particles),\n",
    "            GenParticleFilters.get_traces(particles)\n",
    "        )\n",
    "        pos = tr[GenPOMDPs.state_addr(t)]\n",
    "        if !labeled\n",
    "            scatter!([pos], color=RGBA(0, 0, 0, sqrt(w)), label=\"Particle\")\n",
    "            labeled=true\n",
    "        else\n",
    "            scatter!([pos], color=RGBA(0, 0, 0, sqrt(w)), label=nothing)\n",
    "        end\n",
    "    end\n",
    "    \n",
    "    frame(ani, agent_plt)\n",
    "end\n",
    "# gif(ani, \"_imgs/loc_data_gen.gif\", fps=2) # gif(ani, fname, fps=10)\n",
    "gif(ani, fps=3)"
   ]
  },
  {
   "cell_type": "code",
   "execution_count": null,
   "id": "c44b7606",
   "metadata": {},
   "outputs": [],
   "source": []
  },
  {
   "cell_type": "code",
   "execution_count": null,
   "id": "7177b149",
   "metadata": {},
   "outputs": [],
   "source": []
  },
  {
   "cell_type": "code",
   "execution_count": null,
   "id": "6df9dcd1",
   "metadata": {},
   "outputs": [],
   "source": []
  },
  {
   "cell_type": "code",
   "execution_count": 151,
   "id": "d4a32660",
   "metadata": {},
   "outputs": [
    {
     "data": {
      "text/plain": [
       "12.36319030980423"
      ]
     },
     "metadata": {},
     "output_type": "display_data"
    }
   ],
   "source": [
    "minimum(mvuniform([17.747370567968893, 12.363148741773339], [18.247370567968893, 12.863148741773339])[2] for _=1:10_000)"
   ]
  },
  {
   "cell_type": "code",
   "execution_count": null,
   "id": "a51a2e80",
   "metadata": {},
   "outputs": [],
   "source": []
  },
  {
   "cell_type": "code",
   "execution_count": null,
   "id": "dde85304",
   "metadata": {},
   "outputs": [],
   "source": [
    "I = [5, -2] ; k = [3, 3]\n",
    "grid_args = (k = [3, 3], r = [0.25, 0.25])\n",
    "x = [6.494659027373377, 13.592653030977333] ; x' = [5.697090080395847, 14.60199015949514] ; \n",
    "grid = (vs = [[5.447090080395847, 14.35199015949514] [5.447090080395847, 14.60199015949514] [5.447090080395847, 14.85199015949514]; [5.697090080395847, 14.35199015949514] [5.697090080395847, 14.60199015949514] [5.697090080395847, 14.85199015949514]; [5.947090080395847, 14.35199015949514] [5.947090080395847, 14.60199015949514] [5.947090080395847, 14.85199015949514]], linear_indices = [1 4 7; 2 5 8; 3 6 9])"
   ]
  },
  {
   "cell_type": "code",
   "execution_count": null,
   "id": "721bd591",
   "metadata": {},
   "outputs": [],
   "source": []
  },
  {
   "cell_type": "code",
   "execution_count": null,
   "id": "908078b8",
   "metadata": {},
   "outputs": [],
   "source": []
  },
  {
   "cell_type": "code",
   "execution_count": 41,
   "id": "fd9fd2d6",
   "metadata": {},
   "outputs": [
    {
     "data": {
      "text/plain": [
       "(3, 3)"
      ]
     },
     "metadata": {},
     "output_type": "display_data"
    }
   ],
   "source": [
    "shape = Tuple([3, 3])"
   ]
  },
  {
   "cell_type": "code",
   "execution_count": 43,
   "id": "229ca394",
   "metadata": {},
   "outputs": [
    {
     "ename": "BoundsError",
     "evalue": "BoundsError: attempt to access 3×3 LinearIndices{2, Tuple{Base.OneTo{Int64}, Base.OneTo{Int64}}} at index [2, 0]",
     "output_type": "error",
     "traceback": [
      "BoundsError: attempt to access 3×3 LinearIndices{2, Tuple{Base.OneTo{Int64}, Base.OneTo{Int64}}} at index [2, 0]\n",
      "\n",
      "Stacktrace:\n",
      " [1] throw_boundserror(A::LinearIndices{2, Tuple{Base.OneTo{Int64}, Base.OneTo{Int64}}}, I::Tuple{Int64, Int64})\n",
      "   @ Base ./abstractarray.jl:744\n",
      " [2] checkbounds\n",
      "   @ ./abstractarray.jl:709 [inlined]\n",
      " [3] _getindex\n",
      "   @ ./abstractarray.jl:1326 [inlined]\n",
      " [4] getindex(::LinearIndices{2, Tuple{Base.OneTo{Int64}, Base.OneTo{Int64}}}, ::Int64, ::Int64)\n",
      "   @ Base ./abstractarray.jl:1294\n",
      " [5] top-level scope\n",
      "   @ ~/Developer/research/summer2023/tasks2d/notebooks_messy/lineworld/04_coarse_to_fine.ipynb:1"
     ]
    }
   ],
   "source": [
    "LinearIndices(shape)[2, 0]"
   ]
  },
  {
   "cell_type": "code",
   "execution_count": 51,
   "id": "a32d8ab2",
   "metadata": {},
   "outputs": [
    {
     "data": {
      "text/plain": [
       "3×3 Matrix{Vector{Float64}}:\n",
       " [6.0, 15.0]  [6.0, 16.0]  [6.0, 17.0]\n",
       " [7.0, 15.0]  [7.0, 16.0]  [7.0, 17.0]\n",
       " [8.0, 15.0]  [8.0, 16.0]  [8.0, 17.0]"
      ]
     },
     "metadata": {},
     "output_type": "display_data"
    }
   ],
   "source": [
    "pos = [7., 16.]\n",
    "vs = L.vector_grid(pos, [3, 3], [1., 1.])[1]"
   ]
  },
  {
   "cell_type": "code",
   "execution_count": 54,
   "id": "e521e022",
   "metadata": {},
   "outputs": [
    {
     "data": {
      "text/plain": [
       "3×3 Matrix{Int64}:\n",
       " 1  4  7\n",
       " 2  5  8\n",
       " 3  6  9"
      ]
     },
     "metadata": {},
     "output_type": "display_data"
    }
   ],
   "source": [
    "[\n",
    "    L.grid_index(val, pos, [3, 3], [1., 1.], linear=true)\n",
    "    for val in vs\n",
    "]"
   ]
  },
  {
   "cell_type": "code",
   "execution_count": 66,
   "id": "65b73940",
   "metadata": {},
   "outputs": [
    {
     "data": {
      "text/plain": [
       "1"
      ]
     },
     "metadata": {},
     "output_type": "display_data"
    }
   ],
   "source": [
    "pos = [11.202166645314835, 15.75711002643013] ; \n",
    "poses = LineWorlds.Pose[LineWorlds.Pose([10.202166645314835, 14.75711002643013], 1.5707963267948966) LineWorlds.Pose([10.202166645314835, 15.75711002643013], 1.5707963267948966) LineWorlds.Pose([10.202166645314835, 16.75711002643013], 1.5707963267948966); LineWorlds.Pose([11.202166645314835, 14.75711002643013], 1.5707963267948966) LineWorlds.Pose([11.202166645314835, 15.75711002643013], 1.5707963267948966) LineWorlds.Pose([11.202166645314835, 16.75711002643013], 1.5707963267948966); LineWorlds.Pose([12.202166645314835, 14.75711002643013], 1.5707963267948966) LineWorlds.Pose([12.202166645314835, 15.75711002643013], 1.5707963267948966) LineWorlds.Pose([12.202166645314835, 16.75711002643013], 1.5707963267948966)] ; obs = [[100.09445017505114, -0.009568802944666948], [-6.144195539700633, -4.3043397954589295], [-1.9815811551515048, -3.4541056072732568], [-2.1068058219335595, -0.7871729878599241], [-1.9325435863106102, -0.3646079096369304], [-0.4917638530168624, -3.863343362690368], [-1.7857130221615751, -0.632583714561356], [-0.1678024297918534, -3.754078395392016], [1.3970346111569156, -3.5875476886938173], [3.108212837540828, -3.4896082126043115], [1.597008051994408, -3.900670169116124], [3.160958423657619, -3.9791633825661314], [0.46322369084909715, -3.8041471024344116], [1.8011421623378818, -3.610221568271649], [0.7577085292564959, -3.46649206959763], [3.1766942122325785, -2.105076257793844], [1.9896258243660019, -3.7893740190834557], [Inf, Inf], [3.444554309148634, -0.35571825461815243], [3.1217703913566073, -1.477827089139676], [3.489637386847114, 2.9807187307773932], [3.4868675281668744, 0.39234467297479025], [3.2187071232275843, -0.726431543086589], [3.3033731927339525, 0.12393523432432973], [3.0204331161363718, 2.29307477385327], [0.8778144028212731, 4.596515260763492], [3.013309361372807, 3.923030124615729], [0.46317652324177727, 4.922073586605617], [2.0415763575650168, 4.5763628353058605], [3.3005168495036776, 3.1147724281123104], [0.4387419433586629, 4.384359880359607], [-0.435434694373126, 4.715378522739648], [0.8389101014872723, 4.848177337973224], [-1.9726852086758253, 0.5240691459819554], [-1.9446781312509873, 3.8578292221731774], [-1.3144057675055754, 4.507084385991487], [100.00784628809328, 0.029792086737549767], [-4.289494907237328, 3.251289612256636], [100.10477830886163, -0.2781538901358583], [Inf, Inf]] ;\n",
    "t = 1\n"
   ]
  },
  {
   "cell_type": "code",
   "execution_count": null,
   "id": "e82a3e9f",
   "metadata": {},
   "outputs": [],
   "source": [
    "pos = [13.590346343655828, 13.167991594283162] ;\n",
    "poses = LineWorlds.Pose[LineWorlds.Pose([12.590346343655828, 12.167991594283162], 1.5707963267948966) LineWorlds.Pose([12.590346343655828, 13.167991594283162], 1.5707963267948966) LineWorlds.Pose([12.590346343655828, 14.167991594283162], 1.5707963267948966); LineWorlds.Pose([13.590346343655828, 12.167991594283162], 1.5707963267948966) LineWorlds.Pose([13.590346343655828, 13.167991594283162], 1.5707963267948966) LineWorlds.Pose([13.590346343655828, 14.167991594283162], 1.5707963267948966); LineWorlds.Pose([14.590346343655828, 12.167991594283162], 1.5707963267948966) LineWorlds.Pose([14.590346343655828, 13.167991594283162], 1.5707963267948966) LineWorlds.Pose([14.590346343655828, 14.167991594283162], 1.5707963267948966)] ;\n",
    "obs = [[100.04917510143031, -0.028062984710924607], [100.12019673418541, -0.28817717615102495], [-7.719163514559731, -3.7942025955363117], [-5.3098575585109815, -3.8418909577560854], [-1.3295080220985165, -3.955364915827255], [-0.3131444456160588, -3.8913439950014754], [-3.348150058914687, -0.6073282336537124], [0.8288198847811171, -3.4589570746769183], [-0.5167222898295012, -3.9112015850899073], [0.37467332469572034, -3.9623467642260524], [2.251400538198667, -3.722412726309896], [-1.2375887906537173, -3.866440856647253], [2.192366215076808, -2.3932330240284845], [1.9301273304018427, -0.34847227954582094], [1.711377694461622, -0.4283035859031932], [0.9098447787489863, -3.3839412605644954], [1.9840193472641645, -3.0361546896343534], [1.6767842272096822, -0.6901697131689634], [1.805355712125883, -0.8544597818601065], [2.2183461895332903, -2.360179843020587], [1.8750794248903884, -0.07785227726698961], [2.08935311562869, 2.519967617282613], [2.085153049937682, 1.6044439876081182], [2.017118491775327, -0.40310381893206876], [0.8566651460555138, 4.6786029363491615], [1.233480236530009, 4.8668800984286245], [2.00114207783693, 1.7865647141307626], [2.0436805807698777, 2.6997706554141696], [1.2767032101680833, 4.125110832405812], [1.8737179248097033, 3.051245507890202], [0.14194089465823995, 4.660587021212012], [0.8813353454396492, 4.7060428500549465], [-2.8121924619224985, 3.2579433189046743], [-3.379048732160781, 0.8674794500721785], [-0.7397088778286789, 4.808961376141081], [-3.4355313416535362, -0.2899654674100595], [100.24636800262653, 0.1931189772492519], [-2.6606524062789094, 3.932960562427342], [99.86360869634738, 0.0630138815467024], [-3.2073147932586705, 3.703405042557184]] ; t = 0\n",
    "vs = [[12.590346343655828, 12.167991594283162] [12.590346343655828, 13.167991594283162] [12.590346343655828, 14.167991594283162]; [13.590346343655828, 12.167991594283162] [13.590346343655828, 13.167991594283162] [13.590346343655828, 14.167991594283162]; [14.590346343655828, 12.167991594283162] [14.590346343655828, 13.167991594283162] [14.590346343655828, 14.167991594283162]]\n"
   ]
  }
 ],
 "metadata": {
  "kernelspec": {
   "display_name": "Julia 1.9.0",
   "language": "julia",
   "name": "julia-1.9"
  },
  "language_info": {
   "file_extension": ".jl",
   "mimetype": "application/julia",
   "name": "julia",
   "version": "1.9.0"
  }
 },
 "nbformat": 4,
 "nbformat_minor": 5
}
