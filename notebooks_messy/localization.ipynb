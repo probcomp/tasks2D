{
 "cells": [
  {
   "cell_type": "code",
   "execution_count": null,
   "id": "22c40d5c-f4a0-47d5-9d79-cea5b1c7ddcd",
   "metadata": {},
   "outputs": [],
   "source": [
    "# Load the Julia environment needed for this notebook\n",
    "import Pkg\n",
    "Pkg.activate(\"../Tasks2D\")"
   ]
  },
  {
   "cell_type": "code",
   "execution_count": null,
   "id": "6acb9d91-d9d9-4278-b7f3-0e79f7a1cd69",
   "metadata": {},
   "outputs": [],
   "source": [
    "import WGLMakie   # Visualization Library\n",
    "using Revise      # For development; makes it so modifications\n",
    "                  # to imported modules are immediately reflected in this Julia session\n",
    "using Gen         # Gen probabilistic programming library\n",
    "import GenParticleFilters # Additional particle filtering functionality for Gen\n",
    "import GridWorlds # Simple gridworld functionality\n",
    "import LineWorlds\n",
    "const L = LineWorlds\n",
    "import LineWorlds: cast # Ray caster\n",
    "import GenPOMDPs  # Beginnings of a Gen POMDP library\n",
    "\n",
    "import Tasks2D\n",
    "const Utils = Tasks2D.Utils"
   ]
  },
  {
   "cell_type": "code",
   "execution_count": null,
   "id": "3bfc9ae4-8b98-43fe-b73b-b8a7806b957c",
   "metadata": {},
   "outputs": [],
   "source": [
    "# Initial position model\n",
    "\n",
    "# Distribution to sample uniformly from a Julia Set\n",
    "using Tasks2D.Distributions: uniform_from_set\n",
    "\n",
    "@gen (static) function uniform_agent_pos(params)\n",
    "    w = params.map # a map, represented as a GridWorlds.GridWorld\n",
    "    \n",
    "    cell ~ uniform_from_set(GridWorlds.empty_cells(w))\n",
    "    \n",
    "    # Cell (i, j) corresponds to the region from i-1 to i and j-1 to j\n",
    "    x ~ uniform(cell[1] - 1, cell[1])\n",
    "    y ~ uniform(cell[2] - 1, cell[2])\n",
    "    \n",
    "    return [x, y]\n",
    "end"
   ]
  }
 ],
 "metadata": {
  "kernelspec": {
   "display_name": "Julia 1.9.4",
   "language": "julia",
   "name": "julia-1.9"
  },
  "language_info": {
   "file_extension": ".jl",
   "mimetype": "application/julia",
   "name": "julia",
   "version": "1.9.4"
  }
 },
 "nbformat": 4,
 "nbformat_minor": 5
}
