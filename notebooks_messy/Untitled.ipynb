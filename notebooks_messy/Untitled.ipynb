{
 "cells": [
  {
   "cell_type": "code",
   "execution_count": 1,
   "id": "d9de1502",
   "metadata": {},
   "outputs": [],
   "source": [
    "using WGLMakie"
   ]
  },
  {
   "cell_type": "code",
   "execution_count": null,
   "id": "ffeafcd5",
   "metadata": {},
   "outputs": [],
   "source": [
    "f = Figure()\n",
    "ax = f[1, 1]\n",
    "\n",
    "observable = Observable(Point2[\n",
    "        Point2(0, 0), Point2(100, 100)\n",
    "    ])\n",
    "\n",
    "scatter!(ax, observable)\n",
    "\n",
    "on(events(ax).key)"
   ]
  }
 ],
 "metadata": {
  "kernelspec": {
   "display_name": "Julia 1.9.0",
   "language": "julia",
   "name": "julia-1.9"
  },
  "language_info": {
   "file_extension": ".jl",
   "mimetype": "application/julia",
   "name": "julia",
   "version": "1.9.0"
  }
 },
 "nbformat": 4,
 "nbformat_minor": 5
}
