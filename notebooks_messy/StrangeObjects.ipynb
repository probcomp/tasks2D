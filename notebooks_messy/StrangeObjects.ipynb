{
 "cells": [
  {
   "cell_type": "code",
   "execution_count": 1,
   "id": "492e53e5-cb13-4af6-9690-759b95a8b5e3",
   "metadata": {
    "tags": []
   },
   "outputs": [
    {
     "name": "stderr",
     "output_type": "stream",
     "text": [
      "\u001b[32m\u001b[1m  Activating\u001b[22m\u001b[39m project at `~/Developer/research/fall2023/cocosci/tasks2D/Tasks2D`\n"
     ]
    }
   ],
   "source": [
    "# Load the Julia environment needed for this notebook\n",
    "import Pkg\n",
    "Pkg.activate(\"../Tasks2D\")"
   ]
  },
  {
   "cell_type": "code",
   "execution_count": 2,
   "id": "0e512ae8-ea79-4857-8610-e960f93ad6e3",
   "metadata": {
    "tags": []
   },
   "outputs": [
    {
     "name": "stderr",
     "output_type": "stream",
     "text": [
      "\u001b[36m\u001b[1m[ \u001b[22m\u001b[39m\u001b[36m\u001b[1mInfo: \u001b[22m\u001b[39mPrecompiling GridWorlds [c15fd557-8ec5-4bf9-9d87-df57ac477796]\n"
     ]
    }
   ],
   "source": [
    "import Makie   # Visualization Library\n",
    "using Revise      # For development; makes it so modifications\n",
    "                  # to imported modules are immediately reflected in this Julia session\n",
    "using Gen         # Gen probabilistic programming library\n",
    "import GenParticleFilters # Additional particle filtering functionality for Gen\n",
    "import GridWorlds # Simple gridworld functionality\n",
    "import LineWorlds\n",
    "const L = LineWorlds\n",
    "import LineWorlds: cast # Ray caster\n",
    "import GenPOMDPs  # Beginnings of a Gen POMDP library\n",
    "\n",
    "import Tasks2D\n",
    "\n",
    "includet(\"SLAM/Utils.jl\")"
   ]
  },
  {
   "cell_type": "code",
   "execution_count": 3,
   "id": "f55630a1",
   "metadata": {},
   "outputs": [],
   "source": [
    "import LinearAlgebra"
   ]
  },
  {
   "cell_type": "code",
   "execution_count": 4,
   "id": "5c0fea3a-5748-479d-a252-85de2bbcb9c7",
   "metadata": {
    "tags": []
   },
   "outputs": [
    {
     "name": "stderr",
     "output_type": "stream",
     "text": [
      "WARNING: replacing module Utils.\n"
     ]
    },
    {
     "data": {
      "text/plain": [
       "Main.Utils.MappedUniform()"
      ]
     },
     "execution_count": 4,
     "metadata": {},
     "output_type": "execute_result"
    }
   ],
   "source": [
    "include(\"SLAM/Utils.jl\")\n",
    "Utils.mapped_uniform"
   ]
  },
  {
   "cell_type": "code",
   "execution_count": 5,
   "id": "313c14b7-1f1d-4698-b01c-eec1933bb749",
   "metadata": {
    "tags": []
   },
   "outputs": [],
   "source": [
    "import GLMakie\n",
    "GLMakie.activate!()"
   ]
  },
  {
   "cell_type": "markdown",
   "id": "ef3b173b",
   "metadata": {},
   "source": [
    "state = (position, time, has_ever_hit_a_wall)"
   ]
  },
  {
   "cell_type": "code",
   "execution_count": 6,
   "id": "2a9f0278-b761-4322-ad3f-3d415bec205c",
   "metadata": {},
   "outputs": [
    {
     "data": {
      "text/plain": [
       "var\"##StaticGenFunction_uniform_agent_pos#317\"(Dict{Symbol, Any}(), Dict{Symbol, Any}())"
      ]
     },
     "execution_count": 6,
     "metadata": {},
     "output_type": "execute_result"
    }
   ],
   "source": [
    "# Initial position model\n",
    "\n",
    "# Distribution to sample uniformly from a Julia Set\n",
    "using Tasks2D.Distributions: uniform_from_set\n",
    "\n",
    "@gen (static) function uniform_agent_pos(t_to_params)\n",
    "    w = t_to_params(0).map # a map, represented as a GridWorlds.GridWorld\n",
    "    \n",
    "    cell ~ uniform_from_set(GridWorlds.empty_cells(w))\n",
    "    \n",
    "    # Cell (i, j) corresponds to the region from i-1 to i and j-1 to j\n",
    "    x ~ uniform(cell[1] - 1, cell[1])\n",
    "    y ~ uniform(cell[2] - 1, cell[2])\n",
    "    \n",
    "    return ([x, y], 0, false)\n",
    "end"
   ]
  },
  {
   "cell_type": "code",
   "execution_count": 7,
   "id": "079c3b8b-48cc-4212-ae81-820c3af3df04",
   "metadata": {},
   "outputs": [
    {
     "data": {
      "text/plain": [
       "handle_wall_intersection (generic function with 1 method)"
      ]
     },
     "execution_count": 7,
     "metadata": {},
     "output_type": "execute_result"
    }
   ],
   "source": [
    "function det_next_pos(pos, a, Δ)\n",
    "    (x, y) = pos\n",
    "    a == :up    ? [x, y + Δ] :\n",
    "    a == :down  ? [x, y - Δ] : \n",
    "    a == :left  ? [x - Δ, y] :\n",
    "    a == :right ? [x + Δ, y] :\n",
    "    a == :stay  ? [x, y]     :\n",
    "                error(\"Unrecognized action: $a\")\n",
    "end\n",
    "\n",
    "function handle_wall_intersection(prev, new, gridworld)\n",
    "    walls = GridWorlds.nonempty_segments(gridworld)\n",
    "    move = L.Segment(prev, new)\n",
    "    \n",
    "    min_collision_dist = Inf\n",
    "    vec_to_min_dist_collision = nothing\n",
    "    for i in 1:(size(walls)[1])\n",
    "        wall = walls[i, :]\n",
    "        # print(\"wall: $wall\")\n",
    "        do_intersect, dist = L.Geometry.cast(move, L.Segment(wall))\n",
    "\n",
    "        if do_intersect && dist ≤ L.Geometry.norm(move)\n",
    "            if dist < min_collision_dist\n",
    "                min_collision_dist = dist\n",
    "                vec_to_min_dist_collision = L.Geometry.diff(move)\n",
    "            end\n",
    "        end\n",
    "    end\n",
    "    \n",
    "    if !isnothing(vec_to_min_dist_collision)\n",
    "        dist = min_collision_dist\n",
    "        if dist < 0.05\n",
    "            return (prev, true)\n",
    "        else\n",
    "            normalized_vec = (vec_to_min_dist_collision / L.Geometry.norm(vec_to_min_dist_collision))\n",
    "            collision_pt = prev + (dist - 0.04) * normalized_vec\n",
    "            return (collision_pt, true)\n",
    "        end\n",
    "    end\n",
    "    \n",
    "    return (new, false)\n",
    "end"
   ]
  },
  {
   "cell_type": "code",
   "execution_count": 8,
   "id": "efcc51e8-203a-4d6b-8bfe-3eb6580aae73",
   "metadata": {},
   "outputs": [
    {
     "data": {
      "text/plain": [
       "var\"##StaticGenFunction_motion_model#355\"(Dict{Symbol, Any}(), Dict{Symbol, Any}())"
      ]
     },
     "execution_count": 8,
     "metadata": {},
     "output_type": "execute_result"
    }
   ],
   "source": [
    "@gen (static) function motion_model(state, action, t_to_params)\n",
    "    (a, wall_clock_time) = action\n",
    "    (pos, t_prev, prev_hit_wall) = state\n",
    "    params = t_to_params(t_prev + 1)\n",
    "    w, σ = params.map, params.step.σ\n",
    "    \n",
    "    next_pos_det = det_next_pos(pos, a, params.step.Δ)\n",
    "    noisy_next_pos ~ broadcasted_normal(next_pos_det, params.step.σ)\n",
    "    (next_pos, hit_wall) = handle_wall_intersection(pos, noisy_next_pos, w)\n",
    "    \n",
    "    return (next_pos, t_prev + 1, prev_hit_wall || hit_wall)\n",
    "end"
   ]
  },
  {
   "cell_type": "code",
   "execution_count": null,
   "id": "494c3971",
   "metadata": {},
   "outputs": [],
   "source": []
  },
  {
   "cell_type": "code",
   "execution_count": 9,
   "id": "0ce69a83-8fa6-4eca-af79-de37fc5a1d16",
   "metadata": {},
   "outputs": [
    {
     "data": {
      "text/plain": [
       "DynamicDSLFunction{Any}(Dict{Symbol, Any}(), Dict{Symbol, Any}(), Type[Any, Any], false, Union{Nothing, Some{Any}}[nothing, nothing], var\"##observe_noisy_distances#363\", Bool[0, 0], false)"
      ]
     },
     "execution_count": 9,
     "metadata": {},
     "output_type": "execute_result"
    }
   ],
   "source": [
    "@gen function observe_noisy_distances(state, t_to_params)\n",
    "    (pos, t, _) = state\n",
    "    params = t_to_params(t)\n",
    "\n",
    "    p = reshape([pos..., params.obs.orientation], (1, 3))\n",
    "    _as = L.create_angles(params.obs.fov, params.obs.n_rays)\n",
    "    wall_segs = GridWorlds.wall_segments(params.map)\n",
    "    strange_segs = GridWorlds.strange_segments(params.map)\n",
    "    \n",
    "    w, s_noise, outlier, outlier_vol, zmax = params.obs.wall_sensor_args\n",
    "    dists_walls = L.cast(p, wall_segs; num_a=params.obs.n_rays, zmax)\n",
    "    dists_walls = reshape(dists_walls, (:,))\n",
    "\n",
    "    w, s_noise, outlier, outlier_vol, zmax = params.obs.strange_sensor_args\n",
    "    dists_strange = L.cast(p, strange_segs; num_a=params.obs.n_rays, zmax)\n",
    "    dists_strange = reshape(dists_strange, (:,))\n",
    "\n",
    "    is_wall_measurement = [w < s for (w, s) in zip(dists_walls, dists_strange)]\n",
    "    wall_measurements = dists_walls[is_wall_measurement]\n",
    "    \n",
    "    σ_wall = params.obs.wall_sensor_args.σ\n",
    "    noisy_wall_measurements ~ Gen.broadcasted_normal(wall_measurements, s_noise)\n",
    "\n",
    "    strange_measurements = dists_strange[[!w for w in is_wall_measurement]]\n",
    "    if !isempty(strange_measurements)\n",
    "        mins = [params.obs.strange_sensor_args.dist_to_zmin(m) for m in strange_measurements]\n",
    "        maxs = [params.obs.strange_sensor_args.dist_to_zmax(m) for m in strange_measurements]\n",
    "        noisy_strange_measurements ~ Utils.mapped_uniform(mins, maxs)\n",
    "    else\n",
    "        noisy_strange_measurements = []\n",
    "    end\n",
    "\n",
    "    obs = []\n",
    "    wall_ctr = 1\n",
    "    strange_ctr = 1\n",
    "    for i in 1:params.obs.n_rays\n",
    "        if is_wall_measurement[i]\n",
    "            push!(obs, noisy_wall_measurements[wall_ctr])\n",
    "            wall_ctr += 1\n",
    "        else\n",
    "            push!(obs, noisy_strange_measurements[strange_ctr])\n",
    "            strange_ctr += 1\n",
    "        end\n",
    "    end\n",
    "    # dists = min.(dists_walls, dists_strange)\n",
    "    # dists = reshape(dists, (:,))\n",
    "\n",
    "    # # get vector of sigmas, to apply to `dists`\n",
    "    # # params.obs.sensor_args.σ_wall for walls; params.obs.sensor_args.σ_strange for strange\n",
    "    # # σ_strange = params.obs.strange_sensor_args.σ\n",
    "    # sigmas = [w < s ? σ_wall : σ_strange for (w, s) in zip(dists_walls, dists_strange)]\n",
    "    # sigmas = reshape(sigmas, (:,))\n",
    "\n",
    "    # obs ~ Gen.mvnormal(dists, LinearAlgebra.Diagonal(sigmas))\n",
    "    return obs\n",
    "end"
   ]
  },
  {
   "cell_type": "code",
   "execution_count": 10,
   "id": "5837a12e-5eb7-46da-b4d4-e344f35e8fd9",
   "metadata": {
    "tags": []
   },
   "outputs": [
    {
     "data": {
      "text/plain": [
       "GenPOMDPs.GenPOMDP(var\"##StaticGenFunction_uniform_agent_pos#317\"(Dict{Symbol, Any}(), Dict{Symbol, Any}()), var\"##StaticGenFunction_motion_model#355\"(Dict{Symbol, Any}(), Dict{Symbol, Any}()), DynamicDSLFunction{Any}(Dict{Symbol, Any}(), Dict{Symbol, Any}(), Type[Any, Any], false, Union{Nothing, Some{Any}}[nothing, nothing], var\"##observe_noisy_distances#363\", Bool[0, 0], false), var\"#69#70\"())"
      ]
     },
     "execution_count": 10,
     "metadata": {},
     "output_type": "execute_result"
    }
   ],
   "source": [
    "# POMDP of this environment\n",
    "pomdp = GenPOMDPs.GenPOMDP(\n",
    "    uniform_agent_pos,       # INIT   : params                      ⇝ state\n",
    "    motion_model,            # STEP   : prev_state, actions, params ⇝ state\n",
    "    observe_noisy_distances, # OBS    : state, params               ⇝ observation\n",
    "    (state, action) -> 0.    # UTILITY: state, action, params       → utility\n",
    ")"
   ]
  },
  {
   "cell_type": "code",
   "execution_count": 11,
   "id": "204c2329-a938-4e58-aac0-c81737db7168",
   "metadata": {
    "tags": []
   },
   "outputs": [
    {
     "data": {
      "text/plain": [
       "GenPOMDPs.var\"##StaticGenFunction__ControlledTrajectoryModel#435\"(Dict{Symbol, Any}(), Dict{Symbol, Any}())"
      ]
     },
     "execution_count": 11,
     "metadata": {},
     "output_type": "execute_result"
    }
   ],
   "source": [
    "# Generative function over trajectories of the POMDP,\n",
    "# given a fixed action sequence.\n",
    "trajectory_model = GenPOMDPs.ControlledTrajectoryModel(pomdp)"
   ]
  },
  {
   "cell_type": "code",
   "execution_count": 12,
   "id": "12a7671c-410e-4012-9e5c-d008bf4196ae",
   "metadata": {
    "tags": []
   },
   "outputs": [],
   "source": [
    "function get_posobs_seq(groundtruth_trace)\n",
    "    return map(\n",
    "        trace -> (\n",
    "            [p for (p, t, h) in GenPOMDPs.state_sequence(trace)],\n",
    "            [reshape(o, (:,)) for o in GenPOMDPs.observation_retval_sequence(trace)]\n",
    "        ),\n",
    "        groundtruth_trace\n",
    "    )\n",
    "end\n",
    "function get_obs_seq(groundtruth_trace)\n",
    "    return map(\n",
    "        trace -> [reshape(o, (:,)) for o in GenPOMDPs.observation_retval_sequence(trace)],\n",
    "        groundtruth_trace\n",
    "    )\n",
    "end\n",
    "\n",
    "using Dates\n",
    "\n",
    "function get_save_tr(tr)\n",
    "    function save_tr(viz_actions)\n",
    "        filename = \"saves/\" * string(now()) * \"__pomdp_trace.jld\"\n",
    "        Utils.serialize_trace_and_viz_actions(filename, tr[];\n",
    "            viz_actions=viz_actions,\n",
    "            # args_to_serializeable = args -> (args[1:2]..., args[3].params)\n",
    "        )\n",
    "    end\n",
    "    return save_tr\n",
    "end\n",
    "\n",
    "function get_take_action(_take_action)\n",
    "    function take_action(a)\n",
    "        _take_action((a, Dates.now()))\n",
    "    end\n",
    "    return take_action\n",
    "end\n",
    "function get_interactive_trace(args...; kwargs...)\n",
    "    (trace, _take_action) = GenPOMDPs.interactive_world_trace(args...; kwargs...)\n",
    "    return (trace, get_take_action(_take_action))\n",
    "end\n",
    "function make_trace_interactive(args...; kwargs...)\n",
    "    (trace, _take_action) = GenPOMDPs.make_trace_interactive(args...; kwargs...)\n",
    "    return (trace, get_take_action(_take_action))\n",
    "end\n",
    "\n",
    "function get_did_hitwall_observable(trace)\n",
    "    return map(trace -> GenPOMDPs.state_sequence(trace)[end][3], trace)\n",
    "end\n",
    "function close_window(f)\n",
    "    glfw_window = GLMakie.to_native(display(f))\n",
    "    GLMakie.GLFW.SetWindowShouldClose(glfw_window, true)\n",
    "end\n",
    "\n",
    "function get_action_times_observable(trace)\n",
    "    return map(trace -> [t for (a, t) in GenPOMDPs.action_sequence(trace)], trace)\n",
    "end\n",
    "function get_timing_args(trace; speedup_factor=1, max_delay=5) # 5 seconds max delay\n",
    "    return (get_action_times_observable(trace), speedup_factor, max_delay)\n",
    "end\n",
    "\n",
    "struct ConstantTToParams\n",
    "    params\n",
    "end\n",
    "(p::ConstantTToParams)(t) = p.params\n",
    "\n",
    "struct SwitchTToParams\n",
    "    params1\n",
    "    params2\n",
    "    switch\n",
    "end\n",
    "(p::SwitchTToParams)(t::Makie.Observable) = p(t[])\n",
    "(p::SwitchTToParams)(t) = p.switch(t) ? p.params1 : p.params2\n",
    "\n",
    "struct TimedSwitchTToParams\n",
    "    params1\n",
    "    params2\n",
    "    timewindows_params1\n",
    "    timewindows_params2\n",
    "end\n",
    "(p::TimedSwitchTToParams)(t::Makie.Observable) = p(t[])\n",
    "function (p::TimedSwitchTToParams)(t)\n",
    "    for (start, stop) in p.timewindows_params1\n",
    "        if start ≤ t ≤ stop\n",
    "            return p.params1\n",
    "        end\n",
    "    end\n",
    "    for (start, stop) in p.timewindows_params2\n",
    "        if start ≤ t ≤ stop\n",
    "            return p.params2\n",
    "        end\n",
    "    end\n",
    "    error(\"No time window found for time $t\")\n",
    "end"
   ]
  },
  {
   "cell_type": "code",
   "execution_count": 13,
   "id": "b07fe72c",
   "metadata": {},
   "outputs": [],
   "source": [
    "struct DistanceToConstant\n",
    "    c\n",
    "end\n",
    "(d::DistanceToConstant)(x) = d.c\n",
    "struct MultiplyDistanceByConstant\n",
    "    c\n",
    "end\n",
    "(d::MultiplyDistanceByConstant)(x) = x * d.c"
   ]
  },
  {
   "cell_type": "code",
   "execution_count": 81,
   "id": "503d089d-b461-4115-9b73-f726dafe279a",
   "metadata": {
    "tags": []
   },
   "outputs": [],
   "source": [
    "MAP_W_STRANGE = GridWorlds.load_custom_map(4)\n",
    "MAP_WOUT_STRANGE = GridWorlds.load_custom_map(5)\n",
    "_get_params(map) = (;\n",
    "    # map = GridWorlds.load_custom_map(5),\n",
    "    map=map,\n",
    "    step = (; Δ = .5, σ = 0.005),\n",
    "    obs = (; fov = 2π, n_rays = 90, orientation = π/2,\n",
    "        # I think currently only σ is used\n",
    "        wall_sensor_args = (;\n",
    "            w = 5, s_noise = 0.02,\n",
    "            outlier = 0.0001,\n",
    "            outlier_vol = 100.0,\n",
    "            zmax = 100.0, σ=0.005\n",
    "        ),\n",
    "\n",
    "        strange_sensor_args = (;\n",
    "            w = 5, s_noise = 0.02,\n",
    "            outlier = 0.0001,\n",
    "            outlier_vol = 100.0,\n",
    "            zmax = 100.0, σ=5.5,\n",
    "            dist_to_zmin = DistanceToConstant(1.0),\n",
    "            dist_to_zmax = MultiplyDistanceByConstant(2.5)\n",
    "            # min_dist=1.0\n",
    "            # max_dist=10.0\n",
    "        )\n",
    "    )\n",
    ")\n",
    "\n",
    "T_TO_PARAMS = TimedSwitchTToParams(\n",
    "    _get_params(MAP_W_STRANGE),\n",
    "    _get_params(MAP_WOUT_STRANGE),\n",
    "    ((6, Inf),),\n",
    "    ((-Inf, 6),),\n",
    ")\n",
    "# T_TO_PARAMS = ConstantTToParams(_PARAMS)\n",
    "T_TO_PARAMS(0);"
   ]
  },
  {
   "cell_type": "code",
   "execution_count": 82,
   "id": "9321f581-3f9d-404a-8689-0f7f279596c0",
   "metadata": {
    "tags": []
   },
   "outputs": [],
   "source": [
    "world_trace, take_action = get_interactive_trace(\n",
    "    trajectory_model, T_TO_PARAMS,\n",
    "    choicemap((GenPOMDPs.state_addr(0, :cell), (3, 3)))  \n",
    ");"
   ]
  },
  {
   "cell_type": "code",
   "execution_count": null,
   "id": "ebd24656",
   "metadata": {},
   "outputs": [],
   "source": []
  },
  {
   "cell_type": "code",
   "execution_count": 83,
   "id": "9dd2dc13",
   "metadata": {},
   "outputs": [
    {
     "data": {
      "text/plain": [
       "GLMakie.Screen(...)"
      ]
     },
     "execution_count": 83,
     "metadata": {},
     "output_type": "execute_result"
    },
    {
     "name": "stdout",
     "output_type": "stream",
     "text": [
      "Trace & viz actions serialized to saves/2023-12-13T15:17:15.827__pomdp_trace.jld.\n",
      "Trace & viz actions serialized to saves/2023-12-13T15:17:19__pomdp_trace.jld.\n"
     ]
    }
   ],
   "source": [
    "(f, t, actions) = GridWorlds.Viz.interactive_gui(\n",
    "    t -> T_TO_PARAMS(t).map, get_posobs_seq(world_trace), take_action,\n",
    "    save_fn=get_save_tr(world_trace),\n",
    "    show_lines_to_walls=true,\n",
    "    framerate=8,\n",
    "    close_on_hitwall=true,\n",
    "    did_hitwall_observable=get_did_hitwall_observable(world_trace),\n",
    "    close_window=close_window,\n",
    "\n",
    "    # For playback\n",
    "    timing_args=get_timing_args(world_trace; speedup_factor=1, max_delay=5)\n",
    ")\n",
    "display(f)"
   ]
  },
  {
   "cell_type": "code",
   "execution_count": 79,
   "id": "31143f7c-4f46-4aa9-a409-63fcf112224d",
   "metadata": {
    "tags": []
   },
   "outputs": [
    {
     "data": {
      "text/plain": [
       "GLMakie.Screen(...)"
      ]
     },
     "execution_count": 79,
     "metadata": {},
     "output_type": "execute_result"
    }
   ],
   "source": [
    "(f, t, actions) = GridWorlds.Viz.interactive_gui(\n",
    "    t -> T_TO_PARAMS(t).map, get_posobs_seq(world_trace), take_action,\n",
    "    save_fn=get_save_tr(world_trace),\n",
    "    show_lines_to_walls=false,\n",
    "    framerate=8,\n",
    "    close_on_hitwall=true,\n",
    "    did_hitwall_observable=get_did_hitwall_observable(world_trace),\n",
    "    close_window=close_window,\n",
    "\n",
    "    # For playback\n",
    "    timing_args=get_timing_args(world_trace; speedup_factor=1, max_delay=5)\n",
    ")\n",
    "display(f)"
   ]
  },
  {
   "cell_type": "markdown",
   "id": "869c277b",
   "metadata": {},
   "source": [
    "### Agent view"
   ]
  },
  {
   "cell_type": "code",
   "execution_count": 80,
   "id": "82e17666-8874-4c0e-abea-338c63a99a91",
   "metadata": {
    "tags": []
   },
   "outputs": [
    {
     "data": {
      "text/plain": [
       "GLMakie.Screen(...)"
      ]
     },
     "execution_count": 80,
     "metadata": {},
     "output_type": "execute_result"
    }
   ],
   "source": [
    "(f, t, actions) = GridWorlds.Viz.play_as_agent_gui(\n",
    "    get_obs_seq(world_trace),\n",
    "    take_action,\n",
    "    show_lines_to_walls=false,\n",
    "    save_fn=get_save_tr(world_trace),\n",
    "    framerate=8,\n",
    "    close_on_hitwall=true,\n",
    "    did_hitwall_observable=get_did_hitwall_observable(world_trace),\n",
    "    close_window=close_window,\n",
    "\n",
    "    timing_args=get_timing_args(world_trace; speedup_factor=1, max_delay=5)\n",
    ")\n",
    "display(f)"
   ]
  },
  {
   "cell_type": "code",
   "execution_count": 77,
   "id": "2418011b",
   "metadata": {},
   "outputs": [
    {
     "name": "stdout",
     "output_type": "stream",
     "text": [
      "Trace & viz actions serialized to saves/2023-12-13T14:45:20.944__pomdp_trace.jld.\n"
     ]
    }
   ],
   "source": [
    "# times = map(x -> x[2], GenPOMDPs.action_sequence(world_trace[]))\n",
    "# times[2:end] - times[1:(end-1)]"
   ]
  },
  {
   "cell_type": "markdown",
   "id": "9f7788c7",
   "metadata": {},
   "source": [
    "## Load saved trace"
   ]
  },
  {
   "cell_type": "code",
   "execution_count": null,
   "id": "d7eaab38",
   "metadata": {},
   "outputs": [
    {
     "data": {
      "text/plain": [
       "false"
      ]
     },
     "execution_count": 76,
     "metadata": {},
     "output_type": "execute_result"
    }
   ],
   "source": [
    "_noise_enabled = false"
   ]
  },
  {
   "cell_type": "code",
   "execution_count": 14,
   "id": "665b91b1-9622-41ed-b963-3bee730df746",
   "metadata": {},
   "outputs": [
    {
     "data": {
      "text/plain": [
       "GLMakie.Screen(...)"
      ]
     },
     "execution_count": 14,
     "metadata": {},
     "output_type": "execute_result"
    }
   ],
   "source": [
    "tr2, viz_actions = Utils.deserialize_trace_and_viz_actions(\n",
    "    # \"saves/2023-12-12T15:51:18.757__pomdp_trace.jld\",\n",
    "    # \"saves/2023-12-12T16:47:41.689__pomdp_trace.jld\",\n",
    "    # \"saves/2023-12-12T17:07:55.823__pomdp_trace.jld\",\n",
    "    # \"saves/2023-12-12T17:10:15.804__pomdp_trace.jld\",\n",
    "    # \"saves/2023-12-12T17:45:51.846__pomdp_trace.jld\",\n",
    "    # \"saves/2023-12-12T20:21:58.518__pomdp_trace.jld\",\n",
    "    # \"saves/2023-12-12T20:23:53.018__pomdp_trace.jld\",\n",
    "    # \"saves/2023-12-12T20:25:10.383__pomdp_trace.jld\",\n",
    "    # \"saves/2023-12-12T20:44:22.276__pomdp_trace.jld\",\n",
    "    # \"saves/2023-12-12T20:49:13.392__pomdp_trace.jld\",\n",
    "    # \"saves/2023-12-12T20:49:13.392__pomdp_trace.jld\",\n",
    "    # \"saves/2023-12-12T20:52:10.206__pomdp_trace.jld\",\n",
    "    # \"saves/2023-12-12T21:02:18.894__pomdp_trace.jld\",\n",
    "    # \"saves/2023-12-12T21:00:33.101__pomdp_trace.jld\",\n",
    "    # \"saves/2023-12-12T20:49:13.392__pomdp_trace.jld\",\n",
    "    # \"saves/2023-12-12T20:52:10.206__pomdp_trace.jld\",\n",
    "    # \"saves/2023-12-13T14:23:50.487__pomdp_trace.jld\",\n",
    "    # \"saves/2023-12-13T14:26:06.838__pomdp_trace.jld\",\n",
    "    # \"saves/2023-12-13T14:28:28.878__pomdp_trace.jld\",\n",
    "    # \"saves/2023-12-13T14:30:52.756__pomdp_trace.jld\",\n",
    "    # \"saves/2023-12-13T14:45:20.944__pomdp_trace.jld\",\n",
    "    # \"saves/2023-12-13T14:48:28.013__pomdp_trace.jld\",\n",
    "    \"saves/2023-12-13T15:17:19__pomdp_trace.jld\",\n",
    "\n",
    "    # clean version - saves/2023-12-12T20:52:10.206__pomdp_trace.jld\n",
    "    # noisy version - saves/2023-12-12T20:49:13.392__pomdp_trace.jld\n",
    "\n",
    "    # map 18 - clean - saves/2023-12-12T21:00:33.101__pomdp_trace.jld\n",
    "    # map 18 - noisy - saves/2023-12-12T21:02:18.894__pomdp_trace.jld\n",
    "    trajectory_model,\n",
    "    # args_from_serializeable=(args -> (args[1:2]..., ConstantTToParams(args[3]))),\n",
    "    # args_from_serializeable=(args -> (\n",
    "    #         args[1:2]...,\n",
    "    #         SwitchTToParams(_PARAMS_CLEAN, _PARAMS_NOISY, t -> t < 60 || !_noise_enabled)\n",
    "    #     ))\n",
    "    );\n",
    "trace2, take_action2 = make_trace_interactive(tr2);\n",
    "\n",
    "(f, t, _replay_actions) = GridWorlds.Viz.play_as_agent_gui(\n",
    "    get_obs_seq(trace2),\n",
    "    take_action2,\n",
    "    show_lines_to_walls=false,\n",
    "    save_fn=get_save_tr(trace2),\n",
    "    framerate=8,\n",
    "\n",
    "    # Timing control for playback\n",
    "    timing_args=get_timing_args(trace2; speedup_factor=3, max_delay=5)\n",
    ")\n",
    "display(f)"
   ]
  },
  {
   "cell_type": "code",
   "execution_count": 25,
   "id": "d3319d53",
   "metadata": {},
   "outputs": [
    {
     "data": {
      "text/plain": [
       "238495 milliseconds"
      ]
     },
     "execution_count": 25,
     "metadata": {},
     "output_type": "execute_result"
    }
   ],
   "source": [
    "times = map(x -> x[2], GenPOMDPs.action_sequence(trace2[]))\n",
    "maximum(times[2:end] - times[1:end-1])"
   ]
  },
  {
   "cell_type": "markdown",
   "id": "439bb29c",
   "metadata": {},
   "source": [
    "### Saved trace on visible map"
   ]
  },
  {
   "cell_type": "code",
   "execution_count": 15,
   "id": "80313680-f3d7-490c-ae38-52f453957de7",
   "metadata": {},
   "outputs": [
    {
     "data": {
      "text/plain": [
       "GLMakie.Screen(...)"
      ]
     },
     "execution_count": 15,
     "metadata": {},
     "output_type": "execute_result"
    }
   ],
   "source": [
    "(f, t) = GridWorlds.Viz.interactive_gui(\n",
    "    t -> get_args(trace2[])[3](t).map, get_posobs_seq(trace2), take_action2,\n",
    "    save_fn=get_save_tr(trace2),\n",
    "    framerate=8,\n",
    "\n",
    "    # Timing control for playback\n",
    "    timing_args=get_timing_args(trace2; speedup_factor=3, max_delay=5)\n",
    ")\n",
    "display(f)"
   ]
  },
  {
   "cell_type": "code",
   "execution_count": null,
   "id": "b69f213c",
   "metadata": {},
   "outputs": [],
   "source": []
  }
 ],
 "metadata": {
  "kernelspec": {
   "display_name": "Julia 1.9.4",
   "language": "julia",
   "name": "julia-1.9"
  },
  "language_info": {
   "file_extension": ".jl",
   "mimetype": "application/julia",
   "name": "julia",
   "version": "1.9.4"
  }
 },
 "nbformat": 4,
 "nbformat_minor": 5
}
