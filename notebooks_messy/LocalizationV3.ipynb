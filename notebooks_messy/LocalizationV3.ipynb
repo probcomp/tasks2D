{
 "cells": [
  {
   "cell_type": "code",
   "execution_count": 1,
   "id": "ca892102",
   "metadata": {},
   "outputs": [],
   "source": [
    "using JSServe\n",
    "Page()"
   ]
  },
  {
   "cell_type": "code",
   "execution_count": 16,
   "id": "2a496155",
   "metadata": {},
   "outputs": [
    {
     "ename": "LoadError",
     "evalue": "/Users/georgematheos/Developer/research/summer2023/gridtasks2D/src_old/gridworld.jl is not a file",
     "output_type": "error",
     "traceback": [
      "/Users/georgematheos/Developer/research/summer2023/gridtasks2D/src_old/gridworld.jl is not a file",
      "",
      "Stacktrace:",
      " [1] includet(mod::Module, file::String)",
      "   @ Revise ~/.julia/packages/Revise/Kw99o/src/packagedef.jl:1023",
      " [2] includet(file::String)",
      "   @ Revise ~/.julia/packages/Revise/Kw99o/src/packagedef.jl:1028",
      " [3] top-level scope",
      "   @ In[16]:4"
     ]
    }
   ],
   "source": [
    "import WGLMakie\n",
    "using Revise\n",
    "using Gen\n",
    "includet(\"../src_old/gridworld.jl\")\n",
    "includet(\"../src_OLD/houseexpo.jl\")\n",
    "includet(\"../src_OLD/visualize.jl\")\n",
    "includet(\"../src_OLD/raytrace.jl\")\n",
    "includet(\"../src_OLD/distributions.jl\")"
   ]
  },
  {
   "cell_type": "code",
   "execution_count": 3,
   "id": "cc675fcc",
   "metadata": {},
   "outputs": [],
   "source": [
    "import GenPOMDPs"
   ]
  },
  {
   "cell_type": "code",
   "execution_count": 4,
   "id": "bd93f324",
   "metadata": {},
   "outputs": [
    {
     "ename": "LoadError",
     "evalue": "UndefVarError: `uniform_from_set` not defined",
     "output_type": "error",
     "traceback": [
      "UndefVarError: `uniform_from_set` not defined",
      "",
      "Stacktrace:",
      " [1] top-level scope",
      "   @ In[4]:12"
     ]
    }
   ],
   "source": [
    "# Observation model\n",
    "@gen (static) function observe_noisy_distances(pos, params)\n",
    "    w, n_rays, σ = params.map, params.obs.n_rays, params.obs.σ\n",
    "    \n",
    "    dists = ray_trace_distances(moveagent(w, pos), n_rays)\n",
    "    obs ~ broadcasted_normal(dists, σ)\n",
    "    return obs\n",
    "end\n",
    "\n",
    "# Position prior\n",
    "# Accepts as input a gridworld without the agent in it\n",
    "@gen (static) function uniform_agent_pos(params)\n",
    "    w = params.map\n",
    "    \n",
    "    pos ~ uniform_from_set(empty_cells(w))\n",
    "    return pos\n",
    "end\n",
    "\n",
    "# Motion model\n",
    "@dist list_categorical(list, probs) = list[categorical(probs)]\n",
    "function _get_motion_logprobs(w, (x2, y2), σ)\n",
    "    possible_positions = reshape(Tuple.(keys(w)), (:,))\n",
    "    logprobs = [\n",
    "        w[x, y] == empty ? logpdf(broadcasted_normal, [x, y], [x2, y2], σ) : -Inf\n",
    "        for (x, y) in possible_positions\n",
    "    ]\n",
    "    return (possible_positions, logprobs)\n",
    "end\n",
    "function _normalized_probs(lps)\n",
    "    exp.(lps .- logsumexp(lps))\n",
    "end\n",
    "# action `a` should be a symbol in [:up, :down, :left, :right, :stay]\n",
    "@gen (static) function motion_model(pos, action, params)\n",
    "    w, σ = params.map, params.step.σ\n",
    "    \n",
    "    (possible_positions, logprobs) = _get_motion_logprobs(w, newpos(w, pos, action), σ)\n",
    "    pos ~ list_categorical(possible_positions, _normalized_probs(logprobs))\n",
    "    return pos\n",
    "end"
   ]
  },
  {
   "cell_type": "code",
   "execution_count": 5,
   "id": "e8741b48",
   "metadata": {},
   "outputs": [
    {
     "ename": "LoadError",
     "evalue": "UndefVarError: `uniform_agent_pos` not defined",
     "output_type": "error",
     "traceback": [
      "UndefVarError: `uniform_agent_pos` not defined",
      "",
      "Stacktrace:",
      " [1] top-level scope",
      "   @ In[5]:2"
     ]
    }
   ],
   "source": [
    "# POMDP of this environment\n",
    "pomdp = GenPOMDPs.GenPOMDP(\n",
    "    uniform_agent_pos,       # INIT   : params                      ⇝ state\n",
    "    motion_model,            # STEP   : prev_state, actions, params ⇝ state\n",
    "    observe_noisy_distances, # OBS    : state                       ⇝ observation\n",
    "    (state, action) -> 0.    # UTILITY: state, action, params       → utility\n",
    ")\n",
    "\n",
    "# Generative function over trajectories of the POMDP,\n",
    "# given a fixed action sequence.\n",
    "trajectory_model = GenPOMDPs.ControlledTrajectoryModel(pomdp)"
   ]
  },
  {
   "cell_type": "code",
   "execution_count": null,
   "id": "34f9a45d",
   "metadata": {},
   "outputs": [],
   "source": []
  },
  {
   "cell_type": "code",
   "execution_count": 6,
   "id": "49babe53",
   "metadata": {},
   "outputs": [
    {
     "ename": "LoadError",
     "evalue": "UndefVarError: `load_gridworld` not defined",
     "output_type": "error",
     "traceback": [
      "UndefVarError: `load_gridworld` not defined",
      "",
      "Stacktrace:",
      " [1] top-level scope",
      "   @ In[6]:1"
     ]
    }
   ],
   "source": [
    "PARAMS = (\n",
    "    # load houseexpo env #7,\n",
    "    # discretized with 24 gridsquares along the x axis\n",
    "    map = load_gridworld(24, 7),\n",
    "    \n",
    "    obs  = (; n_rays = 20, σ = 1.),\n",
    "    step = (; σ = 0.1)\n",
    ");"
   ]
  },
  {
   "cell_type": "code",
   "execution_count": 7,
   "id": "9756df0d",
   "metadata": {},
   "outputs": [
    {
     "ename": "LoadError",
     "evalue": "UndefVarError: `trajectory_model` not defined",
     "output_type": "error",
     "traceback": [
      "UndefVarError: `trajectory_model` not defined",
      "",
      "Stacktrace:",
      " [1] top-level scope",
      "   @ In[7]:1"
     ]
    }
   ],
   "source": [
    "ret = trajectory_model(0, [], PARAMS)"
   ]
  },
  {
   "cell_type": "code",
   "execution_count": 8,
   "id": "b6afb55f",
   "metadata": {},
   "outputs": [
    {
     "ename": "LoadError",
     "evalue": "UndefVarError: `trajectory_model` not defined",
     "output_type": "error",
     "traceback": [
      "UndefVarError: `trajectory_model` not defined",
      "",
      "Stacktrace:",
      " [1] top-level scope",
      "   @ In[8]:10"
     ]
    }
   ],
   "source": [
    "# Set up \"interactive mode\" with this model.\n",
    "# `take_action` is a function which accepts an action\n",
    "# as input.\n",
    "# `world_trace` is an `Observable` whose value is a trace of\n",
    "# `trajectory_model`, describing the \"ground truth\" trajectory which\n",
    "# has played out in the environment.  (This includes the state,\n",
    "# action, observation, and utility sequences.)\n",
    "# Each time `take_action` is called, `world_trace` automatically updates\n",
    "# to extend the simulation roll-out by one timestep.\n",
    "world_trace, take_action = GenPOMDPs.interactive_world_trace(trajectory_model, PARAMS);"
   ]
  },
  {
   "cell_type": "code",
   "execution_count": 9,
   "id": "d4bb03df",
   "metadata": {},
   "outputs": [
    {
     "ename": "LoadError",
     "evalue": "LoadError: UndefVarError: `Makie` not defined\nin expression starting at In[9]:12",
     "output_type": "error",
     "traceback": [
      "LoadError: UndefVarError: `Makie` not defined\nin expression starting at In[9]:12",
      ""
     ]
    }
   ],
   "source": [
    "# Construct a Figure object, f, displaying a GUI which\n",
    "# displays the world state, and allows the user to\n",
    "# take actions in the world (playing as the agent).\n",
    "# This is done by mapping keyboard events in `f` onto\n",
    "# the `take_action` function obtained above.\n",
    "# (t is an observable controlling which timestep is displayed\n",
    "# in the figure, so the user can inspect past timesteps.)\n",
    "\n",
    "# Lift the trace observable to an observable\n",
    "# over the state & obs sequences, consumable by\n",
    "# the GridWorld visualization library.\n",
    "pos_obs_values = Makie.@lift(\n",
    "        ( GenPOMDPs.state_sequence($world_trace),\n",
    "        \n",
    "          # Note: as GenPOMDPs treats it, observations look like\n",
    "          # `choicemap((:obs, point_cloud_distances))`, while\n",
    "          # and the observation distribution \"return values\"\n",
    "          # just look like `point_cloud_distances`\n",
    "          GenPOMDPs.observation_retval_sequence($world_trace)\n",
    "        )\n",
    "    )\n",
    "\n",
    "(f, t) = interactive_mode_gui(PARAMS.map, pos_obs_values, take_action)\n",
    "\n",
    "f # Render the figure object\n",
    "\n",
    "# Controls:\n",
    "# WASD to (noisily) move left/right/up/down\n",
    "# E to (noisily) stay still\n",
    "# G to decrement the displayed timestep\n",
    "# T to increment the displayed timestep\n",
    "# (up to the time of the latest action taken)\n",
    "# Actions can only be taken when the visualized timestep is the\n",
    "# latest one simulated."
   ]
  },
  {
   "cell_type": "code",
   "execution_count": 10,
   "id": "07f19a45",
   "metadata": {},
   "outputs": [
    {
     "ename": "LoadError",
     "evalue": "UndefVarError: `trajectory_model` not defined",
     "output_type": "error",
     "traceback": [
      "UndefVarError: `trajectory_model` not defined",
      "",
      "Stacktrace:",
      " [1] top-level scope",
      "   @ In[10]:2"
     ]
    }
   ],
   "source": [
    "# New interactive session.\n",
    "world_trace2, take_action2 = GenPOMDPs.interactive_world_trace(trajectory_model, PARAMS)\n",
    "\n",
    "# This time, also get an interactive particle filter, which updates\n",
    "# as the environment is extended.\n",
    "\n",
    "# An observable over the pair (observation_sequence, action_sequence).\n",
    "# As the ground truth trace updates, this will update with the\n",
    "# sequence of observations and actions which have been observed.\n",
    "# (The observations and actions are all the information available\n",
    "# to an agent attempting to act in the world, so this observable\n",
    "# is what the agent sees.)\n",
    "observation_action_sequence = Makie.@lift((\n",
    "    GenPOMDPs.observation_sequence($world_trace2),\n",
    "    GenPOMDPs.action_sequence($world_trace2)\n",
    "))\n",
    "\n",
    "# Get an observable of a particle filter belief state.\n",
    "# Do particle filtering in the ground truth world model\n",
    "# with the ground truth parameter values.\n",
    "pf_states = GenPOMDPs.pf_observable(\n",
    "    GenPOMDPs.bootstrap_pf(pomdp, PARAMS, 200),\n",
    "    observation_action_sequence\n",
    ");"
   ]
  },
  {
   "cell_type": "code",
   "execution_count": null,
   "id": "578586e7",
   "metadata": {},
   "outputs": [],
   "source": []
  },
  {
   "cell_type": "code",
   "execution_count": 11,
   "id": "bd227746",
   "metadata": {
    "scrolled": false
   },
   "outputs": [
    {
     "ename": "LoadError",
     "evalue": "LoadError: UndefVarError: `Makie` not defined\nin expression starting at In[11]:3",
     "output_type": "error",
     "traceback": [
      "LoadError: UndefVarError: `Makie` not defined\nin expression starting at In[11]:3",
      ""
     ]
    }
   ],
   "source": [
    "# Visualize the environment in interactive mode, plus\n",
    "# the particle filter results.\n",
    "pos_obs_values2 = Makie.@lift(\n",
    "        ( GenPOMDPs.state_sequence($world_trace2),\n",
    "          GenPOMDPs.observation_retval_sequence($world_trace2)   ))\n",
    "(f2, t2) = interactive_mode_gui(PARAMS.map, pos_obs_values2, take_action2)\n",
    "\n",
    "display_pf_localization!(f2, t2, pf_states)\n",
    "\n",
    "f2"
   ]
  },
  {
   "cell_type": "code",
   "execution_count": null,
   "id": "aa3ed999",
   "metadata": {},
   "outputs": [],
   "source": []
  },
  {
   "cell_type": "code",
   "execution_count": 12,
   "id": "50083a2d",
   "metadata": {},
   "outputs": [
    {
     "ename": "LoadError",
     "evalue": "UndefVarError: `trajectory_model` not defined",
     "output_type": "error",
     "traceback": [
      "UndefVarError: `trajectory_model` not defined",
      "",
      "Stacktrace:",
      " [1] top-level scope",
      "   @ In[12]:2"
     ]
    }
   ],
   "source": [
    "# New interactive session.\n",
    "world_trace3, take_action3 = GenPOMDPs.interactive_world_trace(trajectory_model, PARAMS)\n",
    "\n",
    "# This time, also get an interactive particle filter, which updates\n",
    "# as the environment is extended.\n",
    "\n",
    "# An observable over the pair (observation_sequence, action_sequence).\n",
    "# As the ground truth trace updates, this will update with the\n",
    "# sequence of observations and actions which have been observed.\n",
    "# (The observations and actions are all the information available\n",
    "# to an agent attempting to act in the world, so this observable\n",
    "# is what the agent sees.)\n",
    "observation_action_sequence3 = Makie.@lift((\n",
    "    GenPOMDPs.observation_sequence($world_trace3),\n",
    "    GenPOMDPs.action_sequence($world_trace3)\n",
    "))\n",
    "\n",
    "# Get an observable of a particle filter belief state.\n",
    "# Do particle filtering in the ground truth world model\n",
    "# with the ground truth parameter values.\n",
    "possible_locations = empty_cells(PARAMS.map)\n",
    "pf_states3 = GenPOMDPs.pf_observable(\n",
    "    GenPOMDPs.pf(pomdp, PARAMS,\n",
    "        ( # Stratified initial proposal\n",
    "             ( # Strata = enumerate each possible position\n",
    "                choicemap((GenPOMDPs.state_addr(0, :pos), loc))\n",
    "                for loc in possible_locations\n",
    "             ),\n",
    "             length(possible_locations), # N particles\n",
    "        ),\n",
    "        () # bootstrap update after the first step\n",
    "    ),\n",
    "    observation_action_sequence3\n",
    ");"
   ]
  },
  {
   "cell_type": "code",
   "execution_count": 13,
   "id": "9d9cb003",
   "metadata": {},
   "outputs": [
    {
     "ename": "LoadError",
     "evalue": "LoadError: UndefVarError: `Makie` not defined\nin expression starting at In[13]:3",
     "output_type": "error",
     "traceback": [
      "LoadError: UndefVarError: `Makie` not defined\nin expression starting at In[13]:3",
      ""
     ]
    }
   ],
   "source": [
    "# Visualize the environment in interactive mode, plus\n",
    "# the particle filter results.\n",
    "pos_obs_values3 = Makie.@lift(\n",
    "        ( GenPOMDPs.state_sequence($world_trace3),\n",
    "          GenPOMDPs.observation_retval_sequence($world_trace3)   ))\n",
    "(f3, t3) = interactive_mode_gui(PARAMS.map, pos_obs_values3, take_action3)\n",
    "\n",
    "display_pf_localization!(f3, t3, pf_states3)\n",
    "\n",
    "f3"
   ]
  },
  {
   "cell_type": "code",
   "execution_count": null,
   "id": "daccee6b",
   "metadata": {},
   "outputs": [],
   "source": []
  },
  {
   "cell_type": "code",
   "execution_count": 14,
   "id": "0b4cfdef",
   "metadata": {},
   "outputs": [
    {
     "ename": "LoadError",
     "evalue": "UndefVarError: `load_hardcoded_gridworld` not defined",
     "output_type": "error",
     "traceback": [
      "UndefVarError: `load_hardcoded_gridworld` not defined",
      "",
      "Stacktrace:",
      " [1] top-level scope",
      "   @ In[14]:1"
     ]
    }
   ],
   "source": [
    "PARAMS_NOISY = (\n",
    "    # load houseexpo env #7,\n",
    "    # discretized with 24 gridsquares along the x axis\n",
    "    map = load_hardcoded_gridworld(),\n",
    "    \n",
    "    obs  = (; n_rays = 20, σ = .0001),\n",
    "    step = (; σ = 0.1)\n",
    ");\n",
    "\n",
    "# New interactive session.\n",
    "world_trace4, take_action4 = GenPOMDPs.interactive_world_trace(trajectory_model, PARAMS_NOISY)\n",
    "\n",
    "# This time, also get an interactive particle filter, which updates\n",
    "# as the environment is extended.\n",
    "\n",
    "# An observable over the pair (observation_sequence, action_sequence).\n",
    "# As the ground truth trace updates, this will update with the\n",
    "# sequence of observations and actions which have been observed.\n",
    "# (The observations and actions are all the information available\n",
    "# to an agent attempting to act in the world, so this observable\n",
    "# is what the agent sees.)\n",
    "observation_action_sequence4 = Makie.@lift((\n",
    "    GenPOMDPs.observation_sequence($world_trace4),\n",
    "    GenPOMDPs.action_sequence($world_trace4)\n",
    "))\n",
    "\n",
    "# Get an observable of a particle filter belief state.\n",
    "# Do particle filtering in the ground truth world model\n",
    "# with the ground truth parameter values.\n",
    "possible_locations = empty_cells(PARAMS_NOISY.map)\n",
    "pf_states4 = GenPOMDPs.pf_observable(\n",
    "    GenPOMDPs.pf(pomdp, PARAMS_NOISY,\n",
    "        ( # Stratified initial proposal\n",
    "             ( # Strata = enumerate each possible position\n",
    "                choicemap((GenPOMDPs.state_addr(0, :pos), loc))\n",
    "                for loc in possible_locations\n",
    "             ),\n",
    "             length(possible_locations), # N particles\n",
    "        ),\n",
    "        () # bootstrap update after the first step\n",
    "    ),\n",
    "    observation_action_sequence4\n",
    ");\n",
    "# Visualize the environment in interactive mode, plus\n",
    "# the particle filter results.\n",
    "pos_obs_values4 = Makie.@lift(\n",
    "        ( GenPOMDPs.state_sequence($world_trace4),\n",
    "          GenPOMDPs.observation_retval_sequence($world_trace4)   ))\n",
    "(f4, t4) = interactive_mode_gui(PARAMS_NOISY.map, pos_obs_values4, take_action4)\n",
    "\n",
    "display_pf_localization!(f4, t4, pf_states4)\n",
    "\n",
    "f4"
   ]
  },
  {
   "cell_type": "code",
   "execution_count": null,
   "id": "0aee4c60",
   "metadata": {},
   "outputs": [],
   "source": []
  }
 ],
 "metadata": {
  "kernelspec": {
   "display_name": "Julia 1.9.0",
   "language": "julia",
   "name": "julia-1.9"
  },
  "language_info": {
   "file_extension": ".jl",
   "mimetype": "application/julia",
   "name": "julia",
   "version": "1.9.0"
  }
 },
 "nbformat": 4,
 "nbformat_minor": 5
}
