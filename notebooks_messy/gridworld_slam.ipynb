{
 "cells": [
  {
   "cell_type": "code",
   "execution_count": 1,
   "id": "ce21e248",
   "metadata": {
    "tags": []
   },
   "outputs": [
    {
     "name": "stderr",
     "output_type": "stream",
     "text": [
      "\u001b[32m\u001b[1m  Activating\u001b[22m\u001b[39m project at `~/projects/tasks2D/Tasks2D`\n"
     ]
    }
   ],
   "source": [
    "# Load the Julia environment needed for this notebook\n",
    "import Pkg\n",
    "Pkg.activate(\"../Tasks2D\")"
   ]
  },
  {
   "cell_type": "code",
   "execution_count": 2,
   "id": "50da7a57",
   "metadata": {
    "tags": []
   },
   "outputs": [],
   "source": [
    "import GLMakie   # Visualization Library\n",
    "using Dates\n",
    "\n",
    "using Revise      # For development; makes it so modifications\n",
    "# to imported modules are immediately reflected in this Julia session\n",
    "using Gen         # Gen probabilistic programming library\n",
    "import GenParticleFilters # Additional particle filtering functionality for Gen\n",
    "import GridWorlds # Simple gridworld functionality\n",
    "import LineWorlds as L # For ray casting\n",
    "import GenPOMDPs  # Beginnings of a Gen POMDP library\n",
    "\n",
    "includet(\"SLAM/Utils.jl\")\n",
    "GLMakie.activate!()"
   ]
  },
  {
   "cell_type": "markdown",
   "id": "a66eda2c",
   "metadata": {},
   "source": [
    "## Using Gen to define a probabilistic model of an agent and the map in a gridworld\n",
    "\n",
    "First, we define a prior over the agent's initial position and possible map."
   ]
  },
  {
   "cell_type": "code",
   "execution_count": 3,
   "id": "f38e9ce0",
   "metadata": {},
   "outputs": [
    {
     "data": {
      "text/plain": [
       "DynamicDSLFunction{Any}(Dict{Symbol, Any}(), Dict{Symbol, Any}(), Type[GridWorlds.GridWorld, Float64], false, Union{Nothing, Some{Any}}[nothing, nothing], var\"##sample_strange_object#292\", Bool[0, 0], false)"
      ]
     },
     "execution_count": 3,
     "metadata": {},
     "output_type": "execute_result"
    }
   ],
   "source": [
    "# sample strange object locations\n",
    "@gen function sample_strange_object(world::GridWorlds.GridWorld, strange_prob::Float64)\n",
    "    empty_cells = GridWorlds.empty_cells(world)\n",
    "    for cell in empty_cells\n",
    "        is_strange = {:is_strange => cell} ~ bernoulli(strange_prob)\n",
    "        if is_strange\n",
    "            world = GridWorlds.replace(world, cell, GridWorlds.strange)\n",
    "        end\n",
    "    end\n",
    "    return world\n",
    "end"
   ]
  },
  {
   "cell_type": "code",
   "execution_count": 4,
   "id": "61a51b46",
   "metadata": {
    "tags": []
   },
   "outputs": [
    {
     "data": {
      "text/plain": [
       "var\"##StaticGenFunction_uniform_agent_pos#329\"(Dict{Symbol, Any}(), Dict{Symbol, Any}())"
      ]
     },
     "execution_count": 4,
     "metadata": {},
     "output_type": "execute_result"
    }
   ],
   "source": [
    "# Initial position model\n",
    "\n",
    "# Distribution to sample uniformly from a Julia Set\n",
    "using Tasks2D.Distributions: uniform_from_set\n",
    "\n",
    "\n",
    "struct State\n",
    "    world::GridWorlds.GridWorld\n",
    "    pos::Vector{Float64}\n",
    "    t::Int\n",
    "    hit_wall::Bool\n",
    "end\n",
    "\n",
    "# Initialize internal map by sampling each grid cell from iid Bernoulli\n",
    "# and initialize position by uniformly sampling from empty location\n",
    "@gen (static) function uniform_agent_pos(t_to_params)\n",
    "    params = t_to_params(0)\n",
    "    width, height, wall_prob = params.world.width, params.world.height, params.world.wall_prob\n",
    "\n",
    "    # draw each grid iid\n",
    "    world ~ Utils.bernoulli_map(width, height, wall_prob)\n",
    "    cell ~ uniform_from_set(GridWorlds.empty_cells(world))\n",
    "\n",
    "    # Cell (i, j) corresponds to the region from i-1 to i and j-1 to j\n",
    "    x ~ uniform(cell[1] - 1, cell[1])\n",
    "    y ~ uniform(cell[2] - 1, cell[2])\n",
    "\n",
    "    return State(world, [x, y], 0, false)\n",
    "end"
   ]
  },
  {
   "cell_type": "markdown",
   "id": "f99d6af7",
   "metadata": {},
   "source": [
    "Next, we define a motion model describing a distribution over the agent's next position,\n",
    "given its previous positon and the action it takes."
   ]
  },
  {
   "cell_type": "code",
   "execution_count": 5,
   "id": "01401b0e",
   "metadata": {},
   "outputs": [
    {
     "data": {
      "text/plain": [
       "handle_wall_intersection (generic function with 1 method)"
      ]
     },
     "execution_count": 5,
     "metadata": {},
     "output_type": "execute_result"
    }
   ],
   "source": [
    "function det_next_pos(pos, a, Δ)\n",
    "    (x, y) = pos\n",
    "    a == :up ? [x, y + Δ] :\n",
    "    a == :down ? [x, y - Δ] :\n",
    "    a == :left ? [x - Δ, y] :\n",
    "    a == :right ? [x + Δ, y] :\n",
    "    a == :stay ? [x, y] :\n",
    "    error(\"Unrecognized action: $a\")\n",
    "end\n",
    "\n",
    "function handle_wall_intersection(prev, new, gridworld)\n",
    "    walls = GridWorlds.nonempty_segments(gridworld)\n",
    "    move = L.Segment(prev, new)\n",
    "\n",
    "    min_collision_dist = Inf\n",
    "    vec_to_min_dist_collision = nothing\n",
    "    for i in 1:(size(walls)[1])\n",
    "        wall = walls[i, :]\n",
    "        # leverage ray caster to check for collisions in the\n",
    "        # movement direction\n",
    "        do_intersect, dist = L.Geometry.cast(move, L.Segment(wall))\n",
    "\n",
    "        if do_intersect && dist ≤ L.Geometry.norm(move)\n",
    "            if dist < min_collision_dist\n",
    "                min_collision_dist = dist\n",
    "                vec_to_min_dist_collision = L.Geometry.diff(move)\n",
    "            end\n",
    "        end\n",
    "    end\n",
    "\n",
    "    if !isnothing(vec_to_min_dist_collision)\n",
    "        dist = min_collision_dist\n",
    "        if dist < 0.05\n",
    "            return (prev, true)\n",
    "        else\n",
    "            # obtain point of collision by moving forward along the\n",
    "            # movement vector by a `dist` amount\n",
    "            normalized_vec = (vec_to_min_dist_collision / L.Geometry.norm(vec_to_min_dist_collision))\n",
    "            collision_pt = prev + (dist - 0.04) * normalized_vec\n",
    "            return (collision_pt, true)\n",
    "        end\n",
    "    end\n",
    "\n",
    "    return (new, false)\n",
    "end"
   ]
  },
  {
   "cell_type": "code",
   "execution_count": null,
   "id": "578c6adc",
   "metadata": {},
   "outputs": [],
   "source": [
    "list_categorical"
   ]
  },
  {
   "cell_type": "code",
   "execution_count": 6,
   "id": "237306bf",
   "metadata": {},
   "outputs": [
    {
     "data": {
      "text/plain": [
       "DynamicDSLFunction{Any}(Dict{Symbol, Any}(), Dict{Symbol, Any}(), Type[GridWorlds.GridWorld, Real], false, Union{Nothing, Some{Any}}[nothing, nothing], var\"##update_iid_bernoulli_map#355\", Bool[0, 0], false)"
      ]
     },
     "execution_count": 6,
     "metadata": {},
     "output_type": "execute_result"
    }
   ],
   "source": [
    "# Flip maps\n",
    "\"\"\"\n",
    "flip the grids in the previous map based on a flip_prob\n",
    "\"\"\"\n",
    "@gen (static) function flip_wall(flip_prob::Real, cell::GridWorlds.GridCell)\n",
    "    should_flip ~ bernoulli(flip_prob)\n",
    "    return should_flip ? (cell == GridWorlds.empty ? GridWorlds.wall : GridWorlds.empty) : cell\n",
    "end\n",
    "\n",
    "@gen function update_iid_bernoulli_map(world::GridWorlds.GridWorld, flip_prob::Real)\n",
    "    width, height = world.size\n",
    "    raw_map = Matrix{GridWorlds.GridCell}(undef, width, height)\n",
    "    for i = 1:width\n",
    "        for j = 1:height\n",
    "            raw_map[i, j] = {:raw_map => (i, j)} ~ flip_wall(flip_prob, world.cells[i][j])\n",
    "        end\n",
    "    end\n",
    "\n",
    "    return GridWorlds.FGridWorld(raw_map, nothing, world.size)\n",
    "end"
   ]
  },
  {
   "cell_type": "code",
   "execution_count": 67,
   "id": "ec2ca1e4",
   "metadata": {
    "tags": []
   },
   "outputs": [
    {
     "data": {
      "text/plain": [
       "var\"##StaticGenFunction_motion_model#2146\"(Dict{Symbol, Any}(), Dict{Symbol, Any}())"
      ]
     },
     "execution_count": 67,
     "metadata": {},
     "output_type": "execute_result"
    }
   ],
   "source": [
    "# Motion model\n",
    "\n",
    "@dist list_categorical(list, probs) = list[categorical(probs)]\n",
    "\n",
    "@gen (static) function motion_model(state::State, action, t_to_params)\n",
    "    current_t = state.t + 1\n",
    "    (a, wall_clock_time) = action\n",
    "    params = t_to_params(current_t)\n",
    "\n",
    "    # Step 1: fix pos, update map\n",
    "    # TODO: see if it's necessary to pass in pos as well so that the currently\n",
    "    # occupied cell won't be turned into wall (it's possible that pf can filter\n",
    "    # this out)\n",
    "    # world ~ update_iid_bernoulli_map(state.world, params.flip_prob)\n",
    "    world ~ list_categorical([state.world], [1.0])\n",
    "\n",
    "    # Step 2: update agent pos\n",
    "    next_pos_det = det_next_pos(state.pos, a, params.step.Δ)\n",
    "    noisy_next_pos ~ broadcasted_normal(next_pos_det, params.step.σ)\n",
    "    (next_pos, hit_wall) = handle_wall_intersection(state.pos, noisy_next_pos, world)\n",
    "\n",
    "    return State(world, next_pos, current_t, state.hit_wall || hit_wall)\n",
    "end\n"
   ]
  },
  {
   "cell_type": "markdown",
   "id": "5279ce59",
   "metadata": {},
   "source": [
    "Finally, we define an observation model.  We model the agent making noisy LIDAR distance measurements\n",
    "along `n_rays` evenly spaced angles.  We model sensor error as Gaussian noise in the measured distances."
   ]
  },
  {
   "cell_type": "code",
   "execution_count": 68,
   "id": "7b8bfc86",
   "metadata": {
    "tags": []
   },
   "outputs": [
    {
     "data": {
      "text/plain": [
       "DynamicDSLFunction{Any}(Dict{Symbol, Any}(), Dict{Symbol, Any}(), Type[State, Any], false, Union{Nothing, Some{Any}}[nothing, nothing], var\"##observe_noisy_distances#2154\", Bool[0, 0], false)"
      ]
     },
     "execution_count": 68,
     "metadata": {},
     "output_type": "execute_result"
    }
   ],
   "source": [
    "@gen function observe_noisy_distances(state::State, t_to_params)\n",
    "    params = t_to_params(state.t)\n",
    "\n",
    "    p = reshape([state.pos..., params.obs.orientation], (1, 3))\n",
    "    wall_segs = GridWorlds.wall_segments(state.world)\n",
    "    strange_segs = GridWorlds.strange_segments(state.world)\n",
    "\n",
    "    # handle observations from walls\n",
    "    w, s_noise, outlier, outlier_vol, zmax = params.obs.wall_sensor_args\n",
    "    dists_walls = L.cast(p, wall_segs; num_a=params.obs.n_rays, zmax)\n",
    "    dists_walls = reshape(dists_walls, (:,))\n",
    "\n",
    "\n",
    "    # handle observations from the strange objects\n",
    "    w, s_noise, outlier, outlier_vol, zmax = params.obs.strange_sensor_args\n",
    "    dists_strange = L.cast(p, strange_segs; num_a=params.obs.n_rays, zmax)\n",
    "    dists_strange = reshape(dists_strange, (:,))\n",
    "\n",
    "    # check for occlusion\n",
    "    is_wall_measurement = [w < s for (w, s) in zip(dists_walls, dists_strange)]\n",
    "    dists_walls = dists_walls[is_wall_measurement]\n",
    "    dists_strange = dists_strange[.!is_wall_measurement]\n",
    "\n",
    "    dists_strange_mins = [params.obs.strange_sensor_args.dist_to_zmin(d) for d in dists_strange]\n",
    "    dists_strange_maxs = [params.obs.strange_sensor_args.dist_to_zmax(d) for d in dists_strange]\n",
    "\n",
    "    # sample observations\n",
    "    obs ~ Utils.mixture_measurement(\n",
    "        is_wall_measurement,\n",
    "        dists_walls,\n",
    "        params.obs.wall_sensor_args.σ,\n",
    "        dists_strange_mins,\n",
    "        dists_strange_maxs,\n",
    "    )\n",
    "\n",
    "    return obs\n",
    "end"
   ]
  },
  {
   "cell_type": "markdown",
   "id": "1e048eb5",
   "metadata": {},
   "source": [
    "We can define a POMDP where the state at each timestep is the agent's (x, y) position, and each observation is a vector of noisy distances measured by the agent's \"LIDAR\" sensor.\n",
    "\n",
    "For now, we won't have a meaningful utility function."
   ]
  },
  {
   "cell_type": "code",
   "execution_count": 69,
   "id": "80a55fd4",
   "metadata": {
    "tags": []
   },
   "outputs": [
    {
     "data": {
      "text/plain": [
       "GenPOMDPs.GenPOMDP(var\"##StaticGenFunction_uniform_agent_pos#329\"(Dict{Symbol, Any}(), Dict{Symbol, Any}()), var\"##StaticGenFunction_motion_model#2146\"(Dict{Symbol, Any}(), Dict{Symbol, Any}()), DynamicDSLFunction{Any}(Dict{Symbol, Any}(), Dict{Symbol, Any}(), Type[State, Any], false, Union{Nothing, Some{Any}}[nothing, nothing], var\"##observe_noisy_distances#2154\", Bool[0, 0], false), var\"#424#425\"())"
      ]
     },
     "execution_count": 69,
     "metadata": {},
     "output_type": "execute_result"
    }
   ],
   "source": [
    "# POMDP of this environment\n",
    "pomdp = GenPOMDPs.GenPOMDP(\n",
    "    uniform_agent_pos,       # INIT   : params                      ⇝ state\n",
    "    motion_model,            # STEP   : prev_state, actions, params ⇝ state\n",
    "    observe_noisy_distances, # OBS    : state, params               ⇝ observation\n",
    "    (state, action) -> 0.0   # UTILITY: state, action, params       → utility\n",
    ")"
   ]
  },
  {
   "cell_type": "markdown",
   "id": "d594d4e1",
   "metadata": {},
   "source": [
    "We can use the GenPOMDP library to construct a probability distribution over trajectories for this POMDP, given a fixed sequence of actions the agent takes.\n",
    "\n",
    "This probability distribution is represented as a Gen generative function."
   ]
  },
  {
   "cell_type": "code",
   "execution_count": 70,
   "id": "04125c29",
   "metadata": {
    "tags": []
   },
   "outputs": [
    {
     "data": {
      "text/plain": [
       "GenPOMDPs.var\"##StaticGenFunction__ControlledTrajectoryModel#2226\"(Dict{Symbol, Any}(), Dict{Symbol, Any}())"
      ]
     },
     "execution_count": 70,
     "metadata": {},
     "output_type": "execute_result"
    }
   ],
   "source": [
    "# Generative function over trajectories of the POMDP,\n",
    "# given a fixed action sequence.\n",
    "trajectory_model = GenPOMDPs.ControlledTrajectoryModel(pomdp)"
   ]
  },
  {
   "cell_type": "markdown",
   "id": "1014019e",
   "metadata": {},
   "source": [
    "## Interacting with the enviornment\n",
    "\n",
    "Let's load a gridworld map obtained by tracing a PNG file from the HouseExpo dataset.\n",
    "We also need to set some parameters controlling the motion and observation model."
   ]
  },
  {
   "cell_type": "code",
   "execution_count": 71,
   "id": "af11574f",
   "metadata": {
    "tags": []
   },
   "outputs": [
    {
     "data": {
      "text/plain": [
       "#432 (generic function with 1 method)"
      ]
     },
     "execution_count": 71,
     "metadata": {},
     "output_type": "execute_result"
    }
   ],
   "source": [
    "_get_params(map) = (;\n",
    "    # map = GridWorlds.load_custom_map(5),\n",
    "    # map=map,\n",
    "    world=(;\n",
    "        width=size(map)[1],\n",
    "        height=size(map)[2],\n",
    "        wall_prob=(1 - length(GridWorlds.empty_cells(map)) / prod(size(map))),\n",
    "    ),\n",
    "    step=(; Δ=0.5, σ=0.005),\n",
    "    obs=(; fov=2π, n_rays=90, orientation=π / 2,\n",
    "        # I think currently only σ is used\n",
    "        wall_sensor_args=(;\n",
    "            w=5, s_noise=0.02,\n",
    "            outlier=0.0001,\n",
    "            outlier_vol=100.0,\n",
    "            zmax=100.0, σ=0.005\n",
    "        ), strange_sensor_args=(;\n",
    "            w=5, s_noise=0.02,\n",
    "            outlier=0.0001,\n",
    "            outlier_vol=100.0,\n",
    "            zmax=100.0, σ=5.5,\n",
    "            dist_to_zmin=x -> 1.0,\n",
    "            dist_to_zmax=x -> 2.0 + x * 2.5,\n",
    "        )\n",
    "    ),\n",
    ")\n",
    "merge_params(t_to_params, params) = (t) -> merge(t_to_params(t), params)\n",
    "constant_t_to_params(params) = (t) -> params\n",
    "\n",
    "MAP_INTRO = GridWorlds.load_houseexpo_gridworld(24, 1)\n",
    "MAP_EXPLAIN_STRANGE = GridWorlds.load_custom_map(3)\n",
    "MAP_W_STRANGE = GridWorlds.load_custom_map(4)\n",
    "MAP_WOUT_STRANGE = GridWorlds.load_custom_map(5)\n",
    "MAP2_W_STRANGE = GridWorlds.load_custom_map(6)\n",
    "MAP2_WOUT_STRANGE = GridWorlds.load_custom_map(7)\n",
    "\n",
    "T_TO_PARAMS_INTRO = constant_t_to_params(_get_params(MAP_INTRO))\n",
    "T_TO_PARAMS_EXPLAIN_STRANGE = constant_t_to_params(_get_params(MAP_EXPLAIN_STRANGE))\n",
    "T_TO_PARAMS_W_STRANGE = constant_t_to_params(_get_params(MAP_W_STRANGE))\n",
    "T_TO_PARAMS_WOUT_STRANGE = constant_t_to_params(_get_params(MAP_WOUT_STRANGE))\n",
    "T_TO_PARAMS_LEARN_MAP = T_TO_PARAMS_WOUT_STRANGE"
   ]
  },
  {
   "cell_type": "markdown",
   "id": "b0e64935",
   "metadata": {},
   "source": [
    "Then, we can use functionality from the GenPOMDP library to construct an interactive world state, which\n",
    "we can take actions in by calling a callback function.\n",
    "\n",
    "Specifically, `GenPOMDPs.interactive_world_trace` will give us a `take_action` callback,\n",
    "and a `world_trace` object.  The `world_trace` object is an `Observable` from the Julia\n",
    "`Observables` library.  An `Observable` is a pointer to an object, which also maintains a list of\n",
    "\"subscriber\" objects.  Each time the value at the pointer changes, the Observable notifies its\n",
    "subscribers of the change.\n",
    "\n",
    "In this case, the `world_trace` object is automatically updated every time the `take_action` callback\n",
    "is called with an action.  The `world_trace` is an observable over a `Trace` from Gen, for the\n",
    "`trajectory_model` generative function defined above.  This trace represents a trajectory in the\n",
    "POMDP, over `T` timesteps.  Each time we call `take_action(a)`, the world trace is automatically\n",
    "extended by another timestep, by taking action `a`, and simulating a new random world state\n",
    "and observation from the POMDP."
   ]
  },
  {
   "cell_type": "code",
   "execution_count": 72,
   "id": "98dfcc4d",
   "metadata": {
    "tags": []
   },
   "outputs": [],
   "source": [
    "world_trace, take_action = GenPOMDPs.interactive_world_trace(\n",
    "    trajectory_model, T_TO_PARAMS_INTRO,\n",
    "    choicemap(\n",
    "        (GenPOMDPs.state_addr(0, :cell), (3, 3)),\n",
    "        (GenPOMDPs.state_addr(0, :world), MAP_INTRO),\n",
    "    )\n",
    ");"
   ]
  },
  {
   "cell_type": "markdown",
   "id": "b78338bc",
   "metadata": {},
   "source": [
    "The GridWorlds library provides visualizations which map keyboard events onto the `take_action` function above.\n",
    "\n",
    "Use WASD to move the agent around.  Press E to have a timestep pass where the agent takes a \"stay\" action.\n",
    "Use G to backtrack in time to view past world states.  Use T to increment time back to the current moment.  (Actions can only be taken when in the farthest simulated world state.)"
   ]
  },
  {
   "cell_type": "code",
   "execution_count": 75,
   "id": "f337e5a1",
   "metadata": {},
   "outputs": [
    {
     "data": {
      "text/plain": [
       "get_timing_args (generic function with 1 method)"
      ]
     },
     "execution_count": 75,
     "metadata": {},
     "output_type": "execute_result"
    }
   ],
   "source": [
    "# Map the world_trace observable to an observable\n",
    "# over the sequence of ground truth positions, and observation\n",
    "# point clouds.\n",
    "function get_posobs_seq(groundtruth_trace)\n",
    "    return map(\n",
    "        trace -> (\n",
    "            [state.pos for state in GenPOMDPs.state_sequence(trace)],\n",
    "            GenPOMDPs.observation_retval_sequence(trace)\n",
    "        ),\n",
    "        groundtruth_trace\n",
    "    )\n",
    "end\n",
    "\n",
    "function get_did_hitwall_observable(trace)\n",
    "    return map(trace -> GenPOMDPs.state_sequence(trace)[end].hit_wall, trace)\n",
    "end\n",
    "function close_window(f)\n",
    "    glfw_window = GLMakie.to_native(display(f))\n",
    "    GLMakie.GLFW.SetWindowShouldClose(glfw_window, true)\n",
    "end\n",
    "function get_action_times_observable(trace)\n",
    "    return map(trace -> [t for (a, t) in GenPOMDPs.action_sequence(trace)], trace)\n",
    "end\n",
    "function get_timing_args(trace; speedup_factor=1, max_delay=5) # 5 seconds max delay\n",
    "    return (get_action_times_observable(trace), speedup_factor, max_delay)\n",
    "end"
   ]
  },
  {
   "cell_type": "code",
   "execution_count": 76,
   "id": "7afc5c4d",
   "metadata": {},
   "outputs": [
    {
     "data": {
      "text/plain": [
       "GLMakie.Screen(...)"
      ]
     },
     "execution_count": 76,
     "metadata": {},
     "output_type": "execute_result"
    }
   ],
   "source": [
    "\n",
    "(f, t, actions) = GridWorlds.Viz.interactive_gui(\n",
    "    t -> MAP_INTRO, get_posobs_seq(world_trace), a -> take_action((a, Dates.now())),\n",
    "    show_lines_to_walls=false,\n",
    "    framerate=8,\n",
    "    close_on_hitwall=true,\n",
    "    did_hitwall_observable=get_did_hitwall_observable(world_trace),\n",
    "    close_window=close_window,\n",
    "\n",
    "    # For playback\n",
    "    timing_args=get_timing_args(world_trace; speedup_factor=1, max_delay=5)\n",
    ")\n",
    "display(f)"
   ]
  },
  {
   "cell_type": "markdown",
   "id": "f10fe46e",
   "metadata": {},
   "source": [
    "## Localization via Particle Filtering\n",
    "\n",
    "Now, we'll set up another interactive session.  In this interactive session, we will route the\n",
    "taken actions, and the observations generated in the POMDP simulation, to a particle filter.\n",
    "We'll visualize the particles, representing the agent's location, as green squares.  The alpha\n",
    "of the color will reflect the particles' weights.\n",
    "\n",
    "For this first demo, we'll just use a bootstrap particle filter."
   ]
  },
  {
   "cell_type": "code",
   "execution_count": 77,
   "id": "efef929f",
   "metadata": {},
   "outputs": [
    {
     "data": {
      "text/plain": [
       "GLMakie.Screen(...)"
      ]
     },
     "execution_count": 77,
     "metadata": {},
     "output_type": "execute_result"
    }
   ],
   "source": [
    "# New interactive session.\n",
    "world_trace2, take_action2 = GenPOMDPs.interactive_world_trace(\n",
    "    trajectory_model, T_TO_PARAMS_INTRO,\n",
    "    choicemap(\n",
    "        (GenPOMDPs.state_addr(0, :cell), (3, 3)),\n",
    "        (GenPOMDPs.state_addr(0, :world), MAP_INTRO),\n",
    "    )\n",
    ");\n",
    "\n",
    "# Construct an observable of the sequence of observations and actions from the\n",
    "# world (consumed by inference).\n",
    "function get_actobs_seq(groundtruth_trace)\n",
    "    return map(\n",
    "        trace -> (\n",
    "            GenPOMDPs.observation_sequence(trace),\n",
    "            GenPOMDPs.action_sequence(trace)\n",
    "        ),\n",
    "        groundtruth_trace\n",
    "    )\n",
    "end\n",
    "\n",
    "includet(\"SLAM/pf.jl\")  # particle filter utilities\n",
    "\n",
    "# Maintain a 200-particle bootstrap particle filter,\n",
    "# which updates whenever `world_trace2` updates\n",
    "bootstrap_pf_states = GenPOMDPs.pf_observable(\n",
    "    pf(\n",
    "        pomdp,  # Run inference in the ground truth POMDP\n",
    "        T_TO_PARAMS_INTRO, # with the ground-truth parameters\n",
    "        (200,),     # initializer params: using 200 particles\n",
    "        (),         # updater params\n",
    "        choicemap((:world, MAP_INTRO))\n",
    "    ),\n",
    "    get_actobs_seq(world_trace2)\n",
    ");\n",
    "\n",
    "# Convert a vector of particle filter states to a vector of\n",
    "# (particle filter weights, particle filter positions),\n",
    "# for each timestep.  (This is the format consumed by the visualization.)\n",
    "get_states(pf_state) = map(\n",
    "    (x -> x[end]) ∘ GenPOMDPs.state_sequence,\n",
    "    GenParticleFilters.get_traces(pf_state)\n",
    ")\n",
    "function pf_states_to_stateweights(pf_states; field=nothing)\n",
    "    get_fields(states) = field == nothing ? states : map(state -> getfield(state, field), states)\n",
    "    return map(states -> ( # Map the observable to an observable over a tuple...\n",
    "\n",
    "            # First element of the tuple: particle weights for each timestep.\n",
    "            map(GenParticleFilters.get_norm_weights, states),\n",
    "\n",
    "            # Second element of the tuple: particle states for each timestep\n",
    "            map(get_fields ∘ get_states, states)), pf_states)\n",
    "end\n",
    "\n",
    "# Display an interactive GUI, with the particles\n",
    "(f2, t2, actions2) = GridWorlds.Viz.interactive_gui(\n",
    "    t -> MAP_INTRO, get_posobs_seq(world_trace2), a -> take_action2((a, Dates.now())),\n",
    "    show_lines_to_walls=false,\n",
    "    framerate=8,\n",
    "    close_on_hitwall=false,\n",
    "    did_hitwall_observable=get_did_hitwall_observable(world_trace2),\n",
    "    close_window=close_window,\n",
    "\n",
    "    # For playback\n",
    "    timing_args=get_timing_args(world_trace2; speedup_factor=1, max_delay=5)\n",
    ")\n",
    "GridWorlds.Viz.display_pf_localization!(f2, t2, pf_states_to_stateweights(bootstrap_pf_states, field=:pos))\n",
    "GridWorlds.Viz.display_pf_state!(f2, t2, pf_states_to_stateweights(bootstrap_pf_states))\n",
    "display(f2)\n"
   ]
  },
  {
   "cell_type": "markdown",
   "id": "b3b1d48c",
   "metadata": {},
   "source": [
    "## SLAM via Particle Filtering\n",
    "\n",
    "Assuming that the robot doesn't know the map ahead of time, will it be able to reconstruct \n",
    "the map and localize itself simutaneously? To test this out, let's set up another generative\n",
    "model to reflects the robot's internal beliefs and defines how it transists over time."
   ]
  },
  {
   "cell_type": "code",
   "execution_count": 189,
   "id": "d3f7db2d",
   "metadata": {},
   "outputs": [
    {
     "data": {
      "text/plain": [
       "GenTraceKernelDSL.Kernel(var\"#1007#1008\"())"
      ]
     },
     "execution_count": 189,
     "metadata": {},
     "output_type": "execute_result"
    }
   ],
   "source": [
    "function get_pf(pomdp, t_to_params, num_particles, initial_constraints=choicemap())\n",
    "    # Call GenPOMDP's built-in method for constructing particle filters for POMDP environments.\n",
    "    GenPOMDPs.pf(\n",
    "        pomdp, t_to_params,\n",
    "\n",
    "        ### Specify how to initialize the particle filter. ###\n",
    "        obs -> ( # Initialize via a 3-particle SMCP3 proposal.\n",
    "            num_particles,\n",
    "            GenSMCP3.SMCP3Update(\n",
    "                _forward_proposal, _backward_proposal,\n",
    "                # is_initial_step, t_to_params, new_action, new_obs\n",
    "                (true, t_to_params, nothing, obs[:obs], initial_constraints), # no action before the initial observation\n",
    "                # is_initial_step\n",
    "                (true,)\n",
    "            )\n",
    "        ),\n",
    "\n",
    "        ### Specify the particle filter update. ###\n",
    "        (action, obs) -> ( # Update with the SMCP3 proposal.\n",
    "            GenSMCP3.SMCP3Update(\n",
    "                _forward_proposal, _backward_proposal,\n",
    "                # is_initial_step, t_to_params, new_action, new_obs\n",
    "                (false, t_to_params, action, obs[:obs]),\n",
    "                # is_initial_step\n",
    "                (false,)\n",
    "            ),\n",
    "        );\n",
    "\n",
    "        # ### Specify the rejuvenation rule. [This argument to GenPOMDPs.pf can also be used to add MCMC rejuvenation, etc.] ###\n",
    "        # pre_update=state -> resampling_rule(state, $(esc(_resampling_args))),\n",
    "    )\n",
    "end\n",
    "\n",
    "floor_offset(x) = floor(Int, x - 0.15)\n",
    "ceil_offset(x) = ceil(Int, x + 0.15)\n",
    "\n",
    "# SMCP3 forward proposal\n",
    "GenSMCP3.@kernel function _forward_proposal(prev_trace, is_initial_step, t_to_params, new_action, new_obs, init_constraints=choicemap())\n",
    "    if is_initial_step\n",
    "        t = 0\n",
    "        # sample initial position using prior distribution\n",
    "        trace, _ = generate(uniform_agent_pos, (T_TO_PARAMS_INTRO,), init_constraints)\n",
    "    else\n",
    "        prev_t, _ = get_args(prev_trace)\n",
    "        t = prev_t + 1\n",
    "\n",
    "        last_state = prev_trace[GenPOMDPs.state_addr(prev_t)]\n",
    "        # sample initial position using prior distribution\n",
    "        trace, _ = generate(motion_model, (last_state, new_action, T_TO_PARAMS_INTRO,))\n",
    "    end\n",
    "    change_chp = choicemap(get_choices(trace))\n",
    "\n",
    "    # redraw map where ray hit wall\n",
    "    state = get_retval(trace)\n",
    "    width, height = state.world.size\n",
    "    raw_map = Matrix{GridWorlds.GridCell}(undef, width, height)\n",
    "    for i = 1:state.world.size[1]\n",
    "        for j = 1:state.world.size[2]\n",
    "            raw_map[i, j] = GridWorlds.empty\n",
    "        end\n",
    "    end\n",
    "    obs_points = GridWorlds.points_from_raytracing(state.pos..., new_obs; is_continuous=true)\n",
    "    for (_x, _y) in zip(obs_points...)\n",
    "        x_op = state.pos[1] > _x ? floor_offset : ceil_offset\n",
    "        y_op = state.pos[2] > _y ? floor_offset : ceil_offset\n",
    "        x = clamp(x_op(_x), 1, width)\n",
    "        y = clamp(y_op(_y), 1, height)\n",
    "        raw_map[x, y] = GridWorlds.wall\n",
    "    end\n",
    "    world = GridWorlds.FGridWorld(raw_map, nothing, state.world.size)\n",
    "\n",
    "    change_chp[:world] = world\n",
    "\n",
    "    return (\n",
    "        GenPOMDPs.nest_choicemap(change_chp, GenPOMDPs.state_addr(t)),\n",
    "        EmptyChoiceMap() # Backward proposal is deterministic.\n",
    "    )\n",
    "end\n",
    "\n",
    "# SMCP3 backward proposal\n",
    "GenSMCP3.@kernel function _backward_proposal(trace, is_initial_step)\n",
    "    (t, actions, t_to_params) = get_args(trace)\n",
    "    new_action = t > 0 ? actions[t] : nothing\n",
    "    t_prev = t - 1\n",
    "\n",
    "    if is_initial_step\n",
    "        var_names = [:world, :cell, :x, :y]\n",
    "    else\n",
    "        var_names = [:world, :noisy_next_pos]\n",
    "    end\n",
    "\n",
    "\n",
    "    fwd_ch = choicemap()\n",
    "    for field in var_names\n",
    "        fwd_ch[field] = trace[GenPOMDPs.state_addr(t, field)]\n",
    "    end\n",
    "\n",
    "    return (\n",
    "        EmptyChoiceMap(), # The old trace just drops values; no constraints needed.\n",
    "        fwd_ch\n",
    "    )\n",
    "end"
   ]
  },
  {
   "cell_type": "code",
   "execution_count": 190,
   "id": "927995ab",
   "metadata": {},
   "outputs": [
    {
     "data": {
      "text/plain": [
       "GLMakie.Screen(...)"
      ]
     },
     "execution_count": 190,
     "metadata": {},
     "output_type": "execute_result"
    }
   ],
   "source": [
    "# New interactive session.\n",
    "world_trace3, take_action3 = GenPOMDPs.interactive_world_trace(\n",
    "    trajectory_model, T_TO_PARAMS_INTRO,\n",
    "    choicemap(\n",
    "        (GenPOMDPs.state_addr(0, :cell), (3, 3)),\n",
    "        (GenPOMDPs.state_addr(0, :world), MAP_INTRO),\n",
    "    )\n",
    ");\n",
    "\n",
    "# similar from above, except that we provide the initial position\n",
    "# without providing the map\n",
    "pf_states = GenPOMDPs.pf_observable(\n",
    "    get_pf(\n",
    "        pomdp,\n",
    "        T_TO_PARAMS_INTRO,\n",
    "        200,  # num_particles\n",
    "        # choicemap((:world, MAP_INTRO))\n",
    "        choicemap((:cell, (3, 3)))\n",
    "    ),\n",
    "    get_actobs_seq(world_trace3)\n",
    ");\n",
    "\n",
    "# Display an interactive GUI, with the particles\n",
    "(f3, t3, actions3) = GridWorlds.Viz.interactive_gui(\n",
    "    t -> MAP_INTRO, get_posobs_seq(world_trace3), a -> take_action3((a, Dates.now())),\n",
    "    show_lines_to_walls=false,\n",
    "    framerate=8,\n",
    "    close_on_hitwall=false,\n",
    "    did_hitwall_observable=get_did_hitwall_observable(world_trace3),\n",
    "    close_window=close_window,\n",
    "\n",
    "    # For playback\n",
    "    timing_args=get_timing_args(world_trace3; speedup_factor=1, max_delay=5)\n",
    ")\n",
    "GridWorlds.Viz.display_pf_localization!(f3, t3, pf_states_to_stateweights(pf_states, field=:pos))\n",
    "GridWorlds.Viz.display_pf_state!(f3, t3, pf_states_to_stateweights(pf_states))\n",
    "\n",
    "display(f3)\n"
   ]
  },
  {
   "cell_type": "code",
   "execution_count": null,
   "id": "8db361e8",
   "metadata": {},
   "outputs": [],
   "source": []
  },
  {
   "cell_type": "code",
   "execution_count": null,
   "id": "b2960f77",
   "metadata": {},
   "outputs": [],
   "source": []
  }
 ],
 "metadata": {
  "kernelspec": {
   "display_name": "Julia 1.9.4",
   "language": "julia",
   "name": "julia-1.9"
  },
  "language_info": {
   "file_extension": ".jl",
   "mimetype": "application/julia",
   "name": "julia",
   "version": "1.9.4"
  }
 },
 "nbformat": 4,
 "nbformat_minor": 5
}
