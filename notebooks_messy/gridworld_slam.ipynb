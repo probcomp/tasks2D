{
 "cells": [
  {
   "cell_type": "code",
   "execution_count": 1,
   "id": "ce21e248",
   "metadata": {
    "tags": []
   },
   "outputs": [
    {
     "name": "stderr",
     "output_type": "stream",
     "text": [
      "\u001b[32m\u001b[1m  Activating\u001b[22m\u001b[39m project at `~/projects/tasks2D/Tasks2D`\n"
     ]
    }
   ],
   "source": [
    "# Load the Julia environment needed for this notebook\n",
    "import Pkg\n",
    "Pkg.activate(\"../Tasks2D\")"
   ]
  },
  {
   "cell_type": "code",
   "execution_count": 151,
   "id": "50da7a57",
   "metadata": {
    "tags": []
   },
   "outputs": [],
   "source": [
    "import GLMakie   # Visualization Library\n",
    "using Dates\n",
    "\n",
    "using Revise      # For development; makes it so modifications\n",
    "# to imported modules are immediately reflected in this Julia session\n",
    "using Gen         # Gen probabilistic programming library\n",
    "import GenParticleFilters # Additional particle filtering functionality for Gen\n",
    "import GridWorlds # Simple gridworld functionality\n",
    "import LineWorlds as L # For ray casting\n",
    "import GenPOMDPs  # Beginnings of a Gen POMDP library\n",
    "\n",
    "includet(\"SLAM/Utils.jl\")\n",
    "includet(\"SLAM/distributions.jl\")\n",
    "GLMakie.activate!()"
   ]
  },
  {
   "cell_type": "markdown",
   "id": "a66eda2c",
   "metadata": {},
   "source": [
    "## Using Gen to define a probabilistic model of an agent and the map in a gridworld\n",
    "\n",
    "First, we define a prior over the agent's initial position and possible map."
   ]
  },
  {
   "cell_type": "code",
   "execution_count": 152,
   "id": "61a51b46",
   "metadata": {
    "tags": []
   },
   "outputs": [
    {
     "data": {
      "text/plain": [
       "var\"##StaticGenFunction_uniform_agent_pos#2274\"(Dict{Symbol, Any}(), Dict{Symbol, Any}())"
      ]
     },
     "execution_count": 152,
     "metadata": {},
     "output_type": "execute_result"
    }
   ],
   "source": [
    "# Initial position model\n",
    "\n",
    "# Distribution to sample uniformly from a Julia Set\n",
    "using Tasks2D.Distributions: uniform_from_set\n",
    "\n",
    "\n",
    "struct State\n",
    "    world::GridWorlds.GridWorld\n",
    "    pos::Vector{Float64}\n",
    "    t::Int\n",
    "    hit_wall::Bool\n",
    "end\n",
    "\n",
    "# Initialize internal map by sampling each grid cell from iid Bernoulli\n",
    "# and initialize position by uniformly sampling from empty location\n",
    "@gen (static) function uniform_agent_pos(t_to_params)\n",
    "    params = t_to_params(0)\n",
    "    width, height, wall_prob = params.world.width, params.world.height, params.world.wall_prob\n",
    "\n",
    "    # draw each grid iid\n",
    "    world ~ bernoulli_map(width, height, wall_prob)\n",
    "    cell ~ uniform_from_set(GridWorlds.empty_cells(world))\n",
    "\n",
    "    # Cell (i, j) corresponds to the region from i-1 to i and j-1 to j\n",
    "    x ~ uniform(cell[1] - 1, cell[1])\n",
    "    y ~ uniform(cell[2] - 1, cell[2])\n",
    "\n",
    "    return State(world, [x, y], 0, false)\n",
    "end"
   ]
  },
  {
   "cell_type": "markdown",
   "id": "f99d6af7",
   "metadata": {},
   "source": [
    "Next, we define a motion model describing a distribution over the agent's next position,\n",
    "given its previous positon and the action it takes."
   ]
  },
  {
   "cell_type": "code",
   "execution_count": 153,
   "id": "01401b0e",
   "metadata": {},
   "outputs": [
    {
     "data": {
      "text/plain": [
       "handle_wall_intersection (generic function with 1 method)"
      ]
     },
     "execution_count": 153,
     "metadata": {},
     "output_type": "execute_result"
    }
   ],
   "source": [
    "function det_next_pos(pos, a, Δ)\n",
    "    (x, y) = pos\n",
    "    a == :up ? [x, y + Δ] :\n",
    "    a == :down ? [x, y - Δ] :\n",
    "    a == :left ? [x - Δ, y] :\n",
    "    a == :right ? [x + Δ, y] :\n",
    "    a == :stay ? [x, y] :\n",
    "    error(\"Unrecognized action: $a\")\n",
    "end\n",
    "\n",
    "function handle_wall_intersection(prev, new, gridworld)\n",
    "    walls = GridWorlds.nonempty_segments(gridworld)\n",
    "    move = L.Segment(prev, new)\n",
    "\n",
    "    min_collision_dist = Inf\n",
    "    vec_to_min_dist_collision = nothing\n",
    "    for i in 1:(size(walls)[1])\n",
    "        wall = walls[i, :]\n",
    "        # leverage ray caster to check for collisions in the\n",
    "        # movement direction\n",
    "        do_intersect, dist = L.Geometry.cast(move, L.Segment(wall))\n",
    "\n",
    "        if do_intersect && dist ≤ L.Geometry.norm(move)\n",
    "            if dist < min_collision_dist\n",
    "                min_collision_dist = dist\n",
    "                vec_to_min_dist_collision = L.Geometry.diff(move)\n",
    "            end\n",
    "        end\n",
    "    end\n",
    "\n",
    "    if !isnothing(vec_to_min_dist_collision)\n",
    "        dist = min_collision_dist\n",
    "        if dist < 0.05\n",
    "            return (prev, true)\n",
    "        else\n",
    "            # obtain point of collision by moving forward along the\n",
    "            # movement vector by a `dist` amount\n",
    "            normalized_vec = (vec_to_min_dist_collision / L.Geometry.norm(vec_to_min_dist_collision))\n",
    "            collision_pt = prev + (dist - 0.04) * normalized_vec\n",
    "            return (collision_pt, true)\n",
    "        end\n",
    "    end\n",
    "\n",
    "    return (new, false)\n",
    "end"
   ]
  },
  {
   "cell_type": "code",
   "execution_count": 154,
   "id": "ec2ca1e4",
   "metadata": {
    "tags": []
   },
   "outputs": [
    {
     "data": {
      "text/plain": [
       "var\"##StaticGenFunction_motion_model#2305\"(Dict{Symbol, Any}(), Dict{Symbol, Any}())"
      ]
     },
     "execution_count": 154,
     "metadata": {},
     "output_type": "execute_result"
    }
   ],
   "source": [
    "# Motion model\n",
    "\n",
    "@gen (static) function motion_model(state::State, action, t_to_params)\n",
    "    current_t = state.t + 1\n",
    "    (a, wall_clock_time) = action\n",
    "    params = t_to_params(current_t)\n",
    "\n",
    "    next_pos_det = det_next_pos(state.pos, a, params.step.Δ)\n",
    "    noisy_next_pos ~ broadcasted_normal(next_pos_det, params.step.σ)\n",
    "    (next_pos, hit_wall) = handle_wall_intersection(state.pos, noisy_next_pos, state.world)\n",
    "\n",
    "    return State(state.world, next_pos, current_t, state.hit_wall || hit_wall)\n",
    "end\n"
   ]
  },
  {
   "cell_type": "markdown",
   "id": "5279ce59",
   "metadata": {},
   "source": [
    "Finally, we define an observation model.  We model the agent making noisy LIDAR distance measurements\n",
    "along `n_rays` evenly spaced angles.  We model sensor error as Gaussian noise in the measured distances."
   ]
  },
  {
   "cell_type": "code",
   "execution_count": 160,
   "id": "7b8bfc86",
   "metadata": {
    "tags": []
   },
   "outputs": [
    {
     "data": {
      "text/plain": [
       "DynamicDSLFunction{Any}(Dict{Symbol, Any}(), Dict{Symbol, Any}(), Type[State, Any], false, Union{Nothing, Some{Any}}[nothing, nothing], var\"##observe_noisy_distances#2405\", Bool[0, 0], false)"
      ]
     },
     "execution_count": 160,
     "metadata": {},
     "output_type": "execute_result"
    }
   ],
   "source": [
    "@gen function observe_noisy_distances(state::State, t_to_params)\n",
    "    params = t_to_params(state.t)\n",
    "\n",
    "    p = reshape([state.pos..., params.obs.orientation], (1, 3))\n",
    "    _as = L.create_angles(params.obs.fov, params.obs.n_rays)\n",
    "    wall_segs = GridWorlds.wall_segments(state.world)\n",
    "    strange_segs = GridWorlds.strange_segments(state.world)\n",
    "\n",
    "    # handle observations from walls\n",
    "    w, s_noise, outlier, outlier_vol, zmax = params.obs.wall_sensor_args\n",
    "    dists_walls = L.cast(p, wall_segs; num_a=params.obs.n_rays, zmax)\n",
    "    dists_walls = reshape(dists_walls, (:,))\n",
    "\n",
    "\n",
    "    # handle observations from the strange objects\n",
    "    w, s_noise, outlier, outlier_vol, zmax = params.obs.strange_sensor_args\n",
    "    dists_strange = L.cast(p, strange_segs; num_a=params.obs.n_rays, zmax)\n",
    "    dists_strange = reshape(dists_strange, (:,))\n",
    "\n",
    "    # check for occlusion\n",
    "    is_wall_measurement = [w < s for (w, s) in zip(dists_walls, dists_strange)]\n",
    "    dists_walls = dists_walls[is_wall_measurement]\n",
    "    dists_strange = dists_strange[.!is_wall_measurement]\n",
    "\n",
    "    dists_strange_mins = [params.obs.strange_sensor_args.dist_to_zmin(d) for d in dists_strange]\n",
    "    dists_strange_maxs = [params.obs.strange_sensor_args.dist_to_zmax(d) for d in dists_strange]\n",
    "\n",
    "    # sample observations\n",
    "    obs ~ mixture_measurement(\n",
    "        is_wall_measurement,\n",
    "        dists_walls,\n",
    "        params.obs.wall_sensor_args.σ,\n",
    "        dists_strange_mins,\n",
    "        dists_strange_maxs,\n",
    "    )\n",
    "\n",
    "    return obs\n",
    "end"
   ]
  },
  {
   "cell_type": "markdown",
   "id": "1e048eb5",
   "metadata": {},
   "source": [
    "We can define a POMDP where the state at each timestep is the agent's (x, y) position, and each observation is a vector of noisy distances measured by the agent's \"LIDAR\" sensor.\n",
    "\n",
    "For now, we won't have a meaningful utility function."
   ]
  },
  {
   "cell_type": "code",
   "execution_count": 161,
   "id": "80a55fd4",
   "metadata": {
    "tags": []
   },
   "outputs": [
    {
     "data": {
      "text/plain": [
       "GenPOMDPs.GenPOMDP(var\"##StaticGenFunction_uniform_agent_pos#2274\"(Dict{Symbol, Any}(), Dict{Symbol, Any}()), var\"##StaticGenFunction_motion_model#2305\"(Dict{Symbol, Any}(), Dict{Symbol, Any}()), DynamicDSLFunction{Any}(Dict{Symbol, Any}(), Dict{Symbol, Any}(), Type[State, Any], false, Union{Nothing, Some{Any}}[nothing, nothing], var\"##observe_noisy_distances#2405\", Bool[0, 0], false), var\"#461#462\"())"
      ]
     },
     "execution_count": 161,
     "metadata": {},
     "output_type": "execute_result"
    }
   ],
   "source": [
    "# POMDP of this environment\n",
    "pomdp = GenPOMDPs.GenPOMDP(\n",
    "    uniform_agent_pos,       # INIT   : params                      ⇝ state\n",
    "    motion_model,            # STEP   : prev_state, actions, params ⇝ state\n",
    "    observe_noisy_distances, # OBS    : state, params               ⇝ observation\n",
    "    (state, action) -> 0.0   # UTILITY: state, action, params       → utility\n",
    ")"
   ]
  },
  {
   "cell_type": "markdown",
   "id": "d594d4e1",
   "metadata": {},
   "source": [
    "We can use the GenPOMDP library to construct a probability distribution over trajectories for this POMDP, given a fixed sequence of actions the agent takes.\n",
    "\n",
    "This probability distribution is represented as a Gen generative function."
   ]
  },
  {
   "cell_type": "code",
   "execution_count": 162,
   "id": "04125c29",
   "metadata": {
    "tags": []
   },
   "outputs": [
    {
     "data": {
      "text/plain": [
       "GenPOMDPs.var\"##StaticGenFunction__ControlledTrajectoryModel#2477\"(Dict{Symbol, Any}(), Dict{Symbol, Any}())"
      ]
     },
     "execution_count": 162,
     "metadata": {},
     "output_type": "execute_result"
    }
   ],
   "source": [
    "# Generative function over trajectories of the POMDP,\n",
    "# given a fixed action sequence.\n",
    "trajectory_model = GenPOMDPs.ControlledTrajectoryModel(pomdp)"
   ]
  },
  {
   "cell_type": "markdown",
   "id": "1014019e",
   "metadata": {},
   "source": [
    "## Interacting with the enviornment\n",
    "\n",
    "Let's load a gridworld map obtained by tracing a PNG file from the HouseExpo dataset.\n",
    "We also need to set some parameters controlling the motion and observation model."
   ]
  },
  {
   "cell_type": "code",
   "execution_count": 163,
   "id": "af11574f",
   "metadata": {
    "tags": []
   },
   "outputs": [
    {
     "data": {
      "text/plain": [
       "#467 (generic function with 1 method)"
      ]
     },
     "execution_count": 163,
     "metadata": {},
     "output_type": "execute_result"
    }
   ],
   "source": [
    "_get_params(map) = (;\n",
    "    # map = GridWorlds.load_custom_map(5),\n",
    "    # map=map,\n",
    "    world=(; width=size(map)[1], height=size(map)[2], wall_prob=(1 - length(GridWorlds.empty_cells(map)) / prod(size(map)))),\n",
    "    step=(; Δ=0.5, σ=0.005),\n",
    "    obs=(; fov=2π, n_rays=90, orientation=π / 2,\n",
    "        # I think currently only σ is used\n",
    "        wall_sensor_args=(;\n",
    "            w=5, s_noise=0.02,\n",
    "            outlier=0.0001,\n",
    "            outlier_vol=100.0,\n",
    "            zmax=100.0, σ=0.005\n",
    "        ), strange_sensor_args=(;\n",
    "            w=5, s_noise=0.02,\n",
    "            outlier=0.0001,\n",
    "            outlier_vol=100.0,\n",
    "            zmax=100.0, σ=5.5,\n",
    "            dist_to_zmin=x -> 1.0,\n",
    "            dist_to_zmax=x -> 2.0 + x * 2.5,\n",
    "        )\n",
    "    )\n",
    ")\n",
    "\n",
    "constant_t_to_params(params) = (t) -> params\n",
    "\n",
    "MAP_INTRO = GridWorlds.load_houseexpo_gridworld(24, 1)\n",
    "MAP_EXPLAIN_STRANGE = GridWorlds.load_custom_map(3)\n",
    "MAP_W_STRANGE = GridWorlds.load_custom_map(4)\n",
    "MAP_WOUT_STRANGE = GridWorlds.load_custom_map(5)\n",
    "MAP2_W_STRANGE = GridWorlds.load_custom_map(6)\n",
    "MAP2_WOUT_STRANGE = GridWorlds.load_custom_map(7)\n",
    "\n",
    "T_TO_PARAMS_INTRO = constant_t_to_params(_get_params(MAP_INTRO))\n",
    "T_TO_PARAMS_EXPLAIN_STRANGE = constant_t_to_params(_get_params(MAP_EXPLAIN_STRANGE))\n",
    "T_TO_PARAMS_W_STRANGE = constant_t_to_params(_get_params(MAP_W_STRANGE))\n",
    "T_TO_PARAMS_WOUT_STRANGE = constant_t_to_params(_get_params(MAP_WOUT_STRANGE))\n",
    "T_TO_PARAMS_LEARN_MAP = T_TO_PARAMS_WOUT_STRANGE"
   ]
  },
  {
   "cell_type": "markdown",
   "id": "b0e64935",
   "metadata": {},
   "source": [
    "Then, we can use functionality from the GenPOMDP library to construct an interactive world state, which\n",
    "we can take actions in by calling a callback function.\n",
    "\n",
    "Specifically, `GenPOMDPs.interactive_world_trace` will give us a `take_action` callback,\n",
    "and a `world_trace` object.  The `world_trace` object is an `Observable` from the Julia\n",
    "`Observables` library.  An `Observable` is a pointer to an object, which also maintains a list of\n",
    "\"subscriber\" objects.  Each time the value at the pointer changes, the Observable notifies its\n",
    "subscribers of the change.\n",
    "\n",
    "In this case, the `world_trace` object is automatically updated every time the `take_action` callback\n",
    "is called with an action.  The `world_trace` is an observable over a `Trace` from Gen, for the\n",
    "`trajectory_model` generative function defined above.  This trace represents a trajectory in the\n",
    "POMDP, over `T` timesteps.  Each time we call `take_action(a)`, the world trace is automatically\n",
    "extended by another timestep, by taking action `a`, and simulating a new random world state\n",
    "and observation from the POMDP."
   ]
  },
  {
   "cell_type": "code",
   "execution_count": 164,
   "id": "98dfcc4d",
   "metadata": {
    "tags": []
   },
   "outputs": [],
   "source": [
    "world_trace, take_action = GenPOMDPs.interactive_world_trace(\n",
    "    trajectory_model, T_TO_PARAMS_INTRO,\n",
    "    choicemap(\n",
    "        (GenPOMDPs.state_addr(0, :cell), (3, 3)),\n",
    "        (GenPOMDPs.state_addr(0, :world), MAP_INTRO),\n",
    "    )\n",
    ");"
   ]
  },
  {
   "cell_type": "markdown",
   "id": "b78338bc",
   "metadata": {},
   "source": [
    "The GridWorlds library provides visualizations which map keyboard events onto the `take_action` function above.\n",
    "\n",
    "Use WASD to move the agent around.  Press E to have a timestep pass where the agent takes a \"stay\" action.\n",
    "Use G to backtrack in time to view past world states.  Use T to increment time back to the current moment.  (Actions can only be taken when in the farthest simulated world state.)"
   ]
  },
  {
   "cell_type": "code",
   "execution_count": 165,
   "id": "f337e5a1",
   "metadata": {},
   "outputs": [
    {
     "data": {
      "text/plain": [
       "get_timing_args (generic function with 1 method)"
      ]
     },
     "execution_count": 165,
     "metadata": {},
     "output_type": "execute_result"
    }
   ],
   "source": [
    "# Map the world_trace observable to an observable\n",
    "# over the sequence of ground truth positions, and observation\n",
    "# point clouds.\n",
    "function get_posobs_seq(groundtruth_trace)\n",
    "    return map(\n",
    "        trace -> (\n",
    "            [state.pos for state in GenPOMDPs.state_sequence(trace)],\n",
    "            GenPOMDPs.observation_retval_sequence(trace)\n",
    "        ),\n",
    "        groundtruth_trace\n",
    "    )\n",
    "end\n",
    "\n",
    "function get_did_hitwall_observable(trace)\n",
    "    return map(trace -> GenPOMDPs.state_sequence(trace)[end].hit_wall, trace)\n",
    "end\n",
    "function close_window(f)\n",
    "    glfw_window = GLMakie.to_native(display(f))\n",
    "    GLMakie.GLFW.SetWindowShouldClose(glfw_window, true)\n",
    "end\n",
    "function get_action_times_observable(trace)\n",
    "    return map(trace -> [t for (a, t) in GenPOMDPs.action_sequence(trace)], trace)\n",
    "end\n",
    "function get_timing_args(trace; speedup_factor=1, max_delay=5) # 5 seconds max delay\n",
    "    return (get_action_times_observable(trace), speedup_factor, max_delay)\n",
    "end"
   ]
  },
  {
   "cell_type": "code",
   "execution_count": 166,
   "id": "7afc5c4d",
   "metadata": {},
   "outputs": [
    {
     "data": {
      "text/plain": [
       "GLMakie.Screen(...)"
      ]
     },
     "execution_count": 166,
     "metadata": {},
     "output_type": "execute_result"
    }
   ],
   "source": [
    "\n",
    "(f, t, actions) = GridWorlds.Viz.interactive_gui(\n",
    "    t -> MAP_INTRO, get_posobs_seq(world_trace), a -> take_action((a, Dates.now())),\n",
    "    show_lines_to_walls=false,\n",
    "    framerate=8,\n",
    "    close_on_hitwall=true,\n",
    "    did_hitwall_observable=get_did_hitwall_observable(world_trace),\n",
    "    close_window=close_window,\n",
    "\n",
    "    # For playback\n",
    "    timing_args=get_timing_args(world_trace; speedup_factor=1, max_delay=5)\n",
    ")\n",
    "display(f)"
   ]
  },
  {
   "cell_type": "markdown",
   "id": "f10fe46e",
   "metadata": {},
   "source": [
    "## Localization via Particle Filtering\n",
    "\n",
    "Now, we'll set up another interactive session.  In this interactive session, we will route the\n",
    "taken actions, and the observations generated in the POMDP simulation, to a particle filter.\n",
    "We'll visualize the particles, representing the agent's location, as green squares.  The alpha\n",
    "of the color will reflect the particles' weights.\n",
    "\n",
    "For this first demo, we'll just use a bootstrap particle filter."
   ]
  },
  {
   "cell_type": "code",
   "execution_count": 179,
   "id": "efef929f",
   "metadata": {},
   "outputs": [
    {
     "data": {
      "text/plain": [
       "GLMakie.Screen(...)"
      ]
     },
     "execution_count": 179,
     "metadata": {},
     "output_type": "execute_result"
    }
   ],
   "source": [
    "# New interactive session.\n",
    "world_trace2, take_action2 = GenPOMDPs.interactive_world_trace(\n",
    "    trajectory_model, T_TO_PARAMS_INTRO,\n",
    "    choicemap(\n",
    "        (GenPOMDPs.state_addr(0, :cell), (3, 3)),\n",
    "        (GenPOMDPs.state_addr(0, :world), MAP_INTRO),\n",
    "    )\n",
    ");\n",
    "\n",
    "# Construct an observable of the sequence of observations and actions from the\n",
    "# world (consumed by inference).\n",
    "function get_actobs_seq(groundtruth_trace)\n",
    "    return map(\n",
    "        trace -> (\n",
    "            GenPOMDPs.observation_sequence(trace),\n",
    "            GenPOMDPs.action_sequence(trace)\n",
    "        ),\n",
    "        groundtruth_trace\n",
    "    )\n",
    "end\n",
    "\n",
    "\n",
    "# Maintain a 200-particle bootstrap particle filter,\n",
    "# which updates whenever `world_trace2` updates\n",
    "bootstrap_pf_states = GenPOMDPs.pf_observable(\n",
    "    GenPOMDPs.bootstrap_pf(\n",
    "        pomdp,  # Run inference in the ground truth POMDP\n",
    "        T_TO_PARAMS_INTRO, # with the ground-truth parameters\n",
    "        200     # using 200 particles\n",
    "    ),\n",
    "    get_actobs_seq(world_trace2)\n",
    ");\n",
    "\n",
    "# Convert a vector of particle filter states to a vector of\n",
    "# (particle filter weights, particle filter positions),\n",
    "# for each timestep.  (This is the format consumed by the visualization.)\n",
    "get_positions(pf_state) = map(\n",
    "    (x -> x[end].pos) ∘ GenPOMDPs.state_sequence,\n",
    "    GenParticleFilters.get_traces(pf_state)\n",
    ")\n",
    "function pf_states_to_posweights(pf_states)\n",
    "    return map(states -> ( # Map the observable to an observable over a tuple...\n",
    "\n",
    "            # First element of the tuple: particle weights for each timestep.\n",
    "            map(GenParticleFilters.get_norm_weights, states),\n",
    "\n",
    "            # Second element of the tuple: particle positions for each timestep\n",
    "            map(get_positions, states)), pf_states)\n",
    "end\n",
    "\n",
    "# Display an interactive GUI, with the particles\n",
    "(f2, t2, actions2) = GridWorlds.Viz.interactive_gui(\n",
    "    t -> MAP_INTRO, get_posobs_seq(world_trace2), a -> take_action2((a, Dates.now())),\n",
    "    show_lines_to_walls=false,\n",
    "    framerate=8,\n",
    "    close_on_hitwall=true,\n",
    "    did_hitwall_observable=get_did_hitwall_observable(world_trace),\n",
    "    close_window=close_window,\n",
    "\n",
    "    # For playback\n",
    "    timing_args=get_timing_args(world_trace; speedup_factor=1, max_delay=5)\n",
    ")\n",
    "GridWorlds.Viz.display_pf_localization!(f2, t2, pf_states_to_posweights(bootstrap_pf_states))\n",
    "display(f2)\n"
   ]
  },
  {
   "cell_type": "markdown",
   "id": "fcb7da0f",
   "metadata": {},
   "source": [
    "## Inferring the \"Strange Object\""
   ]
  },
  {
   "cell_type": "code",
   "execution_count": 32,
   "id": "41bac3db",
   "metadata": {},
   "outputs": [
    {
     "ename": "LoadError",
     "evalue": "UndefVarError: `hbox` not defined",
     "output_type": "error",
     "traceback": [
      "UndefVarError: `hbox` not defined",
      "",
      "Stacktrace:",
      " [1] getproperty(x::Module, f::Symbol)",
      "   @ Base ./Base.jl:31",
      " [2] top-level scope",
      "   @ In[32]:2"
     ]
    }
   ],
   "source": [
    "import Makie\n",
    "display(Makie.hbox(f, f2))"
   ]
  },
  {
   "cell_type": "markdown",
   "id": "970bb687",
   "metadata": {},
   "source": [
    "## Legacy stuff down below ~~~~~~~~"
   ]
  },
  {
   "cell_type": "markdown",
   "id": "79692805",
   "metadata": {},
   "source": [
    "## SLAM via Particle Filtering\n",
    "\n",
    "Assuming that the robot doesn't know the map ahead of time, will it be able to reconstruct \n",
    "the map and localize itself simutaneously? To test this out, let's set up another generative\n",
    "model to reflects the robot's internal beliefs and defines how it transists over time."
   ]
  },
  {
   "cell_type": "code",
   "execution_count": 17,
   "id": "2f3d4113-417b-4983-ab5a-a6c51357df1c",
   "metadata": {},
   "outputs": [
    {
     "data": {
      "text/plain": [
       "var\"##StaticGenFunction_uniform_agent_pos_and_world#565\"(Dict{Symbol, Any}(), Dict{Symbol, Any}())"
      ]
     },
     "execution_count": 17,
     "metadata": {},
     "output_type": "execute_result"
    }
   ],
   "source": [
    "\n",
    "\n",
    "@gen (static) function uniform_agent_pos_and_world(params)\n",
    "    w, h, wall_prob = params.world.width, params.world.height, params.world.wall_prob\n",
    "\n",
    "    # draw each grid iid\n",
    "    world ~ generate_iid_bernoulli_map(w, h, wall_prob)\n",
    "    pos ~ uniform_from_set(GridWorlds.empty_cells(world))\n",
    "    return State(world, pos)\n",
    "end"
   ]
  },
  {
   "cell_type": "code",
   "execution_count": 23,
   "id": "14e7e071-0f75-450f-9056-a66d9e3b362a",
   "metadata": {},
   "outputs": [
    {
     "data": {
      "text/plain": [
       "GLMakie.Screen(...)"
      ]
     },
     "execution_count": 23,
     "metadata": {},
     "output_type": "execute_result"
    }
   ],
   "source": [
    "state = uniform_agent_pos_and_world((world=(height=10, width=16, wall_prob=0.5),))\n",
    "\n",
    "f = GridWorlds.Viz.visualize_grid(GridWorlds.Viz.place_agent(state.world, state.pos))\n",
    "display(f)"
   ]
  },
  {
   "cell_type": "code",
   "execution_count": 24,
   "id": "17b246d8-1760-4d45-a3eb-5213e6ef5534",
   "metadata": {},
   "outputs": [
    {
     "data": {
      "text/plain": [
       "var\"##StaticGenFunction_update_iid_bernoulli_map#702\"(Dict{Symbol, Any}(), Dict{Symbol, Any}())"
      ]
     },
     "execution_count": 24,
     "metadata": {},
     "output_type": "execute_result"
    }
   ],
   "source": [
    "# For step/transition, let's define some utility functions to randomly\n",
    "# flip the grids in the previous map based on a flip_prob\n",
    "@gen (static) function flip_wall(flip_prob::Real, cell::GridWorlds.GridCell)\n",
    "    should_flip ~ bernoulli(flip_prob)\n",
    "    return should_flip ? (cell == GridWorlds.empty ? GridWorlds.wall : GridWorlds.empty) : cell\n",
    "end\n",
    "\n",
    "@gen (static) function update_iid_bernoulli_map(world::GridWorlds.GridWorld, flip_prob::Real)\n",
    "    width, height = world.size\n",
    "    raw_map ~ Map(Map(flip_wall))(fill(fill(flip_prob, height), width), world.cells)\n",
    "    return GridWorlds.FGridWorld(raw_map, nothing, world.size)\n",
    "end"
   ]
  },
  {
   "cell_type": "code",
   "execution_count": 25,
   "id": "3bdd7e30-c6af-4265-9b5d-d4e7862303d1",
   "metadata": {},
   "outputs": [
    {
     "data": {
      "text/plain": [
       "var\"##StaticGenFunction_moving_and_mapping#744\"(Dict{Symbol, Any}(), Dict{Symbol, Any}())"
      ]
     },
     "execution_count": 25,
     "metadata": {},
     "output_type": "execute_result"
    }
   ],
   "source": [
    "@gen (static) function moving_and_mapping(state::State, action, params)\n",
    "    σ, flip_prob = params.step.σ, params.world.flip_prob\n",
    "    world, pos = state.world, state.pos\n",
    "\n",
    "    # Step 1: fix pos, update map\n",
    "    # TODO: see if it's necessary to pass in pos as well so that the currently\n",
    "    # occupied cell won't be turned into wall (it's possible that pf can filter\n",
    "    # this out)\n",
    "    world ~ update_iid_bernoulli_map(world, flip_prob)\n",
    "\n",
    "    # Step 2: update agent pos\n",
    "    new_agent_position_deterministic = GridWorlds.newpos(world, pos, action)\n",
    "    (possible_positions, logprobs) = _get_motion_logprobs(\n",
    "        world, new_agent_position_deterministic, σ\n",
    "    )\n",
    "\n",
    "    x = (@assert valid_logprobs(logprobs) \"logprobs: $logprobs\")\n",
    "\n",
    "    pos ~ list_categorical(\n",
    "        possible_positions,\n",
    "        _normalized_probs(logprobs)\n",
    "    )\n",
    "\n",
    "    return State(world, pos)\n",
    "end"
   ]
  },
  {
   "cell_type": "code",
   "execution_count": 26,
   "id": "cb6f9c29-64d3-4bc0-91f9-2f56fd48afa7",
   "metadata": {},
   "outputs": [
    {
     "name": "stdout",
     "output_type": "stream",
     "text": [
      "(6, 2)(7, 2)\n"
     ]
    },
    {
     "data": {
      "text/plain": [
       "GLMakie.Screen(...)"
      ]
     },
     "execution_count": 26,
     "metadata": {},
     "output_type": "execute_result"
    }
   ],
   "source": [
    "# let's visualize how an updated state may look like\n",
    "updated_state = moving_and_mapping(state, :right, (step=(σ=0.3,), world=(flip_prob=0.1,)))\n",
    "println(state.pos, updated_state.pos)\n",
    "\n",
    "f = GridWorlds.Viz.visualize_grid(GridWorlds.Viz.place_agent(updated_state.world, updated_state.pos))\n",
    "display(f)"
   ]
  },
  {
   "cell_type": "code",
   "execution_count": 27,
   "id": "8e70db2d-943d-437d-9668-3987a95ceac0",
   "metadata": {},
   "outputs": [
    {
     "data": {
      "text/plain": [
       "var\"##StaticGenFunction_observe_noisier_distances#772\"(Dict{Symbol, Any}(), Dict{Symbol, Any}())"
      ]
     },
     "execution_count": 27,
     "metadata": {},
     "output_type": "execute_result"
    }
   ],
   "source": [
    "# the observation model is pretty much the same as before\n",
    "@gen (static) function observe_noisier_distances(state::State, params)\n",
    "    n_rays, σ = params.obs.n_rays, params.obs.σ\n",
    "\n",
    "    world_with_agent = GridWorlds.place_agent(state.world, state.pos)\n",
    "    dists = GridWorlds.ray_trace_distances(cast, world_with_agent, n_rays)\n",
    "    obs ~ broadcasted_normal(dists, σ)\n",
    "    return obs\n",
    "end"
   ]
  },
  {
   "cell_type": "code",
   "execution_count": 28,
   "id": "58be8a91-0d94-419a-95ca-1f566c8115aa",
   "metadata": {},
   "outputs": [
    {
     "data": {
      "text/plain": [
       "GenPOMDPs.GenPOMDP(var\"##StaticGenFunction_uniform_agent_pos_and_world#565\"(Dict{Symbol, Any}(), Dict{Symbol, Any}()), var\"##StaticGenFunction_moving_and_mapping#744\"(Dict{Symbol, Any}(), Dict{Symbol, Any}()), var\"##StaticGenFunction_observe_noisier_distances#772\"(Dict{Symbol, Any}(), Dict{Symbol, Any}()), var\"#250#251\"())"
      ]
     },
     "execution_count": 28,
     "metadata": {},
     "output_type": "execute_result"
    }
   ],
   "source": [
    "# Now, let's set up a new POMPDPS for this model\n",
    "slam_pomdp = GenPOMDPs.GenPOMDP(\n",
    "    uniform_agent_pos_and_world,   # INIT   : params                      ⇝ state\n",
    "    moving_and_mapping,            # STEP   : prev_state, actions, params ⇝ state\n",
    "    observe_noisier_distances,     # OBS    : state, params               ⇝ observation\n",
    "    (state, action) -> 0.0          # UTILITY: state, action, params       → utility\n",
    ")"
   ]
  },
  {
   "cell_type": "code",
   "execution_count": 29,
   "id": "93380ec3-f0c6-4967-8489-766bff6f539e",
   "metadata": {},
   "outputs": [],
   "source": [
    "width, height = size(PARAMS.map)\n",
    "SLAM_PARAMS = (\n",
    "    # load houseexpo env #7,\n",
    "    # discretized with 24 gridsquares along the x axis\n",
    "    world=(width, height, wall_prob=0.4, flip_prob=0.1), obs=PARAMS.obs,\n",
    "    step=PARAMS.step\n",
    ");"
   ]
  },
  {
   "cell_type": "markdown",
   "id": "016a04d9-d8ea-4fcd-898d-afff17dc1d0c",
   "metadata": {},
   "source": [
    "Now, we'll set up another interactive session.  In this interactive session, we will route the\n",
    "taken actions, and the observations generated in the POMDP simulation, to a particle filter.\n",
    "We'll visualize the particles, representing the agent's location, as green squares.  The alpha\n",
    "of the color will reflect the particles' weights.\n",
    "\n",
    "For this first demo, we'll just use a bootstrap particle filter."
   ]
  },
  {
   "cell_type": "code",
   "execution_count": 92,
   "id": "4e23815a",
   "metadata": {
    "tags": []
   },
   "outputs": [
    {
     "ename": "LoadError",
     "evalue": "UndefVarError: `PARAMS` not defined",
     "output_type": "error",
     "traceback": [
      "UndefVarError: `PARAMS` not defined",
      "",
      "Stacktrace:",
      " [1] top-level scope",
      "   @ In[92]:2"
     ]
    }
   ],
   "source": [
    "# New interactive session\n",
    "world_trace2, take_action2 = GenPOMDPs.interactive_world_trace(trajectory_model, PARAMS);\n",
    "\n",
    "# Construct an observable of the sequence of observations and actions from the\n",
    "# world (consumed by inference).\n",
    "function get_actobs_seq(groundtruth_trace)\n",
    "    return map(\n",
    "        trace -> (\n",
    "            GenPOMDPs.observation_sequence(trace),\n",
    "            GenPOMDPs.action_sequence(trace)\n",
    "        ),\n",
    "        groundtruth_trace\n",
    "    )\n",
    "end\n",
    "\n",
    "# Maintain a 200-particle bootstrap particle filter,\n",
    "# which updates whenever `world_trace2` updates\n",
    "bootstrap_pf_states = GenPOMDPs.pf_observable(\n",
    "    GenPOMDPs.bootstrap_pf(\n",
    "        slam_pomdp,  # Run inference with SLAM\n",
    "        SLAM_PARAMS, # with the ground-truth parameters\n",
    "        200     # using 200 particles\n",
    "    ),\n",
    "    get_actobs_seq(world_trace2)\n",
    ");\n",
    "\n",
    "# Convert a vector of particle filter states to a vector of\n",
    "# (particle filter weights, particle filter positions),\n",
    "# for each timestep.  (This is the format consumed by the visualization.)\n",
    "get_states(pf_state) = map(\n",
    "    (x -> x[end]) ∘ GenPOMDPs.state_sequence,\n",
    "    GenParticleFilters.get_traces(pf_state)\n",
    ")\n",
    "function pf_states_to_stateweights(pf_states; field=nothing)\n",
    "    get_fields(states) = field == nothing ? states : map(state -> getfield(state, field), states)\n",
    "    return map(states -> ( # Map the observable to an observable over a tuple...\n",
    "\n",
    "            # First element of the tuple: particle weights for each timestep.\n",
    "            map(GenParticleFilters.get_norm_weights, states),\n",
    "\n",
    "            # Second element of the tuple: particle states for each timestep\n",
    "            map(get_fields ∘ get_states, states)), pf_states)\n",
    "end\n",
    "\n",
    "# Display an interactive GUI, with the particles|\n",
    "(f2, t2) = GridWorlds.Viz.interactive_gui(t -> PARAMS.map, get_posobs_seq(world_trace2), take_action2)\n",
    "GridWorlds.Viz.display_pf_localization!(f2, t2, pf_states_to_stateweights(bootstrap_pf_states; field=:pos))\n",
    "display(f2)"
   ]
  },
  {
   "cell_type": "code",
   "execution_count": null,
   "id": "4ee5fd25-7c86-4763-bbc4-d33d037e1df8",
   "metadata": {},
   "outputs": [],
   "source": [
    "GridWorlds.Viz.display_pf_state(t2, pf_states_to_stateweights(bootstrap_pf_states))"
   ]
  },
  {
   "cell_type": "code",
   "execution_count": null,
   "id": "a193559c-09a5-4788-9ae7-0656d614c153",
   "metadata": {},
   "outputs": [],
   "source": []
  }
 ],
 "metadata": {
  "kernelspec": {
   "display_name": "Julia 1.9.4",
   "language": "julia",
   "name": "julia-1.9"
  },
  "language_info": {
   "file_extension": ".jl",
   "mimetype": "application/julia",
   "name": "julia",
   "version": "1.9.4"
  }
 },
 "nbformat": 4,
 "nbformat_minor": 5
}
