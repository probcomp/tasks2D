{
 "cells": [
  {
   "cell_type": "code",
   "execution_count": null,
   "id": "1535d590",
   "metadata": {},
   "outputs": [],
   "source": [
    "import Pkg\n",
    "Pkg.activate(\"../../Tasks2D\")\n",
    "using Revise"
   ]
  },
  {
   "cell_type": "code",
   "execution_count": null,
   "id": "6766d205",
   "metadata": {},
   "outputs": [],
   "source": [
    "includet(\"09/model.jl\") # Probabilistic model\n",
    "includet(\"09/pf.jl\")    # Particle filter\n",
    "\n",
    "includet(\"09/wall_follow.jl\") # Wall following behavior\n",
    "includet(\"09/astar_nav.jl\")   # Behavior for navigation via A*"
   ]
  },
  {
   "cell_type": "code",
   "execution_count": null,
   "id": "5ed9c1cc",
   "metadata": {},
   "outputs": [],
   "source": [
    "includet(\"09/visualize.jl\")"
   ]
  },
  {
   "cell_type": "code",
   "execution_count": null,
   "id": "84a78158",
   "metadata": {},
   "outputs": [],
   "source": [
    "# Load the map (line segments, bounding box)\n",
    "(_segs, _bb, _) = L.load_env_sparse(\"/Users/georgematheos/Developer/research/summer2023/tasks2d/data/environments/ambig.json\");"
   ]
  },
  {
   "cell_type": "code",
   "execution_count": null,
   "id": "d81aeee0",
   "metadata": {},
   "outputs": [],
   "source": [
    "# Parameters for the grid discretization used for planning\n",
    "ϵ = 0.25\n",
    "(grid, edges, l_to_g, g_to_l) = line_to_grid(_segs, _bb, ϵ)\n",
    "w = GridWorlds.boolmatrix_to_grid(grid, (length(edges[1]), length(edges[2])));"
   ]
  },
  {
   "cell_type": "code",
   "execution_count": null,
   "id": "1f011477",
   "metadata": {},
   "outputs": [],
   "source": [
    "### Ground truth world model parameters ###\n",
    "PARAMS = (;\n",
    "    map = _segs, orientation = π/2,\n",
    "    bounding_box = L.bounding_box(_segs),\n",
    "    step = (; Δ = 0.25, σ = 0.005 ),\n",
    "    obs = (; fov = 2π, n_rays = 40,\n",
    "        sensor_args = (;\n",
    "            w = 5, s_noise = 0.02,\n",
    "            outlier = 0.0001, outlier_vol = 100.0,\n",
    "            zmax = 100.0\n",
    ")));"
   ]
  },
  {
   "cell_type": "code",
   "execution_count": null,
   "id": "4b56ab46",
   "metadata": {},
   "outputs": [],
   "source": [
    "### Particle Filter args ###\n",
    "_grid_args = (;\n",
    "    tau = 1., pmin = 1e-6, n_iters = 5,\n",
    "    init_grid_args = (; k = [9, 9], r = [PARAMS.step.Δ/3, PARAMS.step.Δ/3]),\n",
    ")\n",
    "_t0_grid_args = (;\n",
    "    _grid_args..., tau=5., n_iters=6,\n",
    "    # TODO: set this up to automatically look at the bounding box\n",
    "    init_grid_args = (; k=[7, 13], r=[.8, .8]), initial_pos = [2.7, 6.]\n",
    ")\n",
    "\n",
    "INFERENCE_PARAMS = (;\n",
    "    PARAMS...,\n",
    "    step = (; Δ = 0.25, σ = 0.1),\n",
    "    obs = (; PARAMS.obs..., sensor_args=(;\n",
    "        PARAMS.obs.sensor_args...,\n",
    "        s_noise = 0.02,\n",
    "    )\n",
    ")\n",
    "\n",
    "_resampling_args = (; n_particles=40, n_groups=10, ess_threshold=1+1e-4)\n",
    "\n",
    "### Particle filter ###\n",
    "pf = @get_pf(PARAMS_NOISYSTEP, _grid_args, _t0_grid_args, _resampling_args);"
   ]
  },
  {
   "cell_type": "code",
   "execution_count": null,
   "id": "982f0494",
   "metadata": {},
   "outputs": [],
   "source": [
    "(pf_init, pf_update) = pf;"
   ]
  },
  {
   "cell_type": "code",
   "execution_count": null,
   "id": "393f1ee7",
   "metadata": {},
   "outputs": [],
   "source": [
    "GOAL = [1., 4.];"
   ]
  },
  {
   "cell_type": "code",
   "execution_count": null,
   "id": "3bd92e83",
   "metadata": {},
   "outputs": [],
   "source": [
    "const initial_controller_state =\n",
    "    (nothing, initial_wall_follow_state(), nothing)\n",
    "\n",
    "@gen function controller(st, obs)\n",
    "    # Unpack controller state\n",
    "    pf_state, wf_state, prev_action = st\n",
    "    \n",
    "    # Update belief state\n",
    "    if isnothing(prev_action) # First timestep\n",
    "        pf_state = pf_init(obs)\n",
    "    else\n",
    "        pf_state = pf_update(pf_state, prev_action, obs)\n",
    "    end\n",
    "    \n",
    "    # Choose action\n",
    "    if there_is_ambiguity(pf_state)\n",
    "        (action, next_wf_state) = wall_follow(wall_following_internal_state, pos)\n",
    "    else\n",
    "        action = find_action_using_grid_search(pos, GOAL)\n",
    "        # Reset the wall following policy\n",
    "        next_wf_state = initial_wall_follow_state()\n",
    "    end\n",
    "    \n",
    "    # Return action and new controller state\n",
    "    return (action, (pf_state, next_wf_state, action))\n",
    "end\n",
    "\n",
    "controller = GenPOMDPs.Controller(controller, initial_controller_state)"
   ]
  },
  {
   "cell_type": "code",
   "execution_count": null,
   "id": "6f54f172",
   "metadata": {},
   "outputs": [],
   "source": [
    "rollout_model = RolloutModel(pomdp, controller)"
   ]
  },
  {
   "cell_type": "code",
   "execution_count": null,
   "id": "4db61ae0",
   "metadata": {},
   "outputs": [],
   "source": [
    "# First timestep rollout...\n",
    "rollout_tr = Gen.simulate(rollout_model, (0, PARAMS))\n",
    "\n",
    "visualize_rollout(rollout_tr; goal=GOAL, title=\"First timestep\")"
   ]
  },
  {
   "cell_type": "code",
   "execution_count": null,
   "id": "be1beeb3",
   "metadata": {},
   "outputs": [],
   "source": [
    "# Extend rollout to 40 steps...\n",
    "rollout_tr = Gen.update(rollout_tr, (40, PARAMS))\n",
    "\n",
    "visualize_rollout_path(rollout_tr; goal=GOAL, title=\"First timestep\")"
   ]
  },
  {
   "cell_type": "code",
   "execution_count": null,
   "id": "7a34e9f7",
   "metadata": {},
   "outputs": [],
   "source": [
    "visualize_rollout(rollout_tr; goal=GOAL, title=\"First timestep\", fps=3)"
   ]
  }
 ],
 "metadata": {
  "kernelspec": {
   "display_name": "Julia 1.9.0",
   "language": "julia",
   "name": "julia-1.9"
  },
  "language_info": {
   "file_extension": ".jl",
   "mimetype": "application/julia",
   "name": "julia",
   "version": "1.9.0"
  }
 },
 "nbformat": 4,
 "nbformat_minor": 5
}
