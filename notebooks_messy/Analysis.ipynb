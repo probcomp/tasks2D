{
 "cells": [
  {
   "cell_type": "code",
   "execution_count": 1,
   "metadata": {},
   "outputs": [
    {
     "name": "stderr",
     "output_type": "stream",
     "text": [
      "\u001b[32m\u001b[1m  Activating\u001b[22m\u001b[39m project at `~/Developer/research/fall2023/cocosci/tasks2D/Tasks2D`\n"
     ]
    }
   ],
   "source": [
    "# Load the Julia environment needed for this notebook\n",
    "import Pkg\n",
    "Pkg.activate(\"../Tasks2D\")\n"
   ]
  },
  {
   "cell_type": "code",
   "execution_count": 2,
   "metadata": {},
   "outputs": [
    {
     "name": "stderr",
     "output_type": "stream",
     "text": [
      "\u001b[36m\u001b[1m[ \u001b[22m\u001b[39m\u001b[36m\u001b[1mInfo: \u001b[22m\u001b[39mPrecompiling GridWorlds [c15fd557-8ec5-4bf9-9d87-df57ac477796]\n"
     ]
    }
   ],
   "source": [
    "import LinearAlgebra\n",
    "import Makie   # Visualization Library\n",
    "using Revise      # For development; makes it so modifications\n",
    "                  # to imported modules are immediately reflected in this Julia session\n",
    "using Gen         # Gen probabilistic programming library\n",
    "import GenParticleFilters # Additional particle filtering functionality for Gen\n",
    "import GridWorlds # Simple gridworld functionality\n",
    "import LineWorlds\n",
    "const L = LineWorlds\n",
    "import LineWorlds: cast # Ray caster\n",
    "import GenPOMDPs  # Beginnings of a Gen POMDP library\n",
    "\n",
    "import Tasks2D\n",
    "\n",
    "includet(\"SLAM/Utils.jl\")"
   ]
  },
  {
   "cell_type": "code",
   "execution_count": 3,
   "metadata": {},
   "outputs": [],
   "source": [
    "import GLMakie\n",
    "GLMakie.activate!()"
   ]
  },
  {
   "cell_type": "code",
   "execution_count": 4,
   "metadata": {},
   "outputs": [
    {
     "data": {
      "text/plain": [
       "GenPOMDPs.var\"##StaticGenFunction__ControlledTrajectoryModel#435\"(Dict{Symbol, Any}(), Dict{Symbol, Any}())"
      ]
     },
     "execution_count": 4,
     "metadata": {},
     "output_type": "execute_result"
    }
   ],
   "source": [
    "# Initial position model\n",
    "\n",
    "# Distribution to sample uniformly from a Julia Set\n",
    "using Tasks2D.Distributions: uniform_from_set\n",
    "\n",
    "@gen (static) function uniform_agent_pos(t_to_params)\n",
    "    w = t_to_params(0).map # a map, represented as a GridWorlds.GridWorld\n",
    "    \n",
    "    cell ~ uniform_from_set(GridWorlds.empty_cells(w))\n",
    "    \n",
    "    # Cell (i, j) corresponds to the region from i-1 to i and j-1 to j\n",
    "    x ~ uniform(cell[1] - 1, cell[1])\n",
    "    y ~ uniform(cell[2] - 1, cell[2])\n",
    "    \n",
    "    return ([x, y], 0, false)\n",
    "end\n",
    "\n",
    "function det_next_pos(pos, a, Δ)\n",
    "    (x, y) = pos\n",
    "    a == :up    ? [x, y + Δ] :\n",
    "    a == :down  ? [x, y - Δ] : \n",
    "    a == :left  ? [x - Δ, y] :\n",
    "    a == :right ? [x + Δ, y] :\n",
    "    a == :stay  ? [x, y]     :\n",
    "                error(\"Unrecognized action: $a\")\n",
    "end\n",
    "\n",
    "function handle_wall_intersection(prev, new, gridworld)\n",
    "    walls = GridWorlds.nonempty_segments(gridworld)\n",
    "    move = L.Segment(prev, new)\n",
    "    \n",
    "    min_collision_dist = Inf\n",
    "    vec_to_min_dist_collision = nothing\n",
    "    for i in 1:(size(walls)[1])\n",
    "        wall = walls[i, :]\n",
    "        # print(\"wall: $wall\")\n",
    "        do_intersect, dist = L.Geometry.cast(move, L.Segment(wall))\n",
    "\n",
    "        if do_intersect && dist ≤ L.Geometry.norm(move)\n",
    "            if dist < min_collision_dist\n",
    "                min_collision_dist = dist\n",
    "                vec_to_min_dist_collision = L.Geometry.diff(move)\n",
    "            end\n",
    "        end\n",
    "    end\n",
    "    \n",
    "    if !isnothing(vec_to_min_dist_collision)\n",
    "        dist = min_collision_dist\n",
    "        if dist < 0.05\n",
    "            return (prev, true)\n",
    "        else\n",
    "            normalized_vec = (vec_to_min_dist_collision / L.Geometry.norm(vec_to_min_dist_collision))\n",
    "            collision_pt = prev + (dist - 0.04) * normalized_vec\n",
    "            return (collision_pt, true)\n",
    "        end\n",
    "    end\n",
    "    \n",
    "    return (new, false)\n",
    "end\n",
    "\n",
    "@gen (static) function motion_model(state, action, t_to_params)\n",
    "    (a, wall_clock_time) = action\n",
    "    (pos, t_prev, prev_hit_wall) = state\n",
    "    params = t_to_params(t_prev + 1)\n",
    "    w, σ = params.map, params.step.σ\n",
    "    \n",
    "    next_pos_det = det_next_pos(pos, a, params.step.Δ)\n",
    "    noisy_next_pos ~ broadcasted_normal(next_pos_det, params.step.σ)\n",
    "    (next_pos, hit_wall) = handle_wall_intersection(pos, noisy_next_pos, w)\n",
    "    \n",
    "    return (next_pos, t_prev + 1, prev_hit_wall || hit_wall)\n",
    "end\n",
    "\n",
    "@gen function observe_noisy_distances(state, t_to_params)\n",
    "    (pos, t, _) = state\n",
    "    params = t_to_params(t)\n",
    "\n",
    "    p = reshape([pos..., params.obs.orientation], (1, 3))\n",
    "    _as = L.create_angles(params.obs.fov, params.obs.n_rays)\n",
    "    wall_segs = GridWorlds.wall_segments(params.map)\n",
    "    strange_segs = GridWorlds.strange_segments(params.map)\n",
    "    \n",
    "    w, s_noise, outlier, outlier_vol, zmax = params.obs.wall_sensor_args\n",
    "    dists_walls = L.cast(p, wall_segs; num_a=params.obs.n_rays, zmax)\n",
    "    dists_walls = reshape(dists_walls, (:,))\n",
    "\n",
    "    w, s_noise, outlier, outlier_vol, zmax = params.obs.strange_sensor_args\n",
    "    dists_strange = L.cast(p, strange_segs; num_a=params.obs.n_rays, zmax)\n",
    "    dists_strange = reshape(dists_strange, (:,))\n",
    "\n",
    "    is_wall_measurement = [w < s for (w, s) in zip(dists_walls, dists_strange)]\n",
    "    wall_measurements = dists_walls[is_wall_measurement]\n",
    "    \n",
    "    σ_wall = params.obs.wall_sensor_args.σ\n",
    "    noisy_wall_measurements ~ Gen.broadcasted_normal(wall_measurements, s_noise)\n",
    "\n",
    "    strange_measurements = dists_strange[[!w for w in is_wall_measurement]]\n",
    "    if !isempty(strange_measurements)\n",
    "        mins = [params.obs.strange_sensor_args.dist_to_zmin(m) for m in strange_measurements]\n",
    "        maxs = [params.obs.strange_sensor_args.dist_to_zmax(m) for m in strange_measurements]\n",
    "        noisy_strange_measurements ~ Utils.mapped_uniform(mins, maxs)\n",
    "    else\n",
    "        noisy_strange_measurements = []\n",
    "    end\n",
    "\n",
    "    obs = []\n",
    "    wall_ctr = 1\n",
    "    strange_ctr = 1\n",
    "    for i in 1:params.obs.n_rays\n",
    "        if is_wall_measurement[i]\n",
    "            push!(obs, noisy_wall_measurements[wall_ctr])\n",
    "            wall_ctr += 1\n",
    "        else\n",
    "            push!(obs, noisy_strange_measurements[strange_ctr])\n",
    "            strange_ctr += 1\n",
    "        end\n",
    "    end\n",
    "    # dists = min.(dists_walls, dists_strange)\n",
    "    # dists = reshape(dists, (:,))\n",
    "\n",
    "    # # get vector of sigmas, to apply to `dists`\n",
    "    # # params.obs.sensor_args.σ_wall for walls; params.obs.sensor_args.σ_strange for strange\n",
    "    # # σ_strange = params.obs.strange_sensor_args.σ\n",
    "    # sigmas = [w < s ? σ_wall : σ_strange for (w, s) in zip(dists_walls, dists_strange)]\n",
    "    # sigmas = reshape(sigmas, (:,))\n",
    "\n",
    "    # obs ~ Gen.mvnormal(dists, LinearAlgebra.Diagonal(sigmas))\n",
    "    return obs\n",
    "end\n",
    "\n",
    "# POMDP of this environment\n",
    "pomdp = GenPOMDPs.GenPOMDP(\n",
    "    uniform_agent_pos,       # INIT   : params                      ⇝ state\n",
    "    motion_model,            # STEP   : prev_state, actions, params ⇝ state\n",
    "    observe_noisy_distances, # OBS    : state, params               ⇝ observation\n",
    "    (state, action) -> 0.    # UTILITY: state, action, params       → utility\n",
    ")\n",
    "\n",
    "# Generative function over trajectories of the POMDP,\n",
    "# given a fixed action sequence.\n",
    "trajectory_model = GenPOMDPs.ControlledTrajectoryModel(pomdp)"
   ]
  },
  {
   "cell_type": "code",
   "execution_count": 5,
   "metadata": {},
   "outputs": [],
   "source": [
    "function get_posobs_seq(groundtruth_trace)\n",
    "    return map(\n",
    "        trace -> (\n",
    "            [p for (p, t, h) in GenPOMDPs.state_sequence(trace)],\n",
    "            [reshape(o, (:,)) for o in GenPOMDPs.observation_retval_sequence(trace)]\n",
    "        ),\n",
    "        groundtruth_trace\n",
    "    )\n",
    "end\n",
    "function get_obs_seq(groundtruth_trace)\n",
    "    return map(\n",
    "        trace -> [reshape(o, (:,)) for o in GenPOMDPs.observation_retval_sequence(trace)],\n",
    "        groundtruth_trace\n",
    "    )\n",
    "end\n",
    "\n",
    "using Dates\n",
    "\n",
    "function get_save_tr(tr)\n",
    "    function save_tr(viz_actions)\n",
    "        filename = \"saves/\" * string(now()) * \"__pomdp_trace.jld\"\n",
    "        Utils.serialize_trace_and_viz_actions(filename, tr[];\n",
    "            viz_actions=viz_actions,\n",
    "            # args_to_serializeable = args -> (args[1:2]..., args[3].params)\n",
    "        )\n",
    "    end\n",
    "    return save_tr\n",
    "end\n",
    "\n",
    "function get_take_action(_take_action)\n",
    "    function take_action(a)\n",
    "        _take_action((a, Dates.now()))\n",
    "    end\n",
    "    return take_action\n",
    "end\n",
    "function get_interactive_trace(args...; kwargs...)\n",
    "    (trace, _take_action) = GenPOMDPs.interactive_world_trace(args...; kwargs...)\n",
    "    return (trace, get_take_action(_take_action))\n",
    "end\n",
    "function make_trace_interactive(args...; kwargs...)\n",
    "    (trace, _take_action) = GenPOMDPs.make_trace_interactive(args...; kwargs...)\n",
    "    return (trace, get_take_action(_take_action))\n",
    "end\n",
    "\n",
    "function get_did_hitwall_observable(trace)\n",
    "    return map(trace -> GenPOMDPs.state_sequence(trace)[end][3], trace)\n",
    "end\n",
    "function close_window(f)\n",
    "    glfw_window = GLMakie.to_native(display(f))\n",
    "    GLMakie.GLFW.SetWindowShouldClose(glfw_window, true)\n",
    "end\n",
    "\n",
    "function get_action_times_observable(trace)\n",
    "    return map(trace -> [t for (a, t) in GenPOMDPs.action_sequence(trace)], trace)\n",
    "end\n",
    "function get_timing_args(trace; speedup_factor=1, max_delay=5) # 5 seconds max delay\n",
    "    return (get_action_times_observable(trace), speedup_factor, max_delay)\n",
    "end\n",
    "\n",
    "struct ConstantTToParams\n",
    "    params\n",
    "end\n",
    "(p::ConstantTToParams)(t) = p.params\n",
    "\n",
    "struct SwitchTToParams\n",
    "    params1\n",
    "    params2\n",
    "    switch\n",
    "end\n",
    "(p::SwitchTToParams)(t::Makie.Observable) = p(t[])\n",
    "(p::SwitchTToParams)(t) = p.switch(t) ? p.params1 : p.params2\n",
    "\n",
    "struct TimedSwitchTToParams\n",
    "    params1\n",
    "    params2\n",
    "    timewindows_params1\n",
    "    timewindows_params2\n",
    "end\n",
    "(p::TimedSwitchTToParams)(t::Makie.Observable) = p(t[])\n",
    "function (p::TimedSwitchTToParams)(t)\n",
    "    for (start, stop) in p.timewindows_params1\n",
    "        if start ≤ t ≤ stop\n",
    "            return p.params1\n",
    "        end\n",
    "    end\n",
    "    for (start, stop) in p.timewindows_params2\n",
    "        if start ≤ t ≤ stop\n",
    "            return p.params2\n",
    "        end\n",
    "    end\n",
    "    error(\"No time window found for time $t\")\n",
    "end\n",
    "\n",
    "struct DistanceToConstant\n",
    "    c\n",
    "end\n",
    "(d::DistanceToConstant)(x) = d.c\n",
    "struct MultiplyDistanceByConstant\n",
    "    c\n",
    "end\n",
    "(d::MultiplyDistanceByConstant)(x) = 2. + x * d.c"
   ]
  },
  {
   "cell_type": "code",
   "execution_count": 6,
   "metadata": {},
   "outputs": [
    {
     "data": {
      "text/plain": [
       "219-element Vector{String}:\n",
       " \"2023-12-06T15:21:41.953__pomdp_trace.jld\"\n",
       " \"2023-12-12T14:01:29.780__pomdp_trace.jld\"\n",
       " \"2023-12-12T14:01:39.916__pomdp_trace.jld\"\n",
       " \"2023-12-12T14:04:01.037__pomdp_trace.jld\"\n",
       " \"2023-12-12T14:07:17.605__pomdp_trace.jld\"\n",
       " \"2023-12-12T14:17:17.424__pomdp_trace.jld\"\n",
       " \"2023-12-12T14:32:17.755__pomdp_trace.jld\"\n",
       " \"2023-12-12T14:36:09.460__pomdp_trace.jld\"\n",
       " \"2023-12-12T15:27:52.313__pomdp_trace.jld\"\n",
       " \"2023-12-12T15:50:16.517__pomdp_trace.jld\"\n",
       " \"2023-12-12T15:51:18.757__pomdp_trace.jld\"\n",
       " \"2023-12-12T16:03:19.086__pomdp_trace.jld\"\n",
       " \"2023-12-12T16:10:20.411__pomdp_trace.jld\"\n",
       " ⋮\n",
       " \"2023-12-14T12:08:17.095__pomdp_trace.jld\"\n",
       " \"2023-12-14T12:08:17.134__pomdp_trace.jld\"\n",
       " \"2023-12-14T12:08:31.842__pomdp_trace.jld\"\n",
       " \"2023-12-14T12:08:38.916__pomdp_trace.jld\"\n",
       " \"2023-12-14T12:08:38.962__pomdp_trace.jld\"\n",
       " \"2023-12-14T12:08:39.001__pomdp_trace.jld\"\n",
       " \"2023-12-14T12:10:11.880__pomdp_trace.jld\"\n",
       " \"2023-12-14T12:16:53.015__pomdp_trace.jld\"\n",
       " \"2023-12-14T12:17:20.027__pomdp_trace.jld\"\n",
       " \"2023-12-14T12:17:22.410__pomdp_trace.jld\"\n",
       " \"2023-12-14T12:17:25.367__pomdp_trace.jld\"\n",
       " \"notes.md\""
      ]
     },
     "execution_count": 6,
     "metadata": {},
     "output_type": "execute_result"
    }
   ],
   "source": [
    "readdir(\"saves\")"
   ]
  },
  {
   "cell_type": "code",
   "execution_count": 7,
   "metadata": {},
   "outputs": [
    {
     "data": {
      "text/plain": [
       "4-element Vector{String}:\n",
       " \"13T18:04:45\"\n",
       " \"13T18:37:32\"\n",
       " \"14T10:44:03\"\n",
       " \"14T11:58\""
      ]
     },
     "execution_count": 7,
     "metadata": {},
     "output_type": "execute_result"
    }
   ],
   "source": [
    "# Unique identifier substring of the first save for each participant.\n",
    "firsts = sort([\n",
    "    \"13T18:04:45\",\n",
    "    \"13T18:37:32\",\n",
    "    \"14T10:44:03\", # Me playing around.  TODO - delete 14T10:44:03 to 14T10:52:44\n",
    "    \"14T11:58\"\n",
    "])"
   ]
  },
  {
   "cell_type": "code",
   "execution_count": 8,
   "metadata": {},
   "outputs": [],
   "source": [
    "file_sets = []\n",
    "participant_idx = 0\n",
    "for filename in readdir(\"saves\")\n",
    "    !contains(filename, \"pomdp_trace.jld\") && continue\n",
    "    if participant_idx < length(firsts) && contains(filename, firsts[participant_idx + 1])\n",
    "        push!(file_sets, [filename])\n",
    "        participant_idx += 1\n",
    "    elseif participant_idx > 0\n",
    "        push!(file_sets[end], filename)\n",
    "    end\n",
    "end"
   ]
  },
  {
   "cell_type": "code",
   "execution_count": 9,
   "metadata": {},
   "outputs": [
    {
     "data": {
      "text/plain": [
       "4-element Vector{Any}:\n",
       " [\"2023-12-13T18:04:45.219__pomdp_trace.jld\", \"2023-12-13T18:14:18.649__pomdp_trace.jld\", \"2023-12-13T18:16:54.539__pomdp_trace.jld\", \"2023-12-13T18:16:54.570__pomdp_trace.jld\", \"2023-12-13T18:17:32.599__pomdp_trace.jld\", \"2023-12-13T18:19:45.183__pomdp_trace.jld\", \"2023-12-13T18:21:51.756__pomdp_trace.jld\", \"2023-12-13T18:21:52.908__pomdp_trace.jld\", \"2023-12-13T18:21:53.015__pomdp_trace.jld\"]\n",
       " [\"2023-12-13T18:37:32.078__pomdp_trace.jld\", \"2023-12-13T18:37:32.094__pomdp_trace.jld\", \"2023-12-13T18:37:32.130__pomdp_trace.jld\", \"2023-12-13T18:37:32.166__pomdp_trace.jld\", \"2023-12-13T18:37:32.205__pomdp_trace.jld\", \"2023-12-13T18:37:32.250__pomdp_trace.jld\", \"2023-12-13T18:37:32.286__pomdp_trace.jld\", \"2023-12-13T18:40:08.657__pomdp_trace.jld\", \"2023-12-13T18:40:47.556__pomdp_trace.jld\", \"2023-12-13T18:42:02.441__pomdp_trace.jld\", \"2023-12-13T18:42:37.832__pomdp_trace.jld\"]\n",
       " [\"2023-12-14T10:44:03.141__pomdp_trace.jld\", \"2023-12-14T10:44:21.482__pomdp_trace.jld\", \"2023-12-14T10:44:32.234__pomdp_trace.jld\", \"2023-12-14T10:44:36.855__pomdp_trace.jld\", \"2023-12-14T10:44:52.875__pomdp_trace.jld\", \"2023-12-14T10:45:07.743__pomdp_trace.jld\", \"2023-12-14T10:45:18.810__pomdp_trace.jld\", \"2023-12-14T10:51:42.974__pomdp_trace.jld\", \"2023-12-14T10:51:46.492__pomdp_trace.jld\", \"2023-12-14T10:51:48.211__pomdp_trace.jld\"  …  \"2023-12-14T10:51:52.953__pomdp_trace.jld\", \"2023-12-14T10:51:54.486__pomdp_trace.jld\", \"2023-12-14T10:51:57.751__pomdp_trace.jld\", \"2023-12-14T10:52:00.233__pomdp_trace.jld\", \"2023-12-14T10:52:01.735__pomdp_trace.jld\", \"2023-12-14T10:52:04.278__pomdp_trace.jld\", \"2023-12-14T10:52:05.704__pomdp_trace.jld\", \"2023-12-14T10:52:07.984__pomdp_trace.jld\", \"2023-12-14T10:52:11.987__pomdp_trace.jld\", \"2023-12-14T10:52:44.356__pomdp_trace.jld\"]\n",
       " [\"2023-12-14T11:58:19.831__pomdp_trace.jld\", \"2023-12-14T11:58:24.638__pomdp_trace.jld\", \"2023-12-14T11:58:26.869__pomdp_trace.jld\", \"2023-12-14T11:58:34.235__pomdp_trace.jld\", \"2023-12-14T11:58:39.916__pomdp_trace.jld\", \"2023-12-14T11:58:41.912__pomdp_trace.jld\", \"2023-12-14T11:59:01.519__pomdp_trace.jld\", \"2023-12-14T11:59:06.744__pomdp_trace.jld\", \"2023-12-14T11:59:06.784__pomdp_trace.jld\", \"2023-12-14T11:59:06.825__pomdp_trace.jld\"  …  \"2023-12-14T12:08:17.134__pomdp_trace.jld\", \"2023-12-14T12:08:31.842__pomdp_trace.jld\", \"2023-12-14T12:08:38.916__pomdp_trace.jld\", \"2023-12-14T12:08:38.962__pomdp_trace.jld\", \"2023-12-14T12:08:39.001__pomdp_trace.jld\", \"2023-12-14T12:10:11.880__pomdp_trace.jld\", \"2023-12-14T12:16:53.015__pomdp_trace.jld\", \"2023-12-14T12:17:20.027__pomdp_trace.jld\", \"2023-12-14T12:17:22.410__pomdp_trace.jld\", \"2023-12-14T12:17:25.367__pomdp_trace.jld\"]"
      ]
     },
     "execution_count": 9,
     "metadata": {},
     "output_type": "execute_result"
    }
   ],
   "source": [
    "file_sets"
   ]
  },
  {
   "cell_type": "code",
   "execution_count": 10,
   "metadata": {},
   "outputs": [
    {
     "data": {
      "text/plain": [
       "deduplicate_participant_traces (generic function with 1 method)"
      ]
     },
     "execution_count": 10,
     "metadata": {},
     "output_type": "execute_result"
    }
   ],
   "source": [
    "function deduplicate_participant_traces(traces)\n",
    "    isempty(traces) && return traces\n",
    "    deduplicated = [traces[1]]\n",
    "    for tr in traces[2:end]\n",
    "        prev_tr = deduplicated[end]\n",
    "\n",
    "        actions1 = GenPOMDPs.action_sequence(prev_tr)\n",
    "        actions2 = GenPOMDPs.action_sequence(tr)\n",
    "        is_prefix = true\n",
    "        for (a1, a2) in zip(actions1, actions2)\n",
    "            if a1 != a2\n",
    "                is_prefix = false\n",
    "                break\n",
    "            end\n",
    "        end\n",
    "        if !is_prefix\n",
    "            push!(deduplicated, tr)\n",
    "        end\n",
    "    end\n",
    "    return deduplicated\n",
    "end"
   ]
  },
  {
   "cell_type": "code",
   "execution_count": 11,
   "metadata": {},
   "outputs": [
    {
     "data": {
      "text/plain": [
       "visualize_trace (generic function with 1 method)"
      ]
     },
     "execution_count": 11,
     "metadata": {},
     "output_type": "execute_result"
    }
   ],
   "source": [
    "function load_tr(filename)\n",
    "    tr, _ = Utils.deserialize_trace_and_viz_actions(\n",
    "        filename,\n",
    "        trajectory_model,\n",
    "    );\n",
    "    return tr\n",
    "end\n",
    "load_file_and_visualize(filename) = visualize_trace(load_tr(filename))\n",
    "function visualize_trace(tr)\n",
    "    trace, take_action = make_trace_interactive(tr);\n",
    "\n",
    "    (f, t, _replay_actions) = GridWorlds.Viz.interactive_gui(\n",
    "        t -> get_args(trace[])[3](t).map, get_posobs_seq(trace), take_action,\n",
    "        save_fn=get_save_tr(trace),\n",
    "        framerate=8,\n",
    "\n",
    "        # Timing control for playback\n",
    "        timing_args=get_timing_args(trace; speedup_factor=6, max_delay=1)\n",
    "    )\n",
    "    display(f)\n",
    "end"
   ]
  },
  {
   "cell_type": "code",
   "execution_count": 12,
   "metadata": {},
   "outputs": [],
   "source": [
    "traces = []\n",
    "for fileset in file_sets\n",
    "    traces_for_participant = []\n",
    "    for filename in fileset\n",
    "        push!(traces_for_participant, load_tr(\"saves/\" * filename))\n",
    "    end\n",
    "    traces_for_participant = deduplicate_participant_traces(traces_for_participant)\n",
    "    push!(traces, traces_for_participant)\n",
    "end"
   ]
  },
  {
   "cell_type": "code",
   "execution_count": 13,
   "metadata": {},
   "outputs": [
    {
     "data": {
      "text/plain": [
       "4-element Vector{Int64}:\n",
       "  5\n",
       "  5\n",
       " 21\n",
       " 12"
      ]
     },
     "execution_count": 13,
     "metadata": {},
     "output_type": "execute_result"
    }
   ],
   "source": [
    "map(length, traces)"
   ]
  },
  {
   "cell_type": "code",
   "execution_count": 14,
   "metadata": {},
   "outputs": [
    {
     "data": {
      "text/plain": [
       "0"
      ]
     },
     "execution_count": 14,
     "metadata": {},
     "output_type": "execute_result"
    }
   ],
   "source": [
    "i = 0"
   ]
  },
  {
   "cell_type": "code",
   "execution_count": 15,
   "metadata": {},
   "outputs": [
    {
     "data": {
      "text/plain": [
       "1"
      ]
     },
     "execution_count": 15,
     "metadata": {},
     "output_type": "execute_result"
    }
   ],
   "source": [
    "i += 1\n",
    "visualize_trace(vcat(traces...)[i])\n",
    "i"
   ]
  },
  {
   "cell_type": "code",
   "execution_count": null,
   "metadata": {},
   "outputs": [],
   "source": []
  },
  {
   "cell_type": "code",
   "execution_count": null,
   "metadata": {},
   "outputs": [],
   "source": []
  },
  {
   "cell_type": "code",
   "execution_count": 16,
   "metadata": {},
   "outputs": [
    {
     "name": "stdout",
     "output_type": "stream",
     "text": [
      "Trace & viz actions serialized to saves/2023-12-14T12:19:47.937__pomdp_trace.jld.\n"
     ]
    },
    {
     "data": {
      "text/plain": [
       "GLMakie.Screen(...)"
      ]
     },
     "execution_count": 16,
     "metadata": {},
     "output_type": "execute_result"
    }
   ],
   "source": [
    "visualize_trace(traces[4][3])"
   ]
  },
  {
   "cell_type": "code",
   "execution_count": 17,
   "metadata": {},
   "outputs": [
    {
     "data": {
      "text/plain": [
       "GridWorlds.FGridWorld(FunctionalCollections.PersistentVector{GridWorlds.GridCell}[[GridWorlds.wall, GridWorlds.wall, GridWorlds.wall, GridWorlds.wall, GridWorlds.wall, GridWorlds.wall, GridWorlds.wall, GridWorlds.wall, GridWorlds.wall, GridWorlds.wall  …  GridWorlds.wall, GridWorlds.wall, GridWorlds.wall, GridWorlds.wall, GridWorlds.wall, GridWorlds.wall, GridWorlds.wall, GridWorlds.wall, GridWorlds.wall, GridWorlds.wall], [GridWorlds.wall, GridWorlds.empty, GridWorlds.empty, GridWorlds.empty, GridWorlds.empty, GridWorlds.empty, GridWorlds.empty, GridWorlds.empty, GridWorlds.empty, GridWorlds.empty  …  GridWorlds.empty, GridWorlds.wall, GridWorlds.empty, GridWorlds.empty, GridWorlds.empty, GridWorlds.empty, GridWorlds.empty, GridWorlds.empty, GridWorlds.empty, GridWorlds.wall], [GridWorlds.wall, GridWorlds.empty, GridWorlds.empty, GridWorlds.empty, GridWorlds.empty, GridWorlds.empty, GridWorlds.empty, GridWorlds.empty, GridWorlds.empty, GridWorlds.empty  …  GridWorlds.empty, GridWorlds.wall, GridWorlds.empty, GridWorlds.empty, GridWorlds.empty, GridWorlds.empty, GridWorlds.empty, GridWorlds.empty, GridWorlds.empty, GridWorlds.wall], [GridWorlds.wall, GridWorlds.empty, GridWorlds.empty, GridWorlds.empty, GridWorlds.empty, GridWorlds.empty, GridWorlds.empty, GridWorlds.empty, GridWorlds.empty, GridWorlds.empty  …  GridWorlds.empty, GridWorlds.wall, GridWorlds.empty, GridWorlds.empty, GridWorlds.empty, GridWorlds.empty, GridWorlds.empty, GridWorlds.empty, GridWorlds.empty, GridWorlds.wall], [GridWorlds.wall, GridWorlds.empty, GridWorlds.empty, GridWorlds.empty, GridWorlds.empty, GridWorlds.empty, GridWorlds.empty, GridWorlds.empty, GridWorlds.empty, GridWorlds.empty  …  GridWorlds.empty, GridWorlds.wall, GridWorlds.empty, GridWorlds.empty, GridWorlds.empty, GridWorlds.empty, GridWorlds.empty, GridWorlds.empty, GridWorlds.empty, GridWorlds.wall], [GridWorlds.wall, GridWorlds.empty, GridWorlds.empty, GridWorlds.empty, GridWorlds.empty, GridWorlds.empty, GridWorlds.empty, GridWorlds.empty, GridWorlds.empty, GridWorlds.empty  …  GridWorlds.empty, GridWorlds.wall, GridWorlds.empty, GridWorlds.empty, GridWorlds.empty, GridWorlds.wall, GridWorlds.empty, GridWorlds.empty, GridWorlds.empty, GridWorlds.wall], [GridWorlds.wall, GridWorlds.empty, GridWorlds.empty, GridWorlds.empty, GridWorlds.empty, GridWorlds.empty, GridWorlds.empty, GridWorlds.empty, GridWorlds.empty, GridWorlds.empty  …  GridWorlds.empty, GridWorlds.wall, GridWorlds.empty, GridWorlds.empty, GridWorlds.empty, GridWorlds.wall, GridWorlds.empty, GridWorlds.empty, GridWorlds.empty, GridWorlds.wall], [GridWorlds.wall, GridWorlds.empty, GridWorlds.empty, GridWorlds.empty, GridWorlds.empty, GridWorlds.empty, GridWorlds.empty, GridWorlds.empty, GridWorlds.empty, GridWorlds.empty  …  GridWorlds.empty, GridWorlds.wall, GridWorlds.empty, GridWorlds.empty, GridWorlds.empty, GridWorlds.wall, GridWorlds.empty, GridWorlds.empty, GridWorlds.empty, GridWorlds.wall], [GridWorlds.wall, GridWorlds.empty, GridWorlds.empty, GridWorlds.empty, GridWorlds.empty, GridWorlds.empty, GridWorlds.empty, GridWorlds.empty, GridWorlds.empty, GridWorlds.empty  …  GridWorlds.empty, GridWorlds.wall, GridWorlds.empty, GridWorlds.empty, GridWorlds.empty, GridWorlds.wall, GridWorlds.empty, GridWorlds.empty, GridWorlds.empty, GridWorlds.wall], [GridWorlds.wall, GridWorlds.empty, GridWorlds.empty, GridWorlds.empty, GridWorlds.empty, GridWorlds.empty, GridWorlds.empty, GridWorlds.empty, GridWorlds.empty, GridWorlds.empty  …  GridWorlds.empty, GridWorlds.wall, GridWorlds.empty, GridWorlds.empty, GridWorlds.empty, GridWorlds.wall, GridWorlds.empty, GridWorlds.empty, GridWorlds.empty, GridWorlds.wall]  …  [GridWorlds.wall, GridWorlds.empty, GridWorlds.empty, GridWorlds.empty, GridWorlds.empty, GridWorlds.empty, GridWorlds.empty, GridWorlds.empty, GridWorlds.empty, GridWorlds.empty  …  GridWorlds.empty, GridWorlds.empty, GridWorlds.empty, GridWorlds.empty, GridWorlds.empty, GridWorlds.wall, GridWorlds.empty, GridWorlds.empty, GridWorlds.empty, GridWorlds.wall], [GridWorlds.wall, GridWorlds.empty, GridWorlds.empty, GridWorlds.empty, GridWorlds.empty, GridWorlds.empty, GridWorlds.empty, GridWorlds.empty, GridWorlds.empty, GridWorlds.empty  …  GridWorlds.empty, GridWorlds.empty, GridWorlds.empty, GridWorlds.empty, GridWorlds.empty, GridWorlds.wall, GridWorlds.empty, GridWorlds.empty, GridWorlds.empty, GridWorlds.wall], [GridWorlds.wall, GridWorlds.empty, GridWorlds.empty, GridWorlds.wall, GridWorlds.empty, GridWorlds.empty, GridWorlds.empty, GridWorlds.empty, GridWorlds.empty, GridWorlds.empty  …  GridWorlds.empty, GridWorlds.empty, GridWorlds.empty, GridWorlds.empty, GridWorlds.empty, GridWorlds.wall, GridWorlds.empty, GridWorlds.empty, GridWorlds.empty, GridWorlds.wall], [GridWorlds.wall, GridWorlds.empty, GridWorlds.wall, GridWorlds.wall, GridWorlds.wall, GridWorlds.empty, GridWorlds.empty, GridWorlds.empty, GridWorlds.empty, GridWorlds.empty  …  GridWorlds.empty, GridWorlds.empty, GridWorlds.empty, GridWorlds.empty, GridWorlds.empty, GridWorlds.wall, GridWorlds.empty, GridWorlds.empty, GridWorlds.empty, GridWorlds.wall], [GridWorlds.wall, GridWorlds.empty, GridWorlds.empty, GridWorlds.wall, GridWorlds.empty, GridWorlds.empty, GridWorlds.empty, GridWorlds.empty, GridWorlds.empty, GridWorlds.empty  …  GridWorlds.wall, GridWorlds.wall, GridWorlds.wall, GridWorlds.wall, GridWorlds.wall, GridWorlds.wall, GridWorlds.empty, GridWorlds.empty, GridWorlds.empty, GridWorlds.wall], [GridWorlds.wall, GridWorlds.empty, GridWorlds.empty, GridWorlds.empty, GridWorlds.empty, GridWorlds.empty, GridWorlds.empty, GridWorlds.empty, GridWorlds.empty, GridWorlds.empty  …  GridWorlds.empty, GridWorlds.empty, GridWorlds.empty, GridWorlds.empty, GridWorlds.empty, GridWorlds.empty, GridWorlds.empty, GridWorlds.empty, GridWorlds.empty, GridWorlds.wall], [GridWorlds.wall, GridWorlds.empty, GridWorlds.empty, GridWorlds.empty, GridWorlds.empty, GridWorlds.empty, GridWorlds.empty, GridWorlds.empty, GridWorlds.empty, GridWorlds.empty  …  GridWorlds.empty, GridWorlds.empty, GridWorlds.empty, GridWorlds.empty, GridWorlds.empty, GridWorlds.empty, GridWorlds.empty, GridWorlds.empty, GridWorlds.empty, GridWorlds.wall], [GridWorlds.wall, GridWorlds.empty, GridWorlds.empty, GridWorlds.empty, GridWorlds.empty, GridWorlds.empty, GridWorlds.empty, GridWorlds.empty, GridWorlds.empty, GridWorlds.empty  …  GridWorlds.empty, GridWorlds.empty, GridWorlds.empty, GridWorlds.empty, GridWorlds.empty, GridWorlds.empty, GridWorlds.empty, GridWorlds.empty, GridWorlds.empty, GridWorlds.wall], [GridWorlds.wall, GridWorlds.empty, GridWorlds.empty, GridWorlds.empty, GridWorlds.empty, GridWorlds.empty, GridWorlds.empty, GridWorlds.empty, GridWorlds.empty, GridWorlds.empty  …  GridWorlds.empty, GridWorlds.empty, GridWorlds.empty, GridWorlds.empty, GridWorlds.empty, GridWorlds.empty, GridWorlds.empty, GridWorlds.empty, GridWorlds.empty, GridWorlds.wall], [GridWorlds.wall, GridWorlds.wall, GridWorlds.wall, GridWorlds.wall, GridWorlds.wall, GridWorlds.wall, GridWorlds.wall, GridWorlds.wall, GridWorlds.wall, GridWorlds.wall  …  GridWorlds.wall, GridWorlds.wall, GridWorlds.wall, GridWorlds.wall, GridWorlds.wall, GridWorlds.wall, GridWorlds.wall, GridWorlds.wall, GridWorlds.wall, GridWorlds.wall]], nothing, (37, 28))"
      ]
     },
     "execution_count": 17,
     "metadata": {},
     "output_type": "execute_result"
    }
   ],
   "source": [
    "MAP_INTRO = GridWorlds.load_houseexpo_gridworld(24, 1)\n",
    "MAP_EXPLAIN_STRANGE = GridWorlds.load_custom_map(3)\n",
    "MAP_W_STRANGE = GridWorlds.load_custom_map(4)\n",
    "MAP_WOUT_STRANGE = GridWorlds.load_custom_map(5)\n",
    "MAP2_W_STRANGE = GridWorlds.load_custom_map(6)\n",
    "MAP2_WOUT_STRANGE = GridWorlds.load_custom_map(7)"
   ]
  },
  {
   "cell_type": "code",
   "execution_count": 110,
   "metadata": {},
   "outputs": [],
   "source": [
    "# (i, trace) pairs where i is participant index\n",
    "intro_traces = []\n",
    "learnmap_traces = []\n",
    "test1_traces = []\n",
    "learnstrange_traces = []\n",
    "test2_traces = []\n",
    "\n",
    "named_trace_lists = Dict(\n",
    "    \"intro\" => intro_traces,\n",
    "    \"learnmap\" => learnmap_traces,\n",
    "    \"test1\" => test1_traces,\n",
    "    \"learnstrange\" => learnstrange_traces,\n",
    "    \"test2\" => test2_traces\n",
    ")\n",
    "\n",
    "for (i, participant_traces) in enumerate(traces)\n",
    "    for (j, tr) in enumerate(participant_traces)\n",
    "        T, actions, t_to_params = get_args(tr)\n",
    "        mp = t_to_params(T)\n",
    "        if mp.map == MAP_INTRO\n",
    "            push!(intro_traces, (i, tr))\n",
    "        elseif mp.map == MAP_EXPLAIN_STRANGE\n",
    "            push!(learnstrange_traces, (i, tr))\n",
    "        elseif mp.map == MAP_W_STRANGE\n",
    "            push!(test1_traces, (i, tr))\n",
    "        elseif mp.map == MAP_WOUT_STRANGE\n",
    "            push!(learnmap_traces, (i, tr))\n",
    "        elseif mp.map == MAP2_W_STRANGE\n",
    "            push!(test2_traces, (i, tr))\n",
    "        else\n",
    "            print(\"Unrecognized map in traces[$i][$j]\")\n",
    "        end\n",
    "    end\n",
    "end"
   ]
  },
  {
   "cell_type": "code",
   "execution_count": 111,
   "metadata": {},
   "outputs": [
    {
     "data": {
      "text/plain": [
       "Dict{String, Int64} with 5 entries:\n",
       "  \"learnmap\"     => 1\n",
       "  \"learnstrange\" => 5\n",
       "  \"intro\"        => 3\n",
       "  \"test2\"        => 3\n",
       "  \"test1\"        => 4"
      ]
     },
     "execution_count": 111,
     "metadata": {},
     "output_type": "execute_result"
    }
   ],
   "source": [
    "Dict(k => length(v) for (k, v) in pairs(named_trace_lists))"
   ]
  },
  {
   "cell_type": "code",
   "execution_count": null,
   "metadata": {},
   "outputs": [],
   "source": []
  }
 ],
 "metadata": {
  "kernelspec": {
   "display_name": "Julia 1.9.4",
   "language": "julia",
   "name": "julia-1.9"
  },
  "language_info": {
   "file_extension": ".jl",
   "mimetype": "application/julia",
   "name": "julia",
   "version": "1.9.4"
  }
 },
 "nbformat": 4,
 "nbformat_minor": 2
}
