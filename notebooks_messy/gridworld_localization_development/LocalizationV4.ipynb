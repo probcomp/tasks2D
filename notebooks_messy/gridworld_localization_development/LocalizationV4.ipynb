{
 "cells": [
  {
   "cell_type": "code",
   "execution_count": 4,
   "id": "ce21e248",
   "metadata": {},
   "outputs": [
    {
     "name": "stderr",
     "output_type": "stream",
     "text": [
      "\u001b[32m\u001b[1m  Activating\u001b[22m\u001b[39m project at `~/Developer/research/summer2023/gridtasks2D/GridWorlds`\n"
     ]
    }
   ],
   "source": [
    "# Load the environment\n",
    "# import Pkg\n",
    "# Pkg.activate(\"./NotebookEnv\")"
   ]
  },
  {
   "cell_type": "code",
   "execution_count": 1,
   "id": "50da7a57",
   "metadata": {},
   "outputs": [
    {
     "ename": "LoadError",
     "evalue": "ArgumentError: Package GridWorlds not found in current path.\n- Run `import Pkg; Pkg.add(\"GridWorlds\")` to install the GridWorlds package.",
     "output_type": "error",
     "traceback": [
      "ArgumentError: Package GridWorlds not found in current path.\n- Run `import Pkg; Pkg.add(\"GridWorlds\")` to install the GridWorlds package.",
      "",
      "Stacktrace:",
      " [1] macro expansion",
      "   @ ./loading.jl:1595 [inlined]",
      " [2] macro expansion",
      "   @ ./lock.jl:267 [inlined]",
      " [3] require(into::Module, mod::Symbol)",
      "   @ Base ./loading.jl:1576"
     ]
    }
   ],
   "source": [
    "# Visualization Library\n",
    "import WGLMakie\n",
    "\n",
    "using Revise\n",
    "using Gen\n",
    "\n",
    "# Simple gridworld functionality\n",
    "import GridWorlds\n",
    "\n",
    "# Beginnings of a Gen POMDP library\n",
    "import GenPOMDPs"
   ]
  },
  {
   "cell_type": "code",
   "execution_count": null,
   "id": "61a51b46",
   "metadata": {},
   "outputs": [],
   "source": [
    "# Position prior\n",
    "\n",
    "@gen (static) function uniform_agent_pos(params)\n",
    "    w = params.map # a map, represented as a GridWorlds.GridWorld\n",
    "    \n",
    "    pos ~ uniform_from_set(GridWorlds.empty_cells(w))\n",
    "    return pos\n",
    "end"
   ]
  },
  {
   "cell_type": "code",
   "execution_count": null,
   "id": "ec2ca1e4",
   "metadata": {},
   "outputs": [],
   "source": [
    "# Motion model\n",
    "\n",
    "@dist list_categorical(list, probs) = list[categorical(probs)]\n",
    "\n",
    "function _get_motion_logprobs(w, (x2, y2), σ)\n",
    "    possible_positions = reshape(Tuple.(keys(w)), (:,))\n",
    "    logprobs = [\n",
    "        w[x, y] == empty ? logpdf(broadcasted_normal, [x, y], [x2, y2], σ) : -Inf\n",
    "        for (x, y) in possible_positions\n",
    "    ]\n",
    "    return (possible_positions, logprobs)\n",
    "end\n",
    "_normalized_probs(lps) = exp.(lps .- logsumexp(lps))\n",
    "\n",
    "# action `a` should be a symbol in [:up, :down, :left, :right, :stay]\n",
    "@gen (static) function motion_model(pos, action, params)\n",
    "    w, σ = params.map, params.step.σ\n",
    "    \n",
    "    new_agent_position_deterministic = GridWorlds.newpos(w, pos, action)\n",
    "    (possible_positions, logprobs) = _get_motion_logprobs(\n",
    "        w, new_agent_position_deterministic, σ\n",
    "    )\n",
    "    pos ~ list_categorical(\n",
    "        possible_positions,\n",
    "        _normalized_probs(logprobs)\n",
    "    )\n",
    "    return pos\n",
    "end"
   ]
  },
  {
   "cell_type": "code",
   "execution_count": null,
   "id": "7b8bfc86",
   "metadata": {},
   "outputs": [],
   "source": [
    "# Observation model: LIDAR distance measurements along `n_rays`\n",
    "# evenly spaced angles, with gaussian noise on the observed distances\n",
    "@gen (static) function observe_noisy_distances(pos, params)\n",
    "    w, n_rays, σ = params.map, params.obs.n_rays, params.obs.σ\n",
    "    \n",
    "    dists = ray_trace_distances(moveagent(w, pos), n_rays)\n",
    "    obs ~ broadcasted_normal(dists, σ)\n",
    "    return obs\n",
    "end"
   ]
  },
  {
   "cell_type": "code",
   "execution_count": null,
   "id": "80a55fd4",
   "metadata": {},
   "outputs": [],
   "source": [
    "# POMDP of this environment\n",
    "pomdp = GenPOMDPs.GenPOMDP(\n",
    "    uniform_agent_pos,       # INIT   : params                      ⇝ state\n",
    "    motion_model,            # STEP   : prev_state, actions, params ⇝ state\n",
    "    observe_noisy_distances, # OBS    : state                       ⇝ observation\n",
    "    (state, action) -> 0.    # UTILITY: state, action, params       → utility\n",
    ")"
   ]
  },
  {
   "cell_type": "code",
   "execution_count": null,
   "id": "04125c29",
   "metadata": {},
   "outputs": [],
   "source": [
    "# Generative function over trajectories of the POMDP,\n",
    "# given a fixed action sequence.\n",
    "trajectory_model = GenPOMDPs.ControlledTrajectoryModel(pomdp)"
   ]
  },
  {
   "cell_type": "code",
   "execution_count": null,
   "id": "af11574f",
   "metadata": {},
   "outputs": [],
   "source": [
    "PARAMS = (\n",
    "    # load houseexpo env #7,\n",
    "    # discretized with 24 gridsquares along the x axis\n",
    "    map = load_gridworld(24, 7),\n",
    "    \n",
    "    obs  = (; n_rays = 20, σ = 1.),\n",
    "    step = (; σ = 0.1)\n",
    ");"
   ]
  },
  {
   "cell_type": "code",
   "execution_count": null,
   "id": "98dfcc4d",
   "metadata": {},
   "outputs": [],
   "source": [
    "# Set up \"interactive mode\" with this model.\n",
    "\n",
    "# `take_action` is a function which accepts an action\n",
    "# as input, and updates the `world_trace` by taking that action.\n",
    "\n",
    "# `world_trace` is an `Observable` whose value is a trace of\n",
    "# `trajectory_model`, describing the \"ground truth\" trajectory which\n",
    "# has played out in the environment.  (This includes the state,\n",
    "# action, observation, and utility sequences.)\n",
    "\n",
    "# Each time `take_action` is called, `world_trace` automatically updates\n",
    "# to extend the simulation roll-out by one timestep.\n",
    "\n",
    "world_trace, take_action = GenPOMDPs.interactive_world_trace(trajectory_model, PARAMS);"
   ]
  },
  {
   "cell_type": "code",
   "execution_count": null,
   "id": "7333ae68",
   "metadata": {},
   "outputs": [],
   "source": [
    "# Map the world_trace observable to an observable\n",
    "# over the sequence of ground truth positions, and observation\n",
    "# point clouds\n",
    "function get_posobs_seq(groundtruth_trace)\n",
    "    return Makie.@lift((\n",
    "        GenPOMDPs.state_sequence($groundtruth_trace),\n",
    "        GenPOMDPs.observation_retval_sequence($groundtruth_trace)\n",
    "    ))\n",
    "end\n",
    "\n",
    "# Display this in an interactive GUI\n",
    "(f, t) = GridWorlds.Viz.interactive_gui(\n",
    "    PARAMS.map, get_posobs_seq(world_trace), take_action\n",
    ")\n",
    "f"
   ]
  },
  {
   "cell_type": "code",
   "execution_count": null,
   "id": "00663982",
   "metadata": {},
   "outputs": [],
   "source": [
    "# New interactive session.\n",
    "world_trace2, take_action2 = GenPOMDPs.interactive_world_trace(trajectory_model, PARAMS)\n",
    "\n",
    "# Get the sequence of observations and actions from the\n",
    "# world (consumed by inference).\n",
    "function get_actobs_seq(groundtruth_trace)\n",
    "    return Makie.@lift((\n",
    "        GenPOMDPs.observation_sequence($groundtruth_trace),\n",
    "        GenPOMDPs.action_sequence($groundtruth_trace)\n",
    "    ))\n",
    "end\n",
    "\n",
    "# Maintain a 200-particle bootstrap particle filter,\n",
    "# which updates whenever `world_trace2` updates\n",
    "bootstrap_pf_states = GenPOMDPs.pf_observable(\n",
    "    GenPOMDPs.bootstrap_pf(\n",
    "        pomdp,  # Run inference in the ground truth POMDP\n",
    "        PARAMS, # with the ground-truth parameters\n",
    "        200     # using 200 particles\n",
    "    ),\n",
    "    get_actobs_seq(world_trace2)\n",
    ");\n",
    "\n",
    "# Display an interactive GUI, with the particles\n",
    "(f2, t2) = interactive_mode_gui(PARAMS.map, get_posobs_seq(world_trace2), take_action2)\n",
    "display_pf_localization!(f2, t2, bootstrap_pf_states)\n",
    "f2"
   ]
  },
  {
   "cell_type": "code",
   "execution_count": null,
   "id": "89d3a84c",
   "metadata": {},
   "outputs": [],
   "source": []
  },
  {
   "cell_type": "code",
   "execution_count": null,
   "id": "2ad68684",
   "metadata": {},
   "outputs": [],
   "source": [
    "# Same as before, but now with a better particle filter\n",
    "world_trace3, take_action3 = GenPOMDPs.interactive_world_trace(trajectory_model, PARAMS)\n",
    "\n",
    "function initially_stratified_pf(pomdp, params)\n",
    "    possible_locations = empty_cells(params.map)\n",
    "    return GenPOMDPs.pf(pomdp, params,\n",
    "        ( # Stratified initial proposal\n",
    "             ( # Strata = enumerate each possible position\n",
    "                choicemap((GenPOMDPs.state_addr(0, :pos), loc))\n",
    "                for loc in possible_locations\n",
    "             ),\n",
    "             length(possible_locations), # N particles\n",
    "        ),\n",
    "        () # bootstrap update after the first step\n",
    "    )\n",
    "end\n",
    "stratified_pf_states = GenPOMDPs.pf_observable(\n",
    "    initially_stratified_pf(pomdp, PARAMS),\n",
    "    get_actobs_seq(world_trace3)\n",
    ");\n",
    "\n",
    "(f3, t3) = interactive_mode_gui(PARAMS.map, get_posobs_seq(world_trace3), take_action3)\n",
    "display_pf_localization!(f3, t3, stratified_pf_states)\n",
    "f3"
   ]
  },
  {
   "cell_type": "code",
   "execution_count": null,
   "id": "098ae153",
   "metadata": {},
   "outputs": [],
   "source": []
  },
  {
   "cell_type": "code",
   "execution_count": null,
   "id": "87c79f43",
   "metadata": {},
   "outputs": [],
   "source": [
    "# Same as before, but in an environment where there can\n",
    "# be genuine position uncertainty over a long period of time.\n",
    "\n",
    "PARAMS_AMBIGUOUS = (\n",
    "    # load a custom map I wrote with 2 identical rooms\n",
    "    map = load_custom_map(1),\n",
    "    \n",
    "    # Very low observation noise\n",
    "    obs  = (; n_rays = 20, σ = .0001),\n",
    "    step = (; σ = 0.1)\n",
    ");\n",
    "\n",
    "world_trace4, take_action4 = GenPOMDPs.interactive_world_trace(trajectory_model, PARAMS_AMBIGUOUS)\n",
    "\n",
    "stratified_pf_states4 = GenPOMDPs.pf_observable(\n",
    "    initially_stratified_pf(pomdp, PARAMS_AMBIGUOUS),\n",
    "    get_actobs_seq(world_trace4)\n",
    ");\n",
    "\n",
    "(f4, t4) = interactive_mode_gui(PARAMS_AMBIGUOUS.map, get_posobs_seq(world_trace4), take_action4)\n",
    "display_pf_localization!(f4, t4, stratified_pf_states4)\n",
    "f4"
   ]
  }
 ],
 "metadata": {
  "kernelspec": {
   "display_name": "Julia 1.9.0",
   "language": "julia",
   "name": "julia-1.9"
  },
  "language_info": {
   "file_extension": ".jl",
   "mimetype": "application/julia",
   "name": "julia",
   "version": "1.9.0"
  }
 },
 "nbformat": 4,
 "nbformat_minor": 5
}
