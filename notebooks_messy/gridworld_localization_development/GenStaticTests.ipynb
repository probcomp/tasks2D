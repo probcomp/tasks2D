{
 "cells": [
  {
   "cell_type": "code",
   "execution_count": 2,
   "id": "b5b44779",
   "metadata": {},
   "outputs": [
    {
     "name": "stderr",
     "output_type": "stream",
     "text": [
      "\u001b[36m\u001b[1m[ \u001b[22m\u001b[39m\u001b[36m\u001b[1mInfo: \u001b[22m\u001b[39mPrecompiling Gen [ea4f424c-a589-11e8-07c0-fd5c91b9da4a]\n"
     ]
    }
   ],
   "source": [
    "using Gen"
   ]
  },
  {
   "cell_type": "code",
   "execution_count": 4,
   "id": "bfa6a548",
   "metadata": {},
   "outputs": [
    {
     "data": {
      "text/plain": [
       "var\"##StaticGenFunction_foo#320\"(Dict{Symbol, Any}(), Dict{Symbol, Any}())"
      ]
     },
     "execution_count": 4,
     "metadata": {},
     "output_type": "execute_result"
    }
   ],
   "source": [
    "@gen (static) function foo()\n",
    "    x ~ normal(0, 1)\n",
    "    return x\n",
    "end"
   ]
  },
  {
   "cell_type": "code",
   "execution_count": 5,
   "id": "5d5195fc",
   "metadata": {},
   "outputs": [
    {
     "data": {
      "text/plain": [
       "-2.1348082691830945"
      ]
     },
     "execution_count": 5,
     "metadata": {},
     "output_type": "execute_result"
    }
   ],
   "source": [
    "foo()"
   ]
  },
  {
   "cell_type": "code",
   "execution_count": 12,
   "id": "32922fd4",
   "metadata": {},
   "outputs": [
    {
     "data": {
      "text/plain": [
       "return_static_gf (generic function with 2 methods)"
      ]
     },
     "execution_count": 12,
     "metadata": {},
     "output_type": "execute_result"
    }
   ],
   "source": [
    "function return_static_gf(named_tuple)\n",
    "    @gen (static) function bar()\n",
    "        x ~ (named_tuple.dist)(0, 1)\n",
    "        return x\n",
    "    end\n",
    "end"
   ]
  },
  {
   "cell_type": "code",
   "execution_count": 13,
   "id": "732ed6bd",
   "metadata": {},
   "outputs": [
    {
     "data": {
      "text/plain": [
       "0.0038975823411811976"
      ]
     },
     "execution_count": 13,
     "metadata": {},
     "output_type": "execute_result"
    }
   ],
   "source": [
    "bar = return_static_gf((; dist=normal))\n",
    "bar()"
   ]
  },
  {
   "cell_type": "code",
   "execution_count": null,
   "id": "7aac8f8c",
   "metadata": {},
   "outputs": [],
   "source": []
  }
 ],
 "metadata": {
  "kernelspec": {
   "display_name": "Julia 1.9.0",
   "language": "julia",
   "name": "julia-1.9"
  },
  "language_info": {
   "file_extension": ".jl",
   "mimetype": "application/julia",
   "name": "julia",
   "version": "1.9.0"
  }
 },
 "nbformat": 4,
 "nbformat_minor": 5
}
