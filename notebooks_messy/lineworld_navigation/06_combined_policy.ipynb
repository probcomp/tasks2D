{
 "cells": [
  {
   "cell_type": "code",
   "execution_count": 187,
   "id": "3e85c16f",
   "metadata": {},
   "outputs": [
    {
     "name": "stderr",
     "output_type": "stream",
     "text": [
      "\u001b[32m\u001b[1m  Activating\u001b[22m\u001b[39m project at `~/Developer/research/summer2023/tasks2d/Tasks2D`\n"
     ]
    }
   ],
   "source": [
    "import Pkg\n",
    "Pkg.activate(\"../../Tasks2D\")\n",
    "\n",
    "using Revise, Plots\n",
    "import LineWorlds\n",
    "const L = LineWorlds\n",
    "const Geo = L.Geometry\n",
    "\n",
    "import GridWorlds\n",
    "const GW = GridWorlds\n",
    "\n",
    "using Gen\n",
    "import GenPOMDPs\n",
    "\n",
    "using GenSMCP3\n",
    "# We need this to help with dualizing and undualizing values...\n",
    "const DFD = GenSMCP3.GenTraceKernelDSL.DynamicForwardDiff\n",
    "\n",
    "using VoxelRayTracers # For lineworld -> gridworld\n",
    "using AStarSearch     # For gridworld path planning"
   ]
  },
  {
   "cell_type": "code",
   "execution_count": 188,
   "id": "a25d4175",
   "metadata": {},
   "outputs": [],
   "source": [
    "(_segs, _bb, _center) = L.load_env_sparse(\"/Users/georgematheos/Developer/research/summer2023/tasks2d/data/environments/ambig.json\");"
   ]
  },
  {
   "cell_type": "code",
   "execution_count": 189,
   "id": "f2d0135f",
   "metadata": {},
   "outputs": [
    {
     "data": {
      "text/plain": [
       "line_to_grid (generic function with 1 method)"
      ]
     },
     "execution_count": 189,
     "metadata": {},
     "output_type": "execute_result"
    }
   ],
   "source": [
    "function line_to_grid(_segs, _bb, ϵ)\n",
    "    (x1, y1), (x2, y2) = _bb\n",
    "    edges = ((x1 - ϵ):ϵ:(x2 + ϵ), (y1 - ϵ):ϵ:(y2 + ϵ))\n",
    "\n",
    "    grid = [false for _ in edges[1], _ in edges[2]]\n",
    "    for seg in _segs\n",
    "        if Geo.diff(seg) ≈ [0, 0]\n",
    "            continue\n",
    "        end\n",
    "        ray = (position=seg.x, velocity=Geo.diff(seg))\n",
    "        for hit in eachtraversal(ray, edges)\n",
    "                                    # TODO: is this a hack or no?\n",
    "            if hit.exit_time ≤ 1. #|| (hit.entry_time == 1.0 && (ray.velocity[1] > 0 || ray.velocity[2] > 0))\n",
    "                grid[hit.voxelindex] = true\n",
    "            end\n",
    "        end\n",
    "    end\n",
    "\n",
    "    linecoords_to_gridcoords(x, y) = (\n",
    "        Int(round((x - edges[1][1] + ϵ) / ϵ)),\n",
    "        Int(round((y - edges[2][1] + ϵ) / ϵ))\n",
    "    )\n",
    "    gridcoords_to_linecoords(x, y) = (\n",
    "        edges[1][x],\n",
    "        edges[2][y]\n",
    "    )\n",
    "\n",
    "    return grid, edges, linecoords_to_gridcoords, gridcoords_to_linecoords\n",
    "end"
   ]
  },
  {
   "cell_type": "code",
   "execution_count": 190,
   "id": "0acc31f4",
   "metadata": {},
   "outputs": [],
   "source": [
    "ϵ = 0.25\n",
    "(grid, edges, l_to_g, g_to_l) = line_to_grid(_segs, _bb, ϵ)\n",
    "w = GridWorlds.boolmatrix_to_grid(grid, (length(edges[1]), length(edges[2])));"
   ]
  },
  {
   "cell_type": "code",
   "execution_count": 191,
   "id": "33fc77d3",
   "metadata": {},
   "outputs": [
    {
     "data": {
      "text/plain": [
       "find_action_using_grid_search (generic function with 1 method)"
      ]
     },
     "execution_count": 191,
     "metadata": {},
     "output_type": "execute_result"
    }
   ],
   "source": [
    "taxi_dist((x, y), (x2, y2)) = abs(x - x2) + abs(y - y2)\n",
    "function find_action_using_grid_search(start_linecoords, goal_linecoords)\n",
    "    actions = (:up, :down, :left, :right, :stay)\n",
    "    initialpos = l_to_g(start_linecoords...)\n",
    "    goalpos    = l_to_g(goal_linecoords...)\n",
    "\n",
    "    results = astar(\n",
    "        # state to neighbors\n",
    "        pos -> unique(GW.newpos(w, pos, dir) for dir in actions),\n",
    "        initialpos, # Initial world state\n",
    "        goalpos; # Goal world state\n",
    "        heuristic = ((pos, goal) -> taxi_dist(pos, goal)),\n",
    "        isgoal = ((pos, goal) -> pos == goal),\n",
    "        timeout = 10.\n",
    "    )\n",
    "\n",
    "    length(results.path) == 1 && return (:stay, results.path)\n",
    "    \n",
    "    next_state = results.path[2]\n",
    "    # println(\"next_state: \", g_to_l(next_state...))\n",
    "    action = actions[findfirst(\n",
    "        GW.newpos(w, initialpos, dir) == next_state for dir in actions\n",
    "    )]\n",
    "    \n",
    "#     @info \"action = $action\"\n",
    "#     if action == :stay\n",
    "#         println(\"a=stay | next_state = $next_state, current_pos = $initialpos\")\n",
    "#         println(\"GW.newpos(w, initialpos, dir) = $(GW.newpos(w, initialpos, :stay))\")\n",
    "#     end\n",
    "\n",
    "    return (action, results.path)\n",
    "end"
   ]
  },
  {
   "cell_type": "code",
   "execution_count": 192,
   "id": "a5852114",
   "metadata": {},
   "outputs": [],
   "source": [
    "PARAMS = (;\n",
    "    map = _segs,\n",
    "    orientation = π/2,\n",
    "    bounding_box = L.bounding_box(_segs),\n",
    "    step = (;\n",
    "        Δ = 0.25,\n",
    "        σ = 0.02\n",
    "    ),\n",
    "    obs = (;\n",
    "        fov = 2π,\n",
    "        n_rays = 40,\n",
    "        sensor_args = (;\n",
    "            w            = 5,\n",
    "            s_noise      = 0.02,\n",
    "            outlier      = 0.0001,\n",
    "            outlier_vol = 100.0,\n",
    "            zmax = 100.0\n",
    "        )\n",
    "    )\n",
    ");"
   ]
  },
  {
   "cell_type": "code",
   "execution_count": 193,
   "id": "741b7928",
   "metadata": {},
   "outputs": [],
   "source": [
    "mvuniform = L.ProductDistribution(uniform);\n",
    "@gen (static) function uniform_agent_pos(params)\n",
    "    w = params.map # a map, represented as list of line segments\n",
    "    \n",
    "    mins, maxs = PARAMS.bounding_box\n",
    "    pos ~ mvuniform(mins, maxs)\n",
    "    \n",
    "    return pos\n",
    "end\n",
    "@load_generated_functions()\n",
    "\n",
    "### Motion model ###\n",
    "# The next position, under a 0-noise model, with no walls.\n",
    "function det_next_pos(pos, a, Δ)\n",
    "    (x, y) = DFD.value(pos)\n",
    "    a == :up    ? [x, y + Δ] :\n",
    "    a == :down  ? [x, y - Δ] : \n",
    "    a == :left  ? [x - Δ, y] :\n",
    "    a == :right ? [x + Δ, y] :\n",
    "    a == :stay  ? [x, y]     :\n",
    "                error(\"Unrecognized action: $a\")\n",
    "end\n",
    "function handle_wall_intersection(prev, new, walls)\n",
    "    move = L.Segment(DFD.value(prev), DFD.value(new))\n",
    "    for wall in walls\n",
    "        do_intersect, dist = L.Geometry.cast(move, wall)\n",
    "        if do_intersect && dist ≤ L.Geometry.norm(move)\n",
    "            return prev\n",
    "        end\n",
    "    end\n",
    "    return new\n",
    "end\n",
    "@gen (static) function motion_model(prev_pos, action, PARAMS)\n",
    "    np = det_next_pos(prev_pos, action, PARAMS.step.Δ)\n",
    "    pos ~ broadcasted_normal(np, PARAMS.step.σ)\n",
    "    \n",
    "    next_pos = handle_wall_intersection(prev_pos, pos, PARAMS.map)\n",
    "    \n",
    "    return next_pos\n",
    "end\n",
    "\n",
    "### Observation model ###\n",
    "@gen function sensor_model(pos, params)\n",
    "    p = L.Pose(pos, params.orientation)\n",
    "    \n",
    "    w, s_noise, outlier, outlier_vol, zmax = params.obs.sensor_args\n",
    "    \n",
    "    # segs = L.stack(Vector.(params.map))\n",
    "    _as = L.create_angles(params.obs.fov, params.obs.n_rays)\n",
    "    zs = L.cast([p], params.map; num_a=params.obs.n_rays, zmax)\n",
    "    @assert !any(isinf.(zs))\n",
    "    # zs = reshape(dists, (1, :))\n",
    "    ỹ  = L.get_2d_mixture_components(zs, _as, w; fill_val_z=zmax)[1,:,:,:]\n",
    "    @assert !any(isinf.(ỹ))\n",
    "\n",
    "    # Observe a list of points, in the agent's coordinate frame.\n",
    "    obs ~ L.sensordist_2dp3(ỹ, s_noise, outlier, outlier_vol)  \n",
    "\n",
    "    if any(any(isinf.(o)) for o in obs)\n",
    "        @warn \"got an inf obs ỹ = $ỹ\"\n",
    "    end\n",
    "    \n",
    "    return obs\n",
    "end;\n",
    "\n",
    "# POMDP of this environment\n",
    "pomdp = GenPOMDPs.GenPOMDP(\n",
    "    uniform_agent_pos,       # INIT   : params                      ⇝ state\n",
    "    motion_model,            # STEP   : prev_state, actions, params ⇝ state\n",
    "    sensor_model,            # OBS    : state, params               ⇝ observation\n",
    "    (state, action) -> 0.    # UTILITY: state, action, params       → utility\n",
    ")\n",
    "\n",
    "# Generative function over trajectories of the POMDP,\n",
    "# given a fixed action sequence.\n",
    "trajectory_model = GenPOMDPs.ControlledTrajectoryModel(pomdp)\n",
    "\n",
    "@load_generated_functions()"
   ]
  },
  {
   "cell_type": "code",
   "execution_count": 194,
   "id": "2413af9b",
   "metadata": {},
   "outputs": [
    {
     "data": {
      "text/plain": [
       "currentpos (generic function with 1 method)"
      ]
     },
     "execution_count": 194,
     "metadata": {},
     "output_type": "execute_result"
    }
   ],
   "source": [
    "T(tr) = get_args(tr)[1]\n",
    "currentpos(tr) = tr[state_addr(T(tr), :pos)]"
   ]
  },
  {
   "cell_type": "code",
   "execution_count": 195,
   "id": "9dd9a4a5",
   "metadata": {},
   "outputs": [],
   "source": [
    "includet(\"05_inference.jl\")"
   ]
  },
  {
   "cell_type": "code",
   "execution_count": 196,
   "id": "5a483fe9",
   "metadata": {},
   "outputs": [
    {
     "data": {
      "text/plain": [
       "get_actobs_seq (generic function with 1 method)"
      ]
     },
     "execution_count": 196,
     "metadata": {},
     "output_type": "execute_result"
    }
   ],
   "source": [
    "function get_actobs_seq(groundtruth_trace)\n",
    "    return map(\n",
    "        trace -> (\n",
    "            GenPOMDPs.observation_sequence(trace),\n",
    "            GenPOMDPs.action_sequence(trace)\n",
    "        ),\n",
    "        groundtruth_trace\n",
    "    )\n",
    "end"
   ]
  },
  {
   "cell_type": "code",
   "execution_count": 197,
   "id": "3d8497c3",
   "metadata": {},
   "outputs": [],
   "source": [
    "_grid_args = (;\n",
    "    tau = 1., # \"temperature\" for grid proposal\n",
    "    pmin = 1e-6,\n",
    "    init_grid_args = (;\n",
    "        k = [9, 9],    # number of grid cells along each dimension\n",
    "        r = [PARAMS.step.Δ/3, PARAMS.step.Δ/3] # size of grid cells at first iteration\n",
    "    ),\n",
    "    n_iters = 3 # number of iterations of grid proposals\n",
    ")\n",
    "\n",
    "_t0_grid_args = (;\n",
    "    _grid_args...,\n",
    "    tau=20,\n",
    "    n_iters=5, # more iterations for the initial step\n",
    "\n",
    "    # TODO: set this up to automatically look at the bounding box\n",
    "    init_grid_args = (; k=[7, 13], r=[.8, .8]),\n",
    "    initial_pos = [2.7, 6.] # center of grid for first timestep\n",
    ")\n",
    "\n",
    "PARAMS_NOISYSTEP = (;\n",
    "    map = _segs,\n",
    "    orientation = π/2,\n",
    "    bounding_box = L.bounding_box(_segs),\n",
    "    step = (;\n",
    "        Δ = 0.25,\n",
    "        σ = 0.1\n",
    "    ),\n",
    "    obs = (;\n",
    "        fov = 2π,\n",
    "        n_rays = 40,\n",
    "        sensor_args = (;\n",
    "            w            = 5,\n",
    "            s_noise      = 0.1,\n",
    "            outlier      = 0.001,\n",
    "            outlier_vol = 100.0,\n",
    "            zmax = 100.0\n",
    "        )\n",
    "    )\n",
    ");\n",
    "\n",
    "pf = @get_pf(PARAMS_NOISYSTEP, _grid_args, _t0_grid_args);"
   ]
  },
  {
   "cell_type": "code",
   "execution_count": 198,
   "id": "c6a3b548",
   "metadata": {},
   "outputs": [
    {
     "data": {
      "text/plain": [
       "state_addr (generic function with 2 methods)"
      ]
     },
     "execution_count": 198,
     "metadata": {},
     "output_type": "execute_result"
    }
   ],
   "source": [
    "state_addr = GenPOMDPs.state_addr"
   ]
  },
  {
   "cell_type": "code",
   "execution_count": 199,
   "id": "6f059766",
   "metadata": {},
   "outputs": [],
   "source": [
    "tr, take_action = GenPOMDPs.interactive_world_trace(trajectory_model, PARAMS, choicemap((state_addr(0, :pos), [1., 4.])));\n",
    "pf_observable = GenPOMDPs.pf_observable(pf, get_actobs_seq(tr));"
   ]
  },
  {
   "cell_type": "code",
   "execution_count": 244,
   "id": "c84dcfed",
   "metadata": {
    "scrolled": false
   },
   "outputs": [
    {
     "data": {
      "text/plain": [
       "visualize_tr_pf (generic function with 3 methods)"
      ]
     },
     "execution_count": 244,
     "metadata": {},
     "output_type": "execute_result"
    }
   ],
   "source": [
    "### Visualize first timestep particles ###\n",
    "\n",
    "using Random\n",
    "function visualize_tr_pf(tr, states, mint=nothing, maxt=nothing; goal=nothing, fps=1,\n",
    "    title=\"Generated trajectory from POMDP\",\n",
    "    saveas=nothing\n",
    ")\n",
    "    poses = [\n",
    "        L.Pose(position, PARAMS.orientation)\n",
    "        for position in GenPOMDPs.state_sequence(tr)\n",
    "    ];\n",
    "    ptclouds = [\n",
    "        obss[:obs].*pose\n",
    "        for (obss, pose) in zip(\n",
    "            GenPOMDPs.observation_sequence(tr),\n",
    "            poses\n",
    "        )\n",
    "    ];\n",
    "\n",
    "    if isnothing(mint)\n",
    "        mint = 0\n",
    "    end\n",
    "    if isnothing(maxt)\n",
    "        maxt = T(tr)\n",
    "    end\n",
    "    \n",
    "    # -----------------------\n",
    "    col = palette(:default)\n",
    "    ani = Animation()\n",
    "    # states = [state]\n",
    "    for t=mint:maxt\n",
    "        p = poses[t + 1]\n",
    "        y = ptclouds[t + 1]\n",
    "    \n",
    "        agent_plt = plot(\n",
    "            size=(500,500), aspect_ratio=:equal, title=title, grid=false,\n",
    "            xlim=(_bb[1][1]-3, _bb[2][1]+3),\n",
    "            ylim=(_bb[1][2]-3, _bb[2][2]+3),\n",
    "            legend=:bottomleft,\n",
    "        )\n",
    "        plot!(_segs, c=:black, linewidth=1, label=nothing)\n",
    "#         plot!([p], c=:red, r=1.0, linewidth=2, label=nothing)\n",
    "        scatter!(Random.shuffle(y[1:2:end]), c=col[1], markersize=4, alpha=.7, markerstrokewidth=1, label=\"Obs in pose coords `_ys[t].*_ps[t]`\")\n",
    "    \n",
    "        particles = states[t + 1]\n",
    "        labeled=false\n",
    "        for (w, tr) in zip(\n",
    "                GenParticleFilters.get_norm_weights(particles),\n",
    "                GenParticleFilters.get_traces(particles)\n",
    "            )\n",
    "            pos = tr[GenPOMDPs.state_addr(t)]\n",
    "            if !labeled && sqrt(w) > 0.1\n",
    "                scatter!([pos], c=:black, seriesalpha=max(sqrt(w), 0.1), label=\"Particle\")\n",
    "                labeled=true\n",
    "            else\n",
    "                scatter!([pos], c=:black, seriesalpha=max(sqrt(w), 0.1), label=nothing)\n",
    "            end\n",
    "        end\n",
    "        \n",
    "        if !isnothing(goal)\n",
    "           scatter!([goal], c=:green, marker=:x, label=\"Goal\") \n",
    "        end\n",
    "        \n",
    "        scatter!([p.x], c=:red, marker=:x, label=\"True agent position\")\n",
    "    \n",
    "        frame(ani, agent_plt)\n",
    "    end\n",
    "    if !isnothing(saveas)\n",
    "        return gif(ani, \"$saveas.gif\", fps=fps) # gif(ani, fname, fps=10)\n",
    "    else\n",
    "        return gif(ani, fps=fps)\n",
    "    end\n",
    "end"
   ]
  },
  {
   "cell_type": "code",
   "execution_count": null,
   "id": "adcc86ab",
   "metadata": {},
   "outputs": [],
   "source": []
  },
  {
   "cell_type": "code",
   "execution_count": 201,
   "id": "b716164e",
   "metadata": {},
   "outputs": [
    {
     "data": {
      "text/plain": [
       "_wall_follow"
      ]
     },
     "execution_count": 201,
     "metadata": {},
     "output_type": "execute_result"
    }
   ],
   "source": [
    "\"\"\"\n",
    "st  - finite state machine state (direction of wall we're following)\n",
    "nbs - neighbors of the agent on grid which are filled (set of dirs)\n",
    "returns (action, next_st)\n",
    "\n",
    "dirs = [:L, :R, :U, :D]\n",
    "\"\"\"\n",
    "function _wall_follow(st, nbs)\n",
    "    isnothing(st) && :L ∉ nbs ? (:L, st) :\n",
    "    isnothing(st) && :L ∈ nbs ? (:D, :L) :\n",
    "    #\n",
    "    st == :L && :L ∉ nbs ? (:L, :U) :\n",
    "    st == :L && :D ∉ nbs ? (:D, :L) :\n",
    "    st == :L && :R ∉ nbs ? (:R, :D) :\n",
    "    st == :L             ? (:U, :R) :\n",
    "    #\n",
    "    st == :R && :R ∉ nbs ? (:R, :D) :\n",
    "    st == :R && :U ∉ nbs ? (:U, :R) :\n",
    "    st == :R && :L ∉ nbs ? (:L, :U) :\n",
    "    st == :R             ? (:D, :L) :\n",
    "    #\n",
    "    st == :D && :D ∉ nbs ? (:D, :L) :\n",
    "    st == :D && :R ∉ nbs ? (:R, :D) :\n",
    "    st == :D && :U ∉ nbs ? (:U, :R) :\n",
    "    st == :D             ? (:L, :U) :\n",
    "    #\n",
    "    st == :U && :U ∉ nbs ? (:U, :R) :\n",
    "    st == :U && :L ∉ nbs ? (:L, :U) :\n",
    "    st == :U && :D ∉ nbs ? (:D, :L) :\n",
    "    st == :U             ? (:R, :D) :\n",
    "    \n",
    "    error(\"Unrecognized st/nbs pair.\")\n",
    "end"
   ]
  },
  {
   "cell_type": "code",
   "execution_count": 202,
   "id": "28d2e0d1",
   "metadata": {},
   "outputs": [
    {
     "data": {
      "text/plain": [
       "wall_follow (generic function with 1 method)"
      ]
     },
     "execution_count": 202,
     "metadata": {},
     "output_type": "execute_result"
    }
   ],
   "source": [
    "initial_wall_follow_state() = Any[nothing]\n",
    "function wall_follow_from_pos(pos, st)\n",
    "    (x, y) = pos\n",
    "\n",
    "    # Find which sides of the agent have walls\n",
    "    # (the agent's \"neighbors\")\n",
    "    nbs = Set()\n",
    "    δ = 1.25*ϵ\n",
    "    for (a, newpos) in (\n",
    "        (:U, [x, y + δ]), (:D, [x, y - δ]), (:L, [x - δ, y]), (:R, [x + δ, y])\n",
    "    )\n",
    "        if handle_wall_intersection([x, y], newpos, PARAMS.map) != newpos\n",
    "            push!(nbs, a)\n",
    "        end\n",
    "    end\n",
    "    \n",
    "    (a, st) = _wall_follow(st, nbs)\n",
    "    \n",
    "    act = (;U=:up,L=:left,D=:down,R=:right)[a]\n",
    "    \n",
    "    return (act, st)\n",
    "\n",
    "end\n",
    "function wall_follow(sts, pos)\n",
    "    (a, st) = wall_follow_from_pos(pos, sts[end])\n",
    "    sts = vcat(sts, [st])\n",
    "    \n",
    "    # Prevent cycles\n",
    "    if length(sts)>8 && sts[end-3:end] == sts[end-7:end-4] && length(Set(sts[end-3:end])) == 4\n",
    "        sts[end] = nothing\n",
    "    end\n",
    "    \n",
    "    return (a, sts)\n",
    "end"
   ]
  },
  {
   "cell_type": "code",
   "execution_count": 203,
   "id": "ef18c583",
   "metadata": {},
   "outputs": [
    {
     "data": {
      "text/plain": [
       "there_is_ambiguity (generic function with 1 method)"
      ]
     },
     "execution_count": 203,
     "metadata": {},
     "output_type": "execute_result"
    }
   ],
   "source": [
    "# function there_is_ambiguity(pf_state)\n",
    "#     pts = [] # set of unique positions\n",
    "#     for tr in GPF.get_traces(pf_state)\n",
    "#         if isempty(pts)\n",
    "#             push!(pts, currentpos(tr))\n",
    "#         else\n",
    "#             is_replicate = false\n",
    "#             for pt in pts\n",
    "#                 if Geo.norm(currentpos(tr) - pt) < 0.5\n",
    "#                     is_replicate = true\n",
    "#                     continue\n",
    "#                 end\n",
    "#             end\n",
    "#             # If this trace has a significantly different position\n",
    "#             # than the first one we found...\n",
    "#             if !is_replicate\n",
    "#                 push!(pts, currentpos(tr))\n",
    "#                 return true # There IS ambiguity\n",
    "#             end\n",
    "#         end\n",
    "#     end\n",
    "#     return false\n",
    "# end\n",
    "\n",
    "function there_is_ambiguity(pf_state)\n",
    "    tr1 = first(GPF.get_traces(pf_state))\n",
    "    pos = currentpos(tr1)\n",
    "    \n",
    "    p_different = 0.\n",
    "    for (tr, p_particle) in zip(GPF.get_traces(pf_state), GPF.get_norm_weights(pf_state))\n",
    "        if Geo.norm(currentpos(tr) - pos) > .5\n",
    "            p_different += p_particle\n",
    "        end\n",
    "    end\n",
    "    \n",
    "    return p_different > 0\n",
    "end"
   ]
  },
  {
   "cell_type": "code",
   "execution_count": 204,
   "id": "59152ccf",
   "metadata": {},
   "outputs": [
    {
     "data": {
      "text/plain": [
       "2-element Vector{Float64}:\n",
       " 2.0\n",
       " 8.0"
      ]
     },
     "execution_count": 204,
     "metadata": {},
     "output_type": "execute_result"
    }
   ],
   "source": [
    "GOAL = [2., 8.] # In one of the identical rooms"
   ]
  },
  {
   "cell_type": "code",
   "execution_count": 236,
   "id": "08773b0a",
   "metadata": {},
   "outputs": [
    {
     "name": "stderr",
     "output_type": "stream",
     "text": [
      "\u001b[36m\u001b[1m[ \u001b[22m\u001b[39m\u001b[36m\u001b[1mInfo: \u001b[22m\u001b[39mSaved animation to /Users/georgematheos/Developer/research/summer2023/tasks2d/notebooks_messy/lineworld_tasks/tmp.gif\n"
     ]
    },
    {
     "data": {
      "text/html": [
       "<img src=\"data:image/gif;base64,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\" />"
      ],
      "text/plain": [
       "Plots.AnimatedGif(\"/Users/georgematheos/Developer/research/summer2023/tasks2d/notebooks_messy/lineworld_tasks/tmp.gif\")"
      ]
     },
     "execution_count": 236,
     "metadata": {},
     "output_type": "execute_result"
    }
   ],
   "source": [
    "tr, take_action = GenPOMDPs.interactive_world_trace(trajectory_model, PARAMS, choicemap((state_addr(0, :pos), [1., 4.])));\n",
    "pf_observable = GenPOMDPs.pf_observable(pf, get_actobs_seq(tr));\n",
    "\n",
    "visualize_tr_pf(tr[], pf_observable[], 0, 0)"
   ]
  },
  {
   "cell_type": "code",
   "execution_count": 237,
   "id": "2c981cac",
   "metadata": {
    "scrolled": true
   },
   "outputs": [
    {
     "name": "stdout",
     "output_type": "stream",
     "text": [
      "WF (nothing) -> (:left, nothing)\n",
      "WF (nothing) -> (:left, nothing)\n",
      "WF (nothing) -> (:left, nothing)\n",
      "WF (nothing) -> (:down, :L)\n",
      "WF (L) -> (:down, :L)\n",
      "WF (L) -> (:down, :L)\n",
      "WF (L) -> (:down, :L)\n",
      "WF (L) -> (:down, :L)\n",
      "WF (L) -> (:down, :L)\n",
      "WF (L) -> (:down, :L)\n",
      "WF (L) -> (:right, :D)\n",
      "WF (D) -> (:right, :D)\n",
      "WF (D) -> (:right, :D)\n",
      "WF (D) -> (:right, :D)\n",
      "WF (D) -> (:right, :D)\n",
      "WF (D) -> (:right, :D)\n",
      "WF (D) -> (:right, :D)\n",
      "WF (D) -> (:right, :D)\n",
      "WF (D) -> (:right, :D)\n",
      "WF (D) -> (:right, :D)\n",
      "WF (D) -> (:right, :D)\n",
      "WF (D) -> (:right, :D)\n",
      "WF (D) -> (:right, :D)\n",
      "WF (D) -> (:right, :D)\n",
      "WF (D) -> (:up, :R)\n",
      "WF (R) -> (:up, :R)\n",
      "WF (R) -> (:up, :R)\n",
      "WF (R) -> (:right, :D)\n",
      "WF (D) -> (:down, :L)\n",
      "WF (L) -> (:left, :U)\n",
      "WF (U) -> (:up, :R)\n",
      "WF (R) -> (:right, :D)\n",
      "WF (D) -> (:down, :L)\n",
      "Resampling!\n",
      "GS -> up\n",
      "GS -> up\n",
      "GS -> up\n",
      "GS -> right\n",
      "GS -> up\n",
      "GS -> up\n",
      "GS -> up\n",
      "GS -> up\n",
      "GS -> up\n",
      "GS -> up\n",
      "GS -> up\n",
      "GS -> up\n",
      "GS -> up\n",
      "GS -> up\n",
      "GS -> up\n",
      "GS -> up\n",
      "GS -> up\n",
      "GS -> up\n",
      "GS -> up\n",
      "GS -> left\n",
      "GS -> up\n",
      "GS -> left\n",
      "GS -> up\n",
      "GS -> left\n",
      "GS -> left\n",
      "GS -> left\n",
      "GS -> left\n",
      "GS -> left\n",
      "GS -> left\n",
      "GS -> left\n"
     ]
    }
   ],
   "source": [
    "wall_following_internal_state = initial_wall_follow_state()\n",
    "while Geo.norm(currentpos(tr[]) - GOAL) > .3 && T(tr[]) < 100\n",
    "    _tr = GPF.sample_unweighted_traces(pf_observable[][end], 1)[1]\n",
    "    pos = _tr[state_addr(T(_tr), :pos)]\n",
    "    \n",
    "    if there_is_ambiguity(pf_observable[][end])\n",
    "        prev_st = wall_following_internal_state\n",
    "        (action, next_st) = wall_follow(wall_following_internal_state, pos)\n",
    "        wall_following_internal_state = next_st\n",
    "        \n",
    "        msg = \"WF ($(prev_st[end])) -> $((action, next_st[end]))\"\n",
    "    else\n",
    "        action = find_action_using_grid_search2(pos, GOAL)[1]\n",
    "        \n",
    "        msg = \"GS -> $action\"\n",
    "\n",
    "        # Reset the wall following policy\n",
    "        wall_following_internal_state = initial_wall_follow_state()\n",
    "    end\n",
    "    println(msg)\n",
    "    \n",
    "    take_action(action)\n",
    "end"
   ]
  },
  {
   "cell_type": "code",
   "execution_count": 248,
   "id": "d430336a",
   "metadata": {},
   "outputs": [
    {
     "data": {
      "text/plain": [
       "\"bsq_path.png\""
      ]
     },
     "execution_count": 248,
     "metadata": {},
     "output_type": "execute_result"
    }
   ],
   "source": [
    "mypl = plot(size=(500,500), aspect_ratio=:equal, title=\"Agent's path to goal (BSQ Policy)\", grid=false,\n",
    "    xlim=(_bb[1][1]-3, _bb[2][1]+3),\n",
    "    ylim=(_bb[1][2]-3, _bb[2][2]+3),\n",
    "    legend=:bottomleft,\n",
    ")\n",
    "plot!(_segs, c=:black, label=\"Walls\")\n",
    "scatter!([GOAL], c=:green, marker=:x, label=\"Goal\")\n",
    "plot!(GenPOMDPs.state_sequence(tr[]), c=:red, label=\"Agent path\")\n",
    "png(\"bsq_path.png\")"
   ]
  },
  {
   "cell_type": "code",
   "execution_count": 245,
   "id": "303fa379",
   "metadata": {},
   "outputs": [
    {
     "name": "stderr",
     "output_type": "stream",
     "text": [
      "\u001b[36m\u001b[1m[ \u001b[22m\u001b[39m\u001b[36m\u001b[1mInfo: \u001b[22m\u001b[39mSaved animation to /Users/georgematheos/Developer/research/summer2023/tasks2d/notebooks_messy/lineworld_tasks/BSQ_v1.gif\n"
     ]
    },
    {
     "data": {
      "text/html": [
       "<img src=\"data:image/gif;base64,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\" />"
      ],
      "text/plain": [
       "Plots.AnimatedGif(\"/Users/georgematheos/Developer/research/summer2023/tasks2d/notebooks_messy/lineworld_tasks/BSQ_v1.gif\")"
      ]
     },
     "execution_count": 245,
     "metadata": {},
     "output_type": "execute_result"
    }
   ],
   "source": [
    "visualize_tr_pf(tr[], pf_observable[]; goal=GOAL, fps=4,\n",
    "    saveas=\"BSQ_v1\",\n",
    "    title=\"Agent following BSQ Policy\"\n",
    ")"
   ]
  },
  {
   "cell_type": "code",
   "execution_count": null,
   "id": "62a0beb4",
   "metadata": {},
   "outputs": [],
   "source": []
  },
  {
   "cell_type": "code",
   "execution_count": null,
   "id": "2ca7c126",
   "metadata": {},
   "outputs": [],
   "source": []
  },
  {
   "cell_type": "code",
   "execution_count": null,
   "id": "3b8e308c",
   "metadata": {},
   "outputs": [],
   "source": []
  },
  {
   "cell_type": "code",
   "execution_count": 154,
   "id": "f836003b",
   "metadata": {},
   "outputs": [
    {
     "data": {
      "text/plain": [
       "2-element Vector{Float64}:\n",
       " 3.655823193287571\n",
       " 1.8037627688273672"
      ]
     },
     "execution_count": 154,
     "metadata": {},
     "output_type": "execute_result"
    }
   ],
   "source": [
    "pos = pf_observable[][end].traces[1][state_addr(50)]"
   ]
  },
  {
   "cell_type": "code",
   "execution_count": 170,
   "id": "a63682c1",
   "metadata": {},
   "outputs": [
    {
     "data": {
      "text/plain": [
       "(:up, [(18, 14), (18, 15), (18, 16), (18, 17), (19, 17), (19, 18), (19, 19), (19, 20), (19, 21), (19, 22)  …  (17, 32), (17, 33), (17, 34), (16, 34), (15, 34), (14, 34), (13, 34), (12, 34), (11, 34), (10, 34)])"
      ]
     },
     "execution_count": 170,
     "metadata": {},
     "output_type": "execute_result"
    }
   ],
   "source": [
    "# tr[][state_addr(50)]\n",
    "(a, path) = find_action_using_grid_search(pos, GOAL)"
   ]
  },
  {
   "cell_type": "code",
   "execution_count": 166,
   "id": "62b5d6e5",
   "metadata": {},
   "outputs": [
    {
     "data": {
      "text/plain": [
       "31"
      ]
     },
     "execution_count": 166,
     "metadata": {},
     "output_type": "execute_result"
    }
   ],
   "source": [
    "length(path)"
   ]
  },
  {
   "cell_type": "code",
   "execution_count": 145,
   "id": "42c588c6",
   "metadata": {},
   "outputs": [
    {
     "data": {
      "text/plain": [
       "2-element Vector{Float64}:\n",
       " 3.178686006607512\n",
       " 1.753689016850281"
      ]
     },
     "execution_count": 145,
     "metadata": {},
     "output_type": "execute_result"
    }
   ],
   "source": [
    "pos = tr[][state_addr(50)]"
   ]
  },
  {
   "cell_type": "code",
   "execution_count": 146,
   "id": "2f5f1b7c",
   "metadata": {},
   "outputs": [
    {
     "data": {
      "text/plain": [
       "(15, 9)"
      ]
     },
     "execution_count": 146,
     "metadata": {},
     "output_type": "execute_result"
    }
   ],
   "source": [
    "l_to_g(pos...)"
   ]
  },
  {
   "cell_type": "code",
   "execution_count": null,
   "id": "a62dd998",
   "metadata": {},
   "outputs": [],
   "source": []
  }
 ],
 "metadata": {
  "kernelspec": {
   "display_name": "Julia 1.9.0",
   "language": "julia",
   "name": "julia-1.9"
  },
  "language_info": {
   "file_extension": ".jl",
   "mimetype": "application/julia",
   "name": "julia",
   "version": "1.9.0"
  }
 },
 "nbformat": 4,
 "nbformat_minor": 5
}
