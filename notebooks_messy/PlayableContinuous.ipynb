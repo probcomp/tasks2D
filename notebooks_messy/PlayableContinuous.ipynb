{
 "cells": [
  {
   "cell_type": "code",
   "execution_count": 1,
   "id": "492e53e5-cb13-4af6-9690-759b95a8b5e3",
   "metadata": {
    "tags": []
   },
   "outputs": [
    {
     "name": "stderr",
     "output_type": "stream",
     "text": [
      "\u001b[32m\u001b[1m  Activating\u001b[22m\u001b[39m project at `~/Developer/research/fall2023/cocosci/tasks2D/Tasks2D`\n"
     ]
    }
   ],
   "source": [
    "# Load the Julia environment needed for this notebook\n",
    "import Pkg\n",
    "Pkg.activate(\"../Tasks2D\")"
   ]
  },
  {
   "cell_type": "code",
   "execution_count": 2,
   "id": "0e512ae8-ea79-4857-8610-e960f93ad6e3",
   "metadata": {
    "tags": []
   },
   "outputs": [
    {
     "name": "stderr",
     "output_type": "stream",
     "text": [
      "\u001b[36m\u001b[1m[ \u001b[22m\u001b[39m\u001b[36m\u001b[1mInfo: \u001b[22m\u001b[39mPrecompiling GridWorlds [c15fd557-8ec5-4bf9-9d87-df57ac477796]\n"
     ]
    }
   ],
   "source": [
    "import Makie   # Visualization Library\n",
    "using Revise      # For development; makes it so modifications\n",
    "                  # to imported modules are immediately reflected in this Julia session\n",
    "using Gen         # Gen probabilistic programming library\n",
    "import GenParticleFilters # Additional particle filtering functionality for Gen\n",
    "import GridWorlds # Simple gridworld functionality\n",
    "import LineWorlds\n",
    "const L = LineWorlds\n",
    "import LineWorlds: cast # Ray caster\n",
    "import GenPOMDPs  # Beginnings of a Gen POMDP library\n",
    "\n",
    "import Tasks2D\n",
    "\n",
    "includet(\"SLAM/Utils.jl\")"
   ]
  },
  {
   "cell_type": "code",
   "execution_count": 20,
   "id": "5c0fea3a-5748-479d-a252-85de2bbcb9c7",
   "metadata": {
    "tags": []
   },
   "outputs": [],
   "source": [
    "includet(\"SLAM/Utils.jl\")"
   ]
  },
  {
   "cell_type": "code",
   "execution_count": 4,
   "id": "313c14b7-1f1d-4698-b01c-eec1933bb749",
   "metadata": {
    "tags": []
   },
   "outputs": [],
   "source": [
    "import GLMakie\n",
    "GLMakie.activate!()"
   ]
  },
  {
   "cell_type": "code",
   "execution_count": 5,
   "id": "2a9f0278-b761-4322-ad3f-3d415bec205c",
   "metadata": {},
   "outputs": [
    {
     "data": {
      "text/plain": [
       "var\"##StaticGenFunction_uniform_agent_pos#317\"(Dict{Symbol, Any}(), Dict{Symbol, Any}())"
      ]
     },
     "execution_count": 5,
     "metadata": {},
     "output_type": "execute_result"
    }
   ],
   "source": [
    "# Initial position model\n",
    "\n",
    "# Distribution to sample uniformly from a Julia Set\n",
    "using Tasks2D.Distributions: uniform_from_set\n",
    "\n",
    "@gen (static) function uniform_agent_pos(t_to_params)\n",
    "    w = t_to_params(0).map # a map, represented as a GridWorlds.GridWorld\n",
    "    \n",
    "    cell ~ uniform_from_set(GridWorlds.empty_cells(w))\n",
    "    \n",
    "    # Cell (i, j) corresponds to the region from i-1 to i and j-1 to j\n",
    "    x ~ uniform(cell[1] - 1, cell[1])\n",
    "    y ~ uniform(cell[2] - 1, cell[2])\n",
    "    \n",
    "    return ([x, y], 0)\n",
    "end"
   ]
  },
  {
   "cell_type": "code",
   "execution_count": 6,
   "id": "079c3b8b-48cc-4212-ae81-820c3af3df04",
   "metadata": {},
   "outputs": [
    {
     "data": {
      "text/plain": [
       "handle_wall_intersection (generic function with 1 method)"
      ]
     },
     "execution_count": 6,
     "metadata": {},
     "output_type": "execute_result"
    }
   ],
   "source": [
    "function det_next_pos(pos, a, Δ)\n",
    "    (x, y) = pos\n",
    "    a == :up    ? [x, y + Δ] :\n",
    "    a == :down  ? [x, y - Δ] : \n",
    "    a == :left  ? [x - Δ, y] :\n",
    "    a == :right ? [x + Δ, y] :\n",
    "    a == :stay  ? [x, y]     :\n",
    "                error(\"Unrecognized action: $a\")\n",
    "end\n",
    "\n",
    "function handle_wall_intersection(prev, new, gridworld)\n",
    "    walls = GridWorlds.wall_segments(gridworld)\n",
    "    move = L.Segment(prev, new)\n",
    "    \n",
    "    min_collision_dist = Inf\n",
    "    vec_to_min_dist_collision = nothing\n",
    "    for i in 1:(size(walls)[1])\n",
    "        wall = walls[i, :]\n",
    "        # print(\"wall: $wall\")\n",
    "        do_intersect, dist = L.Geometry.cast(move, L.Segment(wall))\n",
    "\n",
    "        if do_intersect && dist ≤ L.Geometry.norm(move)\n",
    "            if dist < min_collision_dist\n",
    "                min_collision_dist = dist\n",
    "                vec_to_min_dist_collision = L.Geometry.diff(move)\n",
    "            end\n",
    "        end\n",
    "    end\n",
    "    \n",
    "    if !isnothing(vec_to_min_dist_collision)\n",
    "        dist = min_collision_dist\n",
    "        if dist < 0.05\n",
    "            return prev\n",
    "        else\n",
    "            normalized_vec = (vec_to_min_dist_collision / L.Geometry.norm(vec_to_min_dist_collision))\n",
    "            collision_pt = prev + (dist - 0.04) * normalized_vec\n",
    "            return collision_pt\n",
    "        end\n",
    "\n",
    "    end\n",
    "    \n",
    "    return new\n",
    "end"
   ]
  },
  {
   "cell_type": "code",
   "execution_count": 7,
   "id": "efcc51e8-203a-4d6b-8bfe-3eb6580aae73",
   "metadata": {},
   "outputs": [
    {
     "data": {
      "text/plain": [
       "var\"##StaticGenFunction_motion_model#348\"(Dict{Symbol, Any}(), Dict{Symbol, Any}())"
      ]
     },
     "execution_count": 7,
     "metadata": {},
     "output_type": "execute_result"
    }
   ],
   "source": [
    "@gen (static) function motion_model(state, action, t_to_params)\n",
    "    (pos, t_prev) = state\n",
    "    params = t_to_params(t)\n",
    "    w, σ = params.map, params.step.σ\n",
    "    \n",
    "    next_pos_det = det_next_pos(pos, action, params.step.Δ)\n",
    "    noisy_next_pos ~ broadcasted_normal(next_pos_det, params.step.σ)\n",
    "    next_pos = handle_wall_intersection(pos, noisy_next_pos, w)\n",
    "    \n",
    "    return (next_pos, t_prev + 1)\n",
    "end"
   ]
  },
  {
   "cell_type": "code",
   "execution_count": 8,
   "id": "0ce69a83-8fa6-4eca-af79-de37fc5a1d16",
   "metadata": {},
   "outputs": [
    {
     "data": {
      "text/plain": [
       "DynamicDSLFunction{Any}(Dict{Symbol, Any}(), Dict{Symbol, Any}(), Type[Any, Any], false, Union{Nothing, Some{Any}}[nothing, nothing], var\"##observe_noisy_distances#356\", Bool[0, 0], false)"
      ]
     },
     "execution_count": 8,
     "metadata": {},
     "output_type": "execute_result"
    }
   ],
   "source": [
    "@gen function observe_noisy_distances(state, t_to_params)\n",
    "    (pos, t) = state\n",
    "    params = t_to_params(t)\n",
    "    p = reshape([pos..., params.obs.orientation], (1, 3))\n",
    "    w, s_noise, outlier, outlier_vol, zmax = params.obs.sensor_args\n",
    "    _as = L.create_angles(params.obs.fov, params.obs.n_rays)\n",
    "    segs = GridWorlds.wall_segments(params.map)\n",
    "    # println(segs.shape)\n",
    "    zs = L.cast(p, segs; num_a=params.obs.n_rays, zmax)\n",
    "    # obs ~ L.sensordist_2dp3(sensor_args...)\n",
    "    obs ~ broadcasted_normal(zs, params.obs.sensor_args.σ)\n",
    "    return obs\n",
    "end"
   ]
  },
  {
   "cell_type": "code",
   "execution_count": 9,
   "id": "5837a12e-5eb7-46da-b4d4-e344f35e8fd9",
   "metadata": {
    "tags": []
   },
   "outputs": [
    {
     "data": {
      "text/plain": [
       "GenPOMDPs.GenPOMDP(var\"##StaticGenFunction_uniform_agent_pos#317\"(Dict{Symbol, Any}(), Dict{Symbol, Any}()), var\"##StaticGenFunction_motion_model#348\"(Dict{Symbol, Any}(), Dict{Symbol, Any}()), DynamicDSLFunction{Any}(Dict{Symbol, Any}(), Dict{Symbol, Any}(), Type[Any, Any], false, Union{Nothing, Some{Any}}[nothing, nothing], var\"##observe_noisy_distances#356\", Bool[0, 0], false), var\"#51#52\"())"
      ]
     },
     "execution_count": 9,
     "metadata": {},
     "output_type": "execute_result"
    }
   ],
   "source": [
    "# POMDP of this environment\n",
    "pomdp = GenPOMDPs.GenPOMDP(\n",
    "    uniform_agent_pos,       # INIT   : params                      ⇝ state\n",
    "    motion_model,            # STEP   : prev_state, actions, params ⇝ state\n",
    "    observe_noisy_distances, # OBS    : state, params               ⇝ observation\n",
    "    (state, action) -> 0.    # UTILITY: state, action, params       → utility\n",
    ")"
   ]
  },
  {
   "cell_type": "code",
   "execution_count": 10,
   "id": "204c2329-a938-4e58-aac0-c81737db7168",
   "metadata": {
    "tags": []
   },
   "outputs": [
    {
     "data": {
      "text/plain": [
       "GenPOMDPs.var\"##StaticGenFunction__ControlledTrajectoryModel#428\"(Dict{Symbol, Any}(), Dict{Symbol, Any}())"
      ]
     },
     "execution_count": 10,
     "metadata": {},
     "output_type": "execute_result"
    }
   ],
   "source": [
    "# Generative function over trajectories of the POMDP,\n",
    "# given a fixed action sequence.\n",
    "trajectory_model = GenPOMDPs.ControlledTrajectoryModel(pomdp)"
   ]
  },
  {
   "cell_type": "code",
   "execution_count": 79,
   "id": "12a7671c-410e-4012-9e5c-d008bf4196ae",
   "metadata": {
    "tags": []
   },
   "outputs": [],
   "source": [
    "function get_posobs_seq(groundtruth_trace)\n",
    "    return map(\n",
    "        trace -> (\n",
    "            [p for (p, t) in GenPOMDPs.state_sequence(trace)],\n",
    "            [reshape(o, (:,)) for o in GenPOMDPs.observation_retval_sequence(trace)]\n",
    "        ),\n",
    "        groundtruth_trace\n",
    "    )\n",
    "end\n",
    "function get_obs_seq(groundtruth_trace)\n",
    "    return map(\n",
    "        trace -> [reshape(o, (:,)) for o in GenPOMDPs.observation_retval_sequence(trace)],\n",
    "        groundtruth_trace\n",
    "    )\n",
    "end\n",
    "\n",
    "using Dates\n",
    "\n",
    "function get_save_tr(tr)\n",
    "    function save_tr(viz_actions)\n",
    "        filename = \"saves/\" * string(now()) * \"__pomdp_trace.jld\"\n",
    "        Utils.serialize_trace_and_viz_actions(filename, tr[];\n",
    "            viz_actions=viz_actions\n",
    "            # args_to_serializeable = args -> (args[1:2]..., args[3].params)\n",
    "        )\n",
    "    end\n",
    "    return save_tr\n",
    "end\n",
    "\n",
    "struct ConstantTToParams\n",
    "    params\n",
    "end\n",
    "(p::ConstantTToParams)(t) = p.params\n",
    "\n",
    "struct SwitchTToParams\n",
    "    params1\n",
    "    params2\n",
    "    switch\n",
    "end\n",
    "(p::SwitchTToParams)(t::Makie.Observable) = p(t[])\n",
    "(p::SwitchTToParams)(t) = p.switch(t) ? p.params1 : p.params2"
   ]
  },
  {
   "cell_type": "code",
   "execution_count": 135,
   "id": "503d089d-b461-4115-9b73-f726dafe279a",
   "metadata": {
    "tags": []
   },
   "outputs": [],
   "source": [
    "# 1, 18\n",
    "DO_CUSTOM_MAP = false\n",
    "\n",
    "if !DO_CUSTOM_MAP\n",
    "    # i = uniform_discrete(1, 20)\n",
    "    i = 18\n",
    "    mp = GridWorlds.load_houseexpo_gridworld(48, i)\n",
    "else\n",
    "    mp = GridWorlds.load_custom_map(2)\n",
    "end\n",
    "_PARAMS_CLEAN = (;\n",
    "    map = mp,\n",
    "    step = (; Δ = .5, σ = 0.005,),\n",
    "        #0.5 * 120/24, σ = 0.005 ), # step model arguments\n",
    "    obs = (; fov = 2π, n_rays = 40,  # obs model arguments\n",
    "        orientation=π/2,\n",
    "        sensor_args = (;\n",
    "            w = 5, s_noise = 0.02,\n",
    "            outlier = 0.0001, outlier_vol = 100.0,\n",
    "            zmax = 100.0, σ=0.005\n",
    ")));\n",
    "\n",
    "\n",
    "_PARAMS_NOISY = (;\n",
    "    map = mp,\n",
    "    step = (; Δ = .5, σ = 0.35,),\n",
    "        #0.5 * 120/24, σ = 0.005 ), # step model arguments\n",
    "    obs = (; fov = 2π, n_rays = 40,  # obs model arguments\n",
    "        orientation=π/2,\n",
    "        sensor_args = (;\n",
    "            w = 5, s_noise = 0.02,\n",
    "            outlier = 0.0001, outlier_vol = 100.0,\n",
    "            zmax = 100.0, σ=0.5\n",
    ")));\n",
    "\n",
    "T_TO_PARAMS = SwitchTToParams(_PARAMS_CLEAN, _PARAMS_NOISY, t -> false) #t < 50 || t > 150)\n",
    "T_TO_PARAMS(0);"
   ]
  },
  {
   "cell_type": "code",
   "execution_count": 136,
   "id": "9321f581-3f9d-404a-8689-0f7f279596c0",
   "metadata": {
    "tags": []
   },
   "outputs": [],
   "source": [
    "if DO_CUSTOM_MAP\n",
    "    world_trace, take_action = GenPOMDPs.interactive_world_trace(\n",
    "        trajectory_model, T_TO_PARAMS,\n",
    "        choicemap((GenPOMDPs.state_addr(0, :cell), (30, 5)))  \n",
    "    );\n",
    "else\n",
    "    world_trace, take_action = GenPOMDPs.interactive_world_trace(\n",
    "        trajectory_model, T_TO_PARAMS,\n",
    "        choicemap((GenPOMDPs.state_addr(0, :cell), (20, 3)))  \n",
    "    );\n",
    "end;"
   ]
  },
  {
   "cell_type": "markdown",
   "id": "260ea4cb",
   "metadata": {},
   "source": [
    "### Viz w/ Map + Rays"
   ]
  },
  {
   "cell_type": "code",
   "execution_count": 137,
   "id": "6928fdaa-6f1c-41ae-b287-6b1c66913a8d",
   "metadata": {
    "tags": []
   },
   "outputs": [
    {
     "data": {
      "text/plain": [
       "GLMakie.Screen(...)"
      ]
     },
     "execution_count": 137,
     "metadata": {},
     "output_type": "execute_result"
    }
   ],
   "source": [
    "(f, t, actions) = GridWorlds.Viz.interactive_gui(\n",
    "    T_TO_PARAMS(0).map, get_posobs_seq(world_trace), take_action,\n",
    "    save_fn=get_save_tr(world_trace),\n",
    "    show_lines_to_walls=true,\n",
    "    framerate=8\n",
    ")\n",
    "display(f)"
   ]
  },
  {
   "cell_type": "markdown",
   "id": "f34e94a6",
   "metadata": {},
   "source": [
    "### Viz w/ Map"
   ]
  },
  {
   "cell_type": "code",
   "execution_count": 133,
   "id": "31143f7c-4f46-4aa9-a409-63fcf112224d",
   "metadata": {
    "tags": []
   },
   "outputs": [
    {
     "data": {
      "text/plain": [
       "GLMakie.Screen(...)"
      ]
     },
     "execution_count": 133,
     "metadata": {},
     "output_type": "execute_result"
    }
   ],
   "source": [
    "(f, t, actions) = GridWorlds.Viz.interactive_gui(\n",
    "    T_TO_PARAMS(0).map, get_posobs_seq(world_trace), take_action,\n",
    "    save_fn=get_save_tr(world_trace),\n",
    "    show_lines_to_walls=false,\n",
    "    framerate=8\n",
    ")\n",
    "display(f)"
   ]
  },
  {
   "cell_type": "markdown",
   "id": "869c277b",
   "metadata": {},
   "source": [
    "### Agent view"
   ]
  },
  {
   "cell_type": "code",
   "execution_count": 138,
   "id": "82e17666-8874-4c0e-abea-338c63a99a91",
   "metadata": {
    "tags": []
   },
   "outputs": [
    {
     "data": {
      "text/plain": [
       "GLMakie.Screen(...)"
      ]
     },
     "execution_count": 138,
     "metadata": {},
     "output_type": "execute_result"
    }
   ],
   "source": [
    "(f, t, actions) = GridWorlds.Viz.play_as_agent_gui(\n",
    "    get_obs_seq(world_trace),\n",
    "    take_action,\n",
    "    show_lines_to_walls=false,\n",
    "    save_fn=get_save_tr(world_trace),\n",
    "    framerate=8\n",
    ")\n",
    "display(f)"
   ]
  },
  {
   "cell_type": "code",
   "execution_count": null,
   "id": "4eac53fd",
   "metadata": {},
   "outputs": [],
   "source": [
    "# Save actions\n",
    "filename = \"saves/\" * string(now()) * \"__actions.jld\"\n",
    "Serialization.serialize_actions(filename, actions)"
   ]
  },
  {
   "cell_type": "markdown",
   "id": "9f7788c7",
   "metadata": {},
   "source": [
    "## Load saved trace"
   ]
  },
  {
   "cell_type": "code",
   "execution_count": 76,
   "id": "d7eaab38",
   "metadata": {},
   "outputs": [
    {
     "data": {
      "text/plain": [
       "false"
      ]
     },
     "execution_count": 76,
     "metadata": {},
     "output_type": "execute_result"
    }
   ],
   "source": [
    "_noise_enabled = false"
   ]
  },
  {
   "cell_type": "code",
   "execution_count": 141,
   "id": "665b91b1-9622-41ed-b963-3bee730df746",
   "metadata": {},
   "outputs": [
    {
     "data": {
      "text/plain": [
       "GLMakie.Screen(...)"
      ]
     },
     "execution_count": 141,
     "metadata": {},
     "output_type": "execute_result"
    }
   ],
   "source": [
    "tr2, viz_actions = Utils.deserialize_trace_and_viz_actions(\n",
    "    # \"saves/2023-12-12T15:51:18.757__pomdp_trace.jld\",\n",
    "    # \"saves/2023-12-12T16:47:41.689__pomdp_trace.jld\",\n",
    "    # \"saves/2023-12-12T17:07:55.823__pomdp_trace.jld\",\n",
    "    # \"saves/2023-12-12T17:10:15.804__pomdp_trace.jld\",\n",
    "    # \"saves/2023-12-12T17:45:51.846__pomdp_trace.jld\",\n",
    "    # \"saves/2023-12-12T20:21:58.518__pomdp_trace.jld\",\n",
    "    # \"saves/2023-12-12T20:23:53.018__pomdp_trace.jld\",\n",
    "    # \"saves/2023-12-12T20:25:10.383__pomdp_trace.jld\",\n",
    "    # \"saves/2023-12-12T20:44:22.276__pomdp_trace.jld\",\n",
    "    # \"saves/2023-12-12T20:49:13.392__pomdp_trace.jld\",\n",
    "    # \"saves/2023-12-12T20:49:13.392__pomdp_trace.jld\",\n",
    "    # \"saves/2023-12-12T20:52:10.206__pomdp_trace.jld\",\n",
    "    # \"saves/2023-12-12T21:02:18.894__pomdp_trace.jld\",\n",
    "    # \"saves/2023-12-12T21:00:33.101__pomdp_trace.jld\",\n",
    "    # \"saves/2023-12-12T20:49:13.392__pomdp_trace.jld\",\n",
    "    \"saves/2023-12-12T20:52:10.206__pomdp_trace.jld\",\n",
    "\n",
    "    # clean version - saves/2023-12-12T20:52:10.206__pomdp_trace.jld\n",
    "    # noisy version - saves/2023-12-12T20:49:13.392__pomdp_trace.jld\n",
    "\n",
    "    # map 18 - clean - saves/2023-12-12T21:00:33.101__pomdp_trace.jld\n",
    "    # map 18 - noisy - saves/2023-12-12T21:02:18.894__pomdp_trace.jld\n",
    "    trajectory_model,\n",
    "    args_from_serializeable=(args -> (\n",
    "            args[1:2]...,\n",
    "            SwitchTToParams(_PARAMS_CLEAN, _PARAMS_NOISY, t -> t < 60 || !_noise_enabled)\n",
    "        ))\n",
    "    );\n",
    "trace2, take_action2 = GenPOMDPs.make_trace_interactive(tr2);\n",
    "\n",
    "(f, t, _replay_actions) = GridWorlds.Viz.play_as_agent_gui(\n",
    "    get_obs_seq(trace2),\n",
    "    take_action2,\n",
    "    show_lines_to_walls=false,\n",
    "    save_fn=get_save_tr(trace2),\n",
    "    framerate=8\n",
    ")\n",
    "display(f)"
   ]
  },
  {
   "cell_type": "code",
   "execution_count": 122,
   "id": "07e1a2ae",
   "metadata": {},
   "outputs": [
    {
     "data": {
      "text/plain": [
       "7-element Vector{Any}:\n",
       " (:animate_from_zero, 0)\n",
       " (:pause, 8)\n",
       " (:resume, 8)\n",
       " (:pause, 69)\n",
       " (:resume, 69)\n",
       " (:pause, 119)\n",
       " (:resume, 119)"
      ]
     },
     "execution_count": 122,
     "metadata": {},
     "output_type": "execute_result"
    }
   ],
   "source": [
    "_replay_actions"
   ]
  },
  {
   "cell_type": "markdown",
   "id": "439bb29c",
   "metadata": {},
   "source": [
    "### Saved trace on visible map"
   ]
  },
  {
   "cell_type": "code",
   "execution_count": null,
   "id": "80313680-f3d7-490c-ae38-52f453957de7",
   "metadata": {},
   "outputs": [],
   "source": [
    "(f, t) = GridWorlds.Viz.interactive_gui(\n",
    "    get_args(trace2[])[3](0).map, get_posobs_seq(trace2), take_action2,\n",
    "    save_fn=get_save_tr(trace2),\n",
    "    framerate=8\n",
    ")\n",
    "display(f)"
   ]
  }
 ],
 "metadata": {
  "kernelspec": {
   "display_name": "Julia 1.9.4",
   "language": "julia",
   "name": "julia-1.9"
  },
  "language_info": {
   "file_extension": ".jl",
   "mimetype": "application/julia",
   "name": "julia",
   "version": "1.9.4"
  }
 },
 "nbformat": 4,
 "nbformat_minor": 5
}
