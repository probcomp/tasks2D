{
 "cells": [
  {
   "cell_type": "code",
   "execution_count": 1,
   "id": "492e53e5-cb13-4af6-9690-759b95a8b5e3",
   "metadata": {
    "tags": []
   },
   "outputs": [
    {
     "name": "stderr",
     "output_type": "stream",
     "text": [
      "\u001b[32m\u001b[1m  Activating\u001b[22m\u001b[39m project at `~/Developer/research/fall2023/cocosci/tasks2D/Tasks2D`\n"
     ]
    }
   ],
   "source": [
    "# Load the Julia environment needed for this notebook\n",
    "import Pkg\n",
    "Pkg.activate(\"../Tasks2D\")"
   ]
  },
  {
   "cell_type": "code",
   "execution_count": 2,
   "id": "0e512ae8-ea79-4857-8610-e960f93ad6e3",
   "metadata": {
    "tags": []
   },
   "outputs": [],
   "source": [
    "import Makie   # Visualization Library\n",
    "using Revise      # For development; makes it so modifications\n",
    "                  # to imported modules are immediately reflected in this Julia session\n",
    "using Gen         # Gen probabilistic programming library\n",
    "import GenParticleFilters # Additional particle filtering functionality for Gen\n",
    "import GridWorlds # Simple gridworld functionality\n",
    "import LineWorlds\n",
    "const L = LineWorlds\n",
    "import LineWorlds: cast # Ray caster\n",
    "import GenPOMDPs  # Beginnings of a Gen POMDP library\n",
    "\n",
    "import Tasks2D\n",
    "\n",
    "includet(\"SLAM/Utils.jl\")"
   ]
  },
  {
   "cell_type": "code",
   "execution_count": 105,
   "id": "5c0fea3a-5748-479d-a252-85de2bbcb9c7",
   "metadata": {
    "tags": []
   },
   "outputs": [],
   "source": [
    "includet(\"SLAM/Utils.jl\")"
   ]
  },
  {
   "cell_type": "code",
   "execution_count": 3,
   "id": "313c14b7-1f1d-4698-b01c-eec1933bb749",
   "metadata": {
    "tags": []
   },
   "outputs": [],
   "source": [
    "import GLMakie\n",
    "GLMakie.activate!()"
   ]
  },
  {
   "cell_type": "code",
   "execution_count": 4,
   "id": "2a9f0278-b761-4322-ad3f-3d415bec205c",
   "metadata": {},
   "outputs": [
    {
     "data": {
      "text/plain": [
       "var\"##StaticGenFunction_uniform_agent_pos#317\"(Dict{Symbol, Any}(), Dict{Symbol, Any}())"
      ]
     },
     "execution_count": 4,
     "metadata": {},
     "output_type": "execute_result"
    }
   ],
   "source": [
    "# Initial position model\n",
    "\n",
    "# Distribution to sample uniformly from a Julia Set\n",
    "using Tasks2D.Distributions: uniform_from_set\n",
    "\n",
    "@gen (static) function uniform_agent_pos(t_to_params)\n",
    "    w = t_to_params(0).map # a map, represented as a GridWorlds.GridWorld\n",
    "    \n",
    "    cell ~ uniform_from_set(GridWorlds.empty_cells(w))\n",
    "    \n",
    "    # Cell (i, j) corresponds to the region from i-1 to i and j-1 to j\n",
    "    x ~ uniform(cell[1] - 1, cell[1])\n",
    "    y ~ uniform(cell[2] - 1, cell[2])\n",
    "    \n",
    "    return ([x, y], 0)\n",
    "end"
   ]
  },
  {
   "cell_type": "code",
   "execution_count": 5,
   "id": "079c3b8b-48cc-4212-ae81-820c3af3df04",
   "metadata": {},
   "outputs": [
    {
     "data": {
      "text/plain": [
       "handle_wall_intersection (generic function with 1 method)"
      ]
     },
     "execution_count": 5,
     "metadata": {},
     "output_type": "execute_result"
    }
   ],
   "source": [
    "function det_next_pos(pos, a, Δ)\n",
    "    (x, y) = pos\n",
    "    a == :up    ? [x, y + Δ] :\n",
    "    a == :down  ? [x, y - Δ] : \n",
    "    a == :left  ? [x - Δ, y] :\n",
    "    a == :right ? [x + Δ, y] :\n",
    "    a == :stay  ? [x, y]     :\n",
    "                error(\"Unrecognized action: $a\")\n",
    "end\n",
    "\n",
    "function handle_wall_intersection(prev, new, gridworld)\n",
    "    walls = GridWorlds.wall_segments(gridworld)\n",
    "    move = L.Segment(prev, new)\n",
    "    \n",
    "    min_collision_dist = Inf\n",
    "    vec_to_min_dist_collision = nothing\n",
    "    for i in 1:(size(walls)[1])\n",
    "        wall = walls[i, :]\n",
    "        # print(\"wall: $wall\")\n",
    "        do_intersect, dist = L.Geometry.cast(move, L.Segment(wall))\n",
    "\n",
    "        if do_intersect && dist ≤ L.Geometry.norm(move)\n",
    "            if dist < min_collision_dist\n",
    "                min_collision_dist = dist\n",
    "                vec_to_min_dist_collision = L.Geometry.diff(move)\n",
    "            end\n",
    "        end\n",
    "    end\n",
    "    \n",
    "    if !isnothing(vec_to_min_dist_collision)\n",
    "        dist = min_collision_dist\n",
    "        if dist < 0.05\n",
    "            return prev\n",
    "        else\n",
    "            normalized_vec = (vec_to_min_dist_collision / L.Geometry.norm(vec_to_min_dist_collision))\n",
    "            collision_pt = prev + (dist - 0.04) * normalized_vec\n",
    "            return collision_pt\n",
    "        end\n",
    "\n",
    "    end\n",
    "    \n",
    "    return new\n",
    "end"
   ]
  },
  {
   "cell_type": "code",
   "execution_count": 6,
   "id": "efcc51e8-203a-4d6b-8bfe-3eb6580aae73",
   "metadata": {},
   "outputs": [
    {
     "data": {
      "text/plain": [
       "var\"##StaticGenFunction_motion_model#348\"(Dict{Symbol, Any}(), Dict{Symbol, Any}())"
      ]
     },
     "execution_count": 6,
     "metadata": {},
     "output_type": "execute_result"
    }
   ],
   "source": [
    "@gen (static) function motion_model(state, action, t_to_params)\n",
    "    (pos, t_prev) = state\n",
    "    params = t_to_params(t)\n",
    "    w, σ = params.map, params.step.σ\n",
    "    \n",
    "    next_pos_det = det_next_pos(pos, action, params.step.Δ)\n",
    "    noisy_next_pos ~ broadcasted_normal(next_pos_det, params.step.σ)\n",
    "    next_pos = handle_wall_intersection(pos, noisy_next_pos, w)\n",
    "    \n",
    "    return (next_pos, t_prev + 1)\n",
    "end"
   ]
  },
  {
   "cell_type": "code",
   "execution_count": 7,
   "id": "0ce69a83-8fa6-4eca-af79-de37fc5a1d16",
   "metadata": {},
   "outputs": [
    {
     "data": {
      "text/plain": [
       "DynamicDSLFunction{Any}(Dict{Symbol, Any}(), Dict{Symbol, Any}(), Type[Any, Any], false, Union{Nothing, Some{Any}}[nothing, nothing], var\"##observe_noisy_distances#356\", Bool[0, 0], false)"
      ]
     },
     "execution_count": 7,
     "metadata": {},
     "output_type": "execute_result"
    }
   ],
   "source": [
    "@gen function observe_noisy_distances(state, t_to_params)\n",
    "    (pos, t) = state\n",
    "    params = t_to_params(t)\n",
    "    p = reshape([pos..., params.obs.orientation], (1, 3))\n",
    "    w, s_noise, outlier, outlier_vol, zmax = params.obs.sensor_args\n",
    "    _as = L.create_angles(params.obs.fov, params.obs.n_rays)\n",
    "    segs = GridWorlds.wall_segments(params.map)\n",
    "    # println(segs.shape)\n",
    "    zs = L.cast(p, segs; num_a=params.obs.n_rays, zmax)\n",
    "    # obs ~ L.sensordist_2dp3(sensor_args...)\n",
    "    obs ~ broadcasted_normal(zs, params.obs.sensor_args.σ)\n",
    "    return obs\n",
    "end"
   ]
  },
  {
   "cell_type": "code",
   "execution_count": 8,
   "id": "5837a12e-5eb7-46da-b4d4-e344f35e8fd9",
   "metadata": {
    "tags": []
   },
   "outputs": [
    {
     "data": {
      "text/plain": [
       "GenPOMDPs.GenPOMDP(var\"##StaticGenFunction_uniform_agent_pos#317\"(Dict{Symbol, Any}(), Dict{Symbol, Any}()), var\"##StaticGenFunction_motion_model#348\"(Dict{Symbol, Any}(), Dict{Symbol, Any}()), DynamicDSLFunction{Any}(Dict{Symbol, Any}(), Dict{Symbol, Any}(), Type[Any, Any], false, Union{Nothing, Some{Any}}[nothing, nothing], var\"##observe_noisy_distances#356\", Bool[0, 0], false), var\"#51#52\"())"
      ]
     },
     "execution_count": 8,
     "metadata": {},
     "output_type": "execute_result"
    }
   ],
   "source": [
    "# POMDP of this environment\n",
    "pomdp = GenPOMDPs.GenPOMDP(\n",
    "    uniform_agent_pos,       # INIT   : params                      ⇝ state\n",
    "    motion_model,            # STEP   : prev_state, actions, params ⇝ state\n",
    "    observe_noisy_distances, # OBS    : state, params               ⇝ observation\n",
    "    (state, action) -> 0.    # UTILITY: state, action, params       → utility\n",
    ")"
   ]
  },
  {
   "cell_type": "code",
   "execution_count": 9,
   "id": "204c2329-a938-4e58-aac0-c81737db7168",
   "metadata": {
    "tags": []
   },
   "outputs": [
    {
     "data": {
      "text/plain": [
       "GenPOMDPs.var\"##StaticGenFunction__ControlledTrajectoryModel#428\"(Dict{Symbol, Any}(), Dict{Symbol, Any}())"
      ]
     },
     "execution_count": 9,
     "metadata": {},
     "output_type": "execute_result"
    }
   ],
   "source": [
    "# Generative function over trajectories of the POMDP,\n",
    "# given a fixed action sequence.\n",
    "trajectory_model = GenPOMDPs.ControlledTrajectoryModel(pomdp)"
   ]
  },
  {
   "cell_type": "code",
   "execution_count": null,
   "id": "384b43ed-9b0e-4f11-bf10-8206bb15078b",
   "metadata": {},
   "outputs": [],
   "source": []
  },
  {
   "cell_type": "code",
   "execution_count": 31,
   "id": "61712fbf-28ae-4b69-a222-3ba82278e6fc",
   "metadata": {
    "tags": []
   },
   "outputs": [],
   "source": []
  },
  {
   "cell_type": "code",
   "execution_count": 32,
   "id": "12a7671c-410e-4012-9e5c-d008bf4196ae",
   "metadata": {
    "tags": []
   },
   "outputs": [
    {
     "data": {
      "text/plain": [
       "get_obs_seq (generic function with 1 method)"
      ]
     },
     "execution_count": 32,
     "metadata": {},
     "output_type": "execute_result"
    }
   ],
   "source": [
    "function get_posobs_seq(groundtruth_trace)\n",
    "    return map(\n",
    "        trace -> (\n",
    "            [p for (p, t) in GenPOMDPs.state_sequence(trace)],\n",
    "            [reshape(o, (:,)) for o in GenPOMDPs.observation_retval_sequence(trace)]\n",
    "        ),\n",
    "        groundtruth_trace\n",
    "    )\n",
    "end\n",
    "function get_obs_seq(groundtruth_trace)\n",
    "    return map(\n",
    "        trace -> [reshape(o, (:,)) for o in GenPOMDPs.observation_retval_sequence(trace)],\n",
    "        groundtruth_trace\n",
    "    )\n",
    "end"
   ]
  },
  {
   "cell_type": "code",
   "execution_count": 20,
   "id": "ddc8e0a5-92ae-454f-a56f-cf25f43da03f",
   "metadata": {
    "tags": []
   },
   "outputs": [
    {
     "data": {
      "text/plain": [
       "get_save_tr (generic function with 1 method)"
      ]
     },
     "execution_count": 20,
     "metadata": {},
     "output_type": "execute_result"
    }
   ],
   "source": [
    "using Dates\n",
    "\n",
    "function get_save_tr(tr)\n",
    "    function save_tr()\n",
    "        filename = \"saves/\" * string(now()) * \"__pomdp_trace.jld\"\n",
    "        Utils.serialize_pomdp_trace(filename, tr[];\n",
    "            # args_to_serializeable = args -> (args[1:2]..., args[3].params)\n",
    "        )\n",
    "    end\n",
    "    return save_tr\n",
    "end"
   ]
  },
  {
   "cell_type": "code",
   "execution_count": 13,
   "id": "e29ebb4d-3380-40bf-b438-02bb87dc4b4f",
   "metadata": {
    "tags": []
   },
   "outputs": [
    {
     "data": {
      "text/html": [
       "# 1 method for generic function <b>serialize_pomdp_trace</b> from \u001b[35mMain.Utils\u001b[39m:<ul><li> serialize_pomdp_trace(filename, trace; <i>args_to_serializable</i>) in Main.Utils at <a href=\"https://github.com/probcomp/tasks2D/tree/b041540c14f12de0cc4ebb3c47afc5ee9ee12bdc//notebooks_messy/SLAM/Utils.jl#L12\" target=\"_blank\">/Users/georgematheos/Developer/research/fall2023/cocosci/tasks2D/notebooks_messy/SLAM/Utils.jl:12</a></li> </ul>"
      ],
      "text/plain": [
       "# 1 method for generic function \"serialize_pomdp_trace\" from \u001b[35mMain.Utils\u001b[39m:\n",
       " [1] serialize_pomdp_trace(\u001b[90mfilename\u001b[39m, \u001b[90mtrace\u001b[39m; args_to_serializable)\n",
       "\u001b[90m     @\u001b[39m \u001b[90m~/Developer/research/fall2023/cocosci/tasks2D/notebooks_messy/SLAM/\u001b[39m\u001b[90m\u001b[4mUtils.jl:12\u001b[24m\u001b[39m"
      ]
     },
     "execution_count": 13,
     "metadata": {},
     "output_type": "execute_result"
    }
   ],
   "source": [
    "methods(Utils.serialize_pomdp_trace)"
   ]
  },
  {
   "cell_type": "code",
   "execution_count": 261,
   "id": "d760d779-4420-4733-a571-e1088f3a22ac",
   "metadata": {
    "tags": []
   },
   "outputs": [],
   "source": [
    "struct ConstantTToParams\n",
    "    params\n",
    "end\n",
    "(p::ConstantTToParams)(t) = p.params"
   ]
  },
  {
   "cell_type": "code",
   "execution_count": 283,
   "id": "b3f357a0-fb41-48e4-be7b-160fa53c3707",
   "metadata": {
    "tags": []
   },
   "outputs": [],
   "source": [
    "struct SwitchTToParams\n",
    "    params1\n",
    "    params2\n",
    "    switch\n",
    "end\n",
    "(p::SwitchTToParams)(t::Makie.Observable) = p(t[])\n",
    "(p::SwitchTToParams)(t) = p.switch(t) ? p.params1 : p.params2"
   ]
  },
  {
   "cell_type": "code",
   "execution_count": 353,
   "id": "503d089d-b461-4115-9b73-f726dafe279a",
   "metadata": {
    "tags": []
   },
   "outputs": [],
   "source": [
    "# 1, 18\n",
    "DO_CUSTOM_MAP = true\n",
    "\n",
    "if !DO_CUSTOM_MAP\n",
    "    i = uniform_discrete(1, 20)\n",
    "    mp = GridWorlds.load_houseexpo_gridworld(24, i)\n",
    "else\n",
    "    mp = GridWorlds.load_custom_map(2)\n",
    "end\n",
    "_PARAMS_CLEAN = (;\n",
    "    map = mp,\n",
    "    step = (; Δ = .5, σ = 0.005,),\n",
    "        #0.5 * 120/24, σ = 0.005 ), # step model arguments\n",
    "    obs = (; fov = 2π, n_rays = 40,  # obs model arguments\n",
    "        orientation=π/2,\n",
    "        sensor_args = (;\n",
    "            w = 5, s_noise = 0.02,\n",
    "            outlier = 0.0001, outlier_vol = 100.0,\n",
    "            zmax = 100.0, σ=0.005\n",
    ")));\n",
    "\n",
    "\n",
    "_PARAMS_NOISY = (;\n",
    "    map = mp,\n",
    "    step = (; Δ = .5, σ = 0.35,),\n",
    "        #0.5 * 120/24, σ = 0.005 ), # step model arguments\n",
    "    obs = (; fov = 2π, n_rays = 40,  # obs model arguments\n",
    "        orientation=π/2,\n",
    "        sensor_args = (;\n",
    "            w = 5, s_noise = 0.02,\n",
    "            outlier = 0.0001, outlier_vol = 100.0,\n",
    "            zmax = 100.0, σ=0.5\n",
    ")));\n",
    "\n",
    "T_TO_PARAMS = SwitchTToParams(_PARAMS_CLEAN, _PARAMS_NOISY, t -> t < 60) #t < 50 || t > 150)\n",
    "T_TO_PARAMS(0);"
   ]
  },
  {
   "cell_type": "code",
   "execution_count": 354,
   "id": "9321f581-3f9d-404a-8689-0f7f279596c0",
   "metadata": {
    "tags": []
   },
   "outputs": [],
   "source": [
    "if DO_CUSTOM_MAP\n",
    "    world_trace, take_action = GenPOMDPs.interactive_world_trace(\n",
    "        trajectory_model, T_TO_PARAMS,\n",
    "        choicemap((GenPOMDPs.state_addr(0, :cell), (30, 5)))  \n",
    "    );\n",
    "else\n",
    "    world_trace, take_action = GenPOMDPs.interactive_world_trace(\n",
    "        trajectory_model, T_TO_PARAMS,\n",
    "    );\n",
    "end;"
   ]
  },
  {
   "cell_type": "code",
   "execution_count": 355,
   "id": "6928fdaa-6f1c-41ae-b287-6b1c66913a8d",
   "metadata": {
    "tags": []
   },
   "outputs": [
    {
     "data": {
      "text/plain": [
       "GLMakie.Screen(...)"
      ]
     },
     "execution_count": 355,
     "metadata": {},
     "output_type": "execute_result"
    }
   ],
   "source": [
    "(f, t) = GridWorlds.Viz.interactive_gui(\n",
    "    T_TO_PARAMS(0).map, get_posobs_seq(world_trace), take_action,\n",
    "    save_fn=get_save_tr(world_trace),\n",
    "    show_lines_to_walls=true\n",
    ")\n",
    "display(f)"
   ]
  },
  {
   "cell_type": "code",
   "execution_count": 146,
   "id": "d780800c-4e55-40df-ad82-16e46a3408bc",
   "metadata": {
    "tags": []
   },
   "outputs": [],
   "source": [
    "# i = "
   ]
  },
  {
   "cell_type": "code",
   "execution_count": 338,
   "id": "31143f7c-4f46-4aa9-a409-63fcf112224d",
   "metadata": {
    "tags": []
   },
   "outputs": [
    {
     "data": {
      "text/plain": [
       "GLMakie.Screen(...)"
      ]
     },
     "execution_count": 338,
     "metadata": {},
     "output_type": "execute_result"
    }
   ],
   "source": [
    "(f, t) = GridWorlds.Viz.interactive_gui(\n",
    "    T_TO_PARAMS(0).map, get_posobs_seq(world_trace), take_action,\n",
    "    save_fn=get_save_tr(world_trace),\n",
    "    show_lines_to_walls=false\n",
    ")\n",
    "display(f)"
   ]
  },
  {
   "cell_type": "code",
   "execution_count": 356,
   "id": "82e17666-8874-4c0e-abea-338c63a99a91",
   "metadata": {
    "tags": []
   },
   "outputs": [
    {
     "data": {
      "text/plain": [
       "GLMakie.Screen(...)"
      ]
     },
     "execution_count": 356,
     "metadata": {},
     "output_type": "execute_result"
    }
   ],
   "source": [
    "(f, t) = GridWorlds.Viz.play_as_agent_gui(\n",
    "    get_obs_seq(world_trace),\n",
    "    take_action,\n",
    "    show_lines_to_walls=false,\n",
    "    save_fn=get_save_tr(world_trace),\n",
    "    framerate=8\n",
    ")\n",
    "display(f)"
   ]
  },
  {
   "cell_type": "code",
   "execution_count": 255,
   "id": "580526c3-8882-4ac5-bf80-5b6284041934",
   "metadata": {},
   "outputs": [
    {
     "data": {
      "text/plain": [
       "GLMakie.Screen(...)"
      ]
     },
     "execution_count": 255,
     "metadata": {},
     "output_type": "execute_result"
    }
   ],
   "source": [
    "# Interactive GUI with visible walls\n",
    "(f, t) = GridWorlds.Viz.interactive_gui(\n",
    "    T_TO_PARAMS(0).map, get_posobs_seq(world_trace), take_action,\n",
    "    save_fn=get_save_tr(world_trace)\n",
    ")\n",
    "display(f)"
   ]
  },
  {
   "cell_type": "code",
   "execution_count": 357,
   "id": "665b91b1-9622-41ed-b963-3bee730df746",
   "metadata": {},
   "outputs": [
    {
     "data": {
      "text/plain": [
       "GLMakie.Screen(...)"
      ]
     },
     "execution_count": 357,
     "metadata": {},
     "output_type": "execute_result"
    },
    {
     "name": "stdout",
     "output_type": "stream",
     "text": [
      "[Animating]\n"
     ]
    }
   ],
   "source": [
    "tr2 = Utils.deserialize_pomdp_trace(\n",
    "    # \"saves/2023-12-12T15:51:18.757__pomdp_trace.jld\",\n",
    "    # \"saves/2023-12-12T16:47:41.689__pomdp_trace.jld\",\n",
    "    # \"saves/2023-12-12T17:07:55.823__pomdp_trace.jld\",\n",
    "    # \"saves/2023-12-12T17:10:15.804__pomdp_trace.jld\",\n",
    "    \"saves/2023-12-12T17:45:51.846__pomdp_trace.jld\",\n",
    "    trajectory_model,\n",
    "    args_from_serializeable=(args -> (\n",
    "            args[1:2]...,\n",
    "            SwitchTToParams(_PARAMS_CLEAN, _PARAMS_NOISY, t -> t < 60 || t > 325)\n",
    "        ))\n",
    "    );\n",
    "trace2, take_action2 = GenPOMDPs.make_trace_interactive(tr2);\n",
    "\n",
    "# (f, t) = GridWorlds.Viz.interactive_gui(\n",
    "#     get_args(trace2[])[3](0).map, get_posobs_seq(trace2), take_action2,\n",
    "#     save_fn=get_save_tr(trace2),\n",
    "#     framerate=8\n",
    "# )\n",
    "(f, t) = GridWorlds.Viz.play_as_agent_gui(\n",
    "    get_obs_seq(trace2),\n",
    "    take_action2,\n",
    "    show_lines_to_walls=false,\n",
    "    save_fn=get_save_tr(trace2),\n",
    "    framerate=8\n",
    ")\n",
    "display(f)\n",
    "# trace2, take_action2 = GenPOMDPs.make_trace_interactive(tr2);"
   ]
  },
  {
   "cell_type": "code",
   "execution_count": 21,
   "id": "809b2905-9c04-429e-99bd-ce5b1e0eb4c8",
   "metadata": {
    "tags": []
   },
   "outputs": [
    {
     "data": {
      "text/plain": [
       "(71, Any[:left, :left, :left, :left, :left, :right, :right, :right, :right, :right  …  :down, :down, :right, :down, :down, :down, :down, :down, :down, :down], T_TO_PARAMS)"
      ]
     },
     "execution_count": 21,
     "metadata": {},
     "output_type": "execute_result"
    }
   ],
   "source": [
    "get_args(trace2[])"
   ]
  },
  {
   "cell_type": "code",
   "execution_count": 28,
   "id": "a6b0a894-f763-4d13-94d5-6f476d6bc9e9",
   "metadata": {
    "tags": []
   },
   "outputs": [],
   "source": [
    "# T_TO_PARAMS(0).map :: GridWorlds.GridWorld"
   ]
  },
  {
   "cell_type": "code",
   "execution_count": 38,
   "id": "3ce2c7ee-3b1d-4dd6-be78-56fba283096b",
   "metadata": {},
   "outputs": [
    {
     "data": {
      "text/plain": [
       "false"
      ]
     },
     "execution_count": 38,
     "metadata": {},
     "output_type": "execute_result"
    }
   ],
   "source": [
    "T_TO_PARAMS(0).map==get_args(trace2[])[3](0).map"
   ]
  },
  {
   "cell_type": "code",
   "execution_count": null,
   "id": "2047daf6-f822-42d5-99ca-6d04ecb34344",
   "metadata": {},
   "outputs": [],
   "source": []
  },
  {
   "cell_type": "code",
   "execution_count": null,
   "id": "735aef10-fc87-49ec-9fda-9ecd1aba2d8a",
   "metadata": {},
   "outputs": [],
   "source": []
  },
  {
   "cell_type": "code",
   "execution_count": null,
   "id": "6c7fa430-e537-455d-85ff-4baf9cb2c162",
   "metadata": {},
   "outputs": [],
   "source": []
  },
  {
   "cell_type": "code",
   "execution_count": null,
   "id": "24a9bb24-e52c-4882-94d9-584caba3e6f7",
   "metadata": {},
   "outputs": [],
   "source": []
  },
  {
   "cell_type": "code",
   "execution_count": null,
   "id": "90ebf439-c942-4719-b666-a4f1fa88337d",
   "metadata": {},
   "outputs": [],
   "source": []
  },
  {
   "cell_type": "code",
   "execution_count": null,
   "id": "de7288a7-e7a3-4621-b824-795909728dc9",
   "metadata": {},
   "outputs": [],
   "source": []
  },
  {
   "cell_type": "code",
   "execution_count": null,
   "id": "7c77c26f-b4d1-44f8-8337-87fd7dbaa8eb",
   "metadata": {},
   "outputs": [],
   "source": []
  },
  {
   "cell_type": "code",
   "execution_count": null,
   "id": "fddea428-fc7d-4ccd-a945-479d65609ed9",
   "metadata": {},
   "outputs": [],
   "source": []
  },
  {
   "cell_type": "code",
   "execution_count": null,
   "id": "44f4d5ae-1716-4cc6-90f0-e6f5b7e1867b",
   "metadata": {},
   "outputs": [],
   "source": []
  },
  {
   "cell_type": "code",
   "execution_count": null,
   "id": "092f7281-1f4d-41cd-b35d-0b13af8c5a52",
   "metadata": {},
   "outputs": [],
   "source": []
  },
  {
   "cell_type": "code",
   "execution_count": null,
   "id": "1973fbf8-473e-4730-91b3-557705ee2f4a",
   "metadata": {},
   "outputs": [],
   "source": []
  },
  {
   "cell_type": "code",
   "execution_count": null,
   "id": "8c84f511-bce5-47e4-89b6-f8b246136026",
   "metadata": {},
   "outputs": [],
   "source": []
  },
  {
   "cell_type": "code",
   "execution_count": null,
   "id": "2d1222e3-bc8f-4f66-8870-e499fe3dcd7a",
   "metadata": {},
   "outputs": [],
   "source": []
  },
  {
   "cell_type": "code",
   "execution_count": null,
   "id": "0421dceb-f17d-4016-8b23-959655a35b28",
   "metadata": {},
   "outputs": [],
   "source": []
  },
  {
   "cell_type": "code",
   "execution_count": null,
   "id": "279aab9f-b44d-45ff-bbc2-916a4fc0670b",
   "metadata": {},
   "outputs": [],
   "source": []
  },
  {
   "cell_type": "code",
   "execution_count": 25,
   "id": "3ffd94c8-2ed6-4214-90ca-dc7cfec96548",
   "metadata": {
    "tags": []
   },
   "outputs": [
    {
     "data": {
      "text/plain": [
       "serializable_to_choicemap (generic function with 1 method)"
      ]
     },
     "execution_count": 25,
     "metadata": {},
     "output_type": "execute_result"
    }
   ],
   "source": [
    "function choicemap_to_serializable(cm)\n",
    "    address_to_value = collect(get_values_shallow(cm))\n",
    "    address_to_sub = [\n",
    "        (addr, choicemap_to_serializable(submap))\n",
    "        for (addr, submap) in get_submaps_shallow(cm)\n",
    "    ]\n",
    "    return (address_to_value, address_to_sub)\n",
    "end\n",
    "function serializable_to_choicemap(s)\n",
    "    (a_to_v, a_to_s) = s\n",
    "    cm = choicemap()\n",
    "    for (a, v) in a_to_v\n",
    "        cm[a] = v\n",
    "    end\n",
    "    for (a, s) in a_to_s\n",
    "        Gen.set_submap!(cm, a, serializable_to_choicemap(s))\n",
    "    end\n",
    "    return cm\n",
    "end"
   ]
  },
  {
   "cell_type": "code",
   "execution_count": 36,
   "id": "d95d157e-45a2-4878-8967-c46bf32bec59",
   "metadata": {
    "tags": []
   },
   "outputs": [],
   "source": [
    "function choicemap_to_serializable(cm)\n",
    "    address_to_value = collect(get_values_shallow(cm))\n",
    "    address_to_sub = [\n",
    "        (addr, choicemap_to_serializable(submap))\n",
    "        for (addr, submap) in get_submaps_shallow(cm)\n",
    "    ]\n",
    "    return (address_to_value, address_to_sub)\n",
    "end\n",
    "function serializable_to_choicemap(s)\n",
    "    (a_to_v, a_to_s) = s\n",
    "    cm = choicemap()\n",
    "    for (a, v) in a_to_v\n",
    "        cm[a] = v\n",
    "    end\n",
    "    for (a, s) in a_to_s\n",
    "        Gen.set_submap!(cm, a, serializable_to_choicemap(s))\n",
    "    end\n",
    "    return cm\n",
    "end\n",
    "\n",
    "import Serialization\n",
    "\n",
    "function serialize_pomdp_trace(filename, trace)\n",
    "    Serialization.serialize(filename, Dict(\n",
    "        \"args\" => get_args(trace),\n",
    "        \"choices\" => choicemap_to_serializable(get_choices(trace))\n",
    "    ))\n",
    "end\n",
    "function deserialize_pomdp_trace(filename, pomdp_trajectory_model)\n",
    "    s = Serialization.deserialize(filename)\n",
    "    args = s[\"args\"]\n",
    "    choices = serializable_to_choicemap(s[\"choices\"])\n",
    "    tr, _ = Gen.generate(pomdp_trajectory_model, args, choices)\n",
    "    return tr\n",
    "end"
   ]
  },
  {
   "cell_type": "code",
   "execution_count": 41,
   "id": "e6ef0c2d-e000-4431-bac0-1c8e8cae3bc4",
   "metadata": {
    "tags": []
   },
   "outputs": [],
   "source": [
    " using Dates\n",
    "filename = \"saves/\" * string(now()) * \"__pomdp_trace.jld\"\n",
    "serialize_pomdp_trace(filename, world_trace[])"
   ]
  },
  {
   "cell_type": "code",
   "execution_count": 42,
   "id": "96048b44-a6c0-42c4-9dda-25b008e262c8",
   "metadata": {
    "tags": []
   },
   "outputs": [
    {
     "name": "stderr",
     "output_type": "stream",
     "text": [
      "\u001b[33m\u001b[1m┌ \u001b[22m\u001b[39m\u001b[33m\u001b[1mWarning: \u001b[22m\u001b[39msending message to a closed websocket\n",
      "\u001b[33m\u001b[1m└ \u001b[22m\u001b[39m\u001b[90m@ JSServe ~/.julia/packages/JSServe/BRpDB/src/connection/websocket.jl:40\u001b[39m\n"
     ]
    }
   ],
   "source": [
    "tr2 = deserialize_pomdp_trace(filename, trajectory_model);"
   ]
  },
  {
   "cell_type": "code",
   "execution_count": 40,
   "id": "43b11cf8-54f4-465c-9bb2-3bc6ef8a22b0",
   "metadata": {
    "tags": []
   },
   "outputs": [
    {
     "data": {
      "text/plain": [
       "true"
      ]
     },
     "execution_count": 40,
     "metadata": {},
     "output_type": "execute_result"
    },
    {
     "name": "stderr",
     "output_type": "stream",
     "text": [
      "\u001b[33m\u001b[1m┌ \u001b[22m\u001b[39m\u001b[33m\u001b[1mWarning: \u001b[22m\u001b[39mObservable 82562 not found :( \n",
      "\u001b[33m\u001b[1m└ \u001b[22m\u001b[39m\u001b[90m@ JSServe ~/.julia/packages/JSServe/BRpDB/src/serialization/protocol.jl:32\u001b[39m\n",
      "\u001b[33m\u001b[1m┌ \u001b[22m\u001b[39m\u001b[33m\u001b[1mWarning: \u001b[22m\u001b[39mObservable 82562 not found :( \n",
      "\u001b[33m\u001b[1m└ \u001b[22m\u001b[39m\u001b[90m@ JSServe ~/.julia/packages/JSServe/BRpDB/src/serialization/protocol.jl:32\u001b[39m\n",
      "\u001b[33m\u001b[1m┌ \u001b[22m\u001b[39m\u001b[33m\u001b[1mWarning: \u001b[22m\u001b[39mObservable 82562 not found :( \n",
      "\u001b[33m\u001b[1m└ \u001b[22m\u001b[39m\u001b[90m@ JSServe ~/.julia/packages/JSServe/BRpDB/src/serialization/protocol.jl:32\u001b[39m\n",
      "\u001b[33m\u001b[1m┌ \u001b[22m\u001b[39m\u001b[33m\u001b[1mWarning: \u001b[22m\u001b[39mObservable 82562 not found :( \n",
      "\u001b[33m\u001b[1m└ \u001b[22m\u001b[39m\u001b[90m@ JSServe ~/.julia/packages/JSServe/BRpDB/src/serialization/protocol.jl:32\u001b[39m\n",
      "\u001b[33m\u001b[1m┌ \u001b[22m\u001b[39m\u001b[33m\u001b[1mWarning: \u001b[22m\u001b[39mObservable 82562 not found :( \n",
      "\u001b[33m\u001b[1m└ \u001b[22m\u001b[39m\u001b[90m@ JSServe ~/.julia/packages/JSServe/BRpDB/src/serialization/protocol.jl:32\u001b[39m\n",
      "\u001b[33m\u001b[1m┌ \u001b[22m\u001b[39m\u001b[33m\u001b[1mWarning: \u001b[22m\u001b[39mObservable 82562 not found :( \n",
      "\u001b[33m\u001b[1m└ \u001b[22m\u001b[39m\u001b[90m@ JSServe ~/.julia/packages/JSServe/BRpDB/src/serialization/protocol.jl:32\u001b[39m\n",
      "\u001b[33m\u001b[1m┌ \u001b[22m\u001b[39m\u001b[33m\u001b[1mWarning: \u001b[22m\u001b[39mObservable 82562 not found :( \n",
      "\u001b[33m\u001b[1m└ \u001b[22m\u001b[39m\u001b[90m@ JSServe ~/.julia/packages/JSServe/BRpDB/src/serialization/protocol.jl:32\u001b[39m\n",
      "\u001b[33m\u001b[1m┌ \u001b[22m\u001b[39m\u001b[33m\u001b[1mWarning: \u001b[22m\u001b[39mObservable 82562 not found :( \n",
      "\u001b[33m\u001b[1m└ \u001b[22m\u001b[39m\u001b[90m@ JSServe ~/.julia/packages/JSServe/BRpDB/src/serialization/protocol.jl:32\u001b[39m\n",
      "\u001b[33m\u001b[1m┌ \u001b[22m\u001b[39m\u001b[33m\u001b[1mWarning: \u001b[22m\u001b[39mObservable 82562 not found :( \n",
      "\u001b[33m\u001b[1m└ \u001b[22m\u001b[39m\u001b[90m@ JSServe ~/.julia/packages/JSServe/BRpDB/src/serialization/protocol.jl:32\u001b[39m\n",
      "\u001b[33m\u001b[1m┌ \u001b[22m\u001b[39m\u001b[33m\u001b[1mWarning: \u001b[22m\u001b[39mObservable 82562 not found :( \n",
      "\u001b[33m\u001b[1m└ \u001b[22m\u001b[39m\u001b[90m@ JSServe ~/.julia/packages/JSServe/BRpDB/src/serialization/protocol.jl:32\u001b[39m\n",
      "\u001b[33m\u001b[1m┌ \u001b[22m\u001b[39m\u001b[33m\u001b[1mWarning: \u001b[22m\u001b[39mObservable 82562 not found :( \n",
      "\u001b[33m\u001b[1m└ \u001b[22m\u001b[39m\u001b[90m@ JSServe ~/.julia/packages/JSServe/BRpDB/src/serialization/protocol.jl:32\u001b[39m\n",
      "\u001b[33m\u001b[1m┌ \u001b[22m\u001b[39m\u001b[33m\u001b[1mWarning: \u001b[22m\u001b[39mObservable 82562 not found :( \n",
      "\u001b[33m\u001b[1m└ \u001b[22m\u001b[39m\u001b[90m@ JSServe ~/.julia/packages/JSServe/BRpDB/src/serialization/protocol.jl:32\u001b[39m\n",
      "\u001b[33m\u001b[1m┌ \u001b[22m\u001b[39m\u001b[33m\u001b[1mWarning: \u001b[22m\u001b[39mObservable 82562 not found :( \n",
      "\u001b[33m\u001b[1m└ \u001b[22m\u001b[39m\u001b[90m@ JSServe ~/.julia/packages/JSServe/BRpDB/src/serialization/protocol.jl:32\u001b[39m\n",
      "\u001b[33m\u001b[1m┌ \u001b[22m\u001b[39m\u001b[33m\u001b[1mWarning: \u001b[22m\u001b[39mObservable 82562 not found :( \n",
      "\u001b[33m\u001b[1m└ \u001b[22m\u001b[39m\u001b[90m@ JSServe ~/.julia/packages/JSServe/BRpDB/src/serialization/protocol.jl:32\u001b[39m\n",
      "\u001b[33m\u001b[1m┌ \u001b[22m\u001b[39m\u001b[33m\u001b[1mWarning: \u001b[22m\u001b[39mObservable 82562 not found :( \n",
      "\u001b[33m\u001b[1m└ \u001b[22m\u001b[39m\u001b[90m@ JSServe ~/.julia/packages/JSServe/BRpDB/src/serialization/protocol.jl:32\u001b[39m\n",
      "\u001b[33m\u001b[1m┌ \u001b[22m\u001b[39m\u001b[33m\u001b[1mWarning: \u001b[22m\u001b[39mObservable 82562 not found :( \n",
      "\u001b[33m\u001b[1m└ \u001b[22m\u001b[39m\u001b[90m@ JSServe ~/.julia/packages/JSServe/BRpDB/src/serialization/protocol.jl:32\u001b[39m\n",
      "\u001b[33m\u001b[1m┌ \u001b[22m\u001b[39m\u001b[33m\u001b[1mWarning: \u001b[22m\u001b[39mObservable 82562 not found :( \n",
      "\u001b[33m\u001b[1m└ \u001b[22m\u001b[39m\u001b[90m@ JSServe ~/.julia/packages/JSServe/BRpDB/src/serialization/protocol.jl:32\u001b[39m\n",
      "\u001b[33m\u001b[1m┌ \u001b[22m\u001b[39m\u001b[33m\u001b[1mWarning: \u001b[22m\u001b[39mObservable 82562 not found :( \n",
      "\u001b[33m\u001b[1m└ \u001b[22m\u001b[39m\u001b[90m@ JSServe ~/.julia/packages/JSServe/BRpDB/src/serialization/protocol.jl:32\u001b[39m\n",
      "\u001b[33m\u001b[1m┌ \u001b[22m\u001b[39m\u001b[33m\u001b[1mWarning: \u001b[22m\u001b[39mObservable 82562 not found :( \n",
      "\u001b[33m\u001b[1m└ \u001b[22m\u001b[39m\u001b[90m@ JSServe ~/.julia/packages/JSServe/BRpDB/src/serialization/protocol.jl:32\u001b[39m\n",
      "\u001b[33m\u001b[1m┌ \u001b[22m\u001b[39m\u001b[33m\u001b[1mWarning: \u001b[22m\u001b[39mObservable 82562 not found :( \n",
      "\u001b[33m\u001b[1m└ \u001b[22m\u001b[39m\u001b[90m@ JSServe ~/.julia/packages/JSServe/BRpDB/src/serialization/protocol.jl:32\u001b[39m\n",
      "\u001b[33m\u001b[1m┌ \u001b[22m\u001b[39m\u001b[33m\u001b[1mWarning: \u001b[22m\u001b[39mObservable 82562 not found :( \n",
      "\u001b[33m\u001b[1m└ \u001b[22m\u001b[39m\u001b[90m@ JSServe ~/.julia/packages/JSServe/BRpDB/src/serialization/protocol.jl:32\u001b[39m\n",
      "\u001b[33m\u001b[1m┌ \u001b[22m\u001b[39m\u001b[33m\u001b[1mWarning: \u001b[22m\u001b[39mObservable 82562 not found :( \n",
      "\u001b[33m\u001b[1m└ \u001b[22m\u001b[39m\u001b[90m@ JSServe ~/.julia/packages/JSServe/BRpDB/src/serialization/protocol.jl:32\u001b[39m\n",
      "\u001b[33m\u001b[1m┌ \u001b[22m\u001b[39m\u001b[33m\u001b[1mWarning: \u001b[22m\u001b[39mObservable 82562 not found :( \n",
      "\u001b[33m\u001b[1m└ \u001b[22m\u001b[39m\u001b[90m@ JSServe ~/.julia/packages/JSServe/BRpDB/src/serialization/protocol.jl:32\u001b[39m\n",
      "\u001b[33m\u001b[1m┌ \u001b[22m\u001b[39m\u001b[33m\u001b[1mWarning: \u001b[22m\u001b[39mObservable 82562 not found :( \n",
      "\u001b[33m\u001b[1m└ \u001b[22m\u001b[39m\u001b[90m@ JSServe ~/.julia/packages/JSServe/BRpDB/src/serialization/protocol.jl:32\u001b[39m\n",
      "\u001b[33m\u001b[1m┌ \u001b[22m\u001b[39m\u001b[33m\u001b[1mWarning: \u001b[22m\u001b[39mObservable 82562 not found :( \n",
      "\u001b[33m\u001b[1m└ \u001b[22m\u001b[39m\u001b[90m@ JSServe ~/.julia/packages/JSServe/BRpDB/src/serialization/protocol.jl:32\u001b[39m\n",
      "\u001b[33m\u001b[1m┌ \u001b[22m\u001b[39m\u001b[33m\u001b[1mWarning: \u001b[22m\u001b[39mObservable 82562 not found :( \n",
      "\u001b[33m\u001b[1m└ \u001b[22m\u001b[39m\u001b[90m@ JSServe ~/.julia/packages/JSServe/BRpDB/src/serialization/protocol.jl:32\u001b[39m\n",
      "\u001b[33m\u001b[1m┌ \u001b[22m\u001b[39m\u001b[33m\u001b[1mWarning: \u001b[22m\u001b[39mObservable 82562 not found :( \n",
      "\u001b[33m\u001b[1m└ \u001b[22m\u001b[39m\u001b[90m@ JSServe ~/.julia/packages/JSServe/BRpDB/src/serialization/protocol.jl:32\u001b[39m\n",
      "\u001b[33m\u001b[1m┌ \u001b[22m\u001b[39m\u001b[33m\u001b[1mWarning: \u001b[22m\u001b[39mObservable 82562 not found :( \n",
      "\u001b[33m\u001b[1m└ \u001b[22m\u001b[39m\u001b[90m@ JSServe ~/.julia/packages/JSServe/BRpDB/src/serialization/protocol.jl:32\u001b[39m\n",
      "\u001b[33m\u001b[1m┌ \u001b[22m\u001b[39m\u001b[33m\u001b[1mWarning: \u001b[22m\u001b[39mObservable 82562 not found :( \n",
      "\u001b[33m\u001b[1m└ \u001b[22m\u001b[39m\u001b[90m@ JSServe ~/.julia/packages/JSServe/BRpDB/src/serialization/protocol.jl:32\u001b[39m\n",
      "\u001b[33m\u001b[1m┌ \u001b[22m\u001b[39m\u001b[33m\u001b[1mWarning: \u001b[22m\u001b[39mObservable 82562 not found :( \n",
      "\u001b[33m\u001b[1m└ \u001b[22m\u001b[39m\u001b[90m@ JSServe ~/.julia/packages/JSServe/BRpDB/src/serialization/protocol.jl:32\u001b[39m\n"
     ]
    }
   ],
   "source": [
    "get_choices(tr2) == get_choices(world_trace[])"
   ]
  },
  {
   "cell_type": "code",
   "execution_count": null,
   "id": "80313680-f3d7-490c-ae38-52f453957de7",
   "metadata": {},
   "outputs": [],
   "source": []
  }
 ],
 "metadata": {
  "kernelspec": {
   "display_name": "Julia 1.9.4",
   "language": "julia",
   "name": "julia-1.9"
  },
  "language_info": {
   "file_extension": ".jl",
   "mimetype": "application/julia",
   "name": "julia",
   "version": "1.9.4"
  }
 },
 "nbformat": 4,
 "nbformat_minor": 5
}
